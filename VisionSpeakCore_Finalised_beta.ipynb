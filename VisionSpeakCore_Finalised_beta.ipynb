{
  "cells": [
    {
      "cell_type": "markdown",
      "metadata": {
        "id": "tPQXTUNQzSmZ"
      },
      "source": [
        "##  Baseline 2 Model: ResNet-50 + CRNN + BiLSTM + CTC"
      ]
    },
    {
      "cell_type": "markdown",
      "metadata": {
        "id": "GWSbaLuLcU8w"
      },
      "source": [
        "### Model Defination"
      ]
    },
    {
      "cell_type": "code",
      "execution_count": 38,
      "metadata": {
        "colab": {
          "base_uri": "https://localhost:8080/"
        },
        "id": "TGZHZ41Ug3yP",
        "outputId": "9ea43b3c-f944-46e6-d0f2-2e9825e7d985"
      },
      "outputs": [
        {
          "name": "stdout",
          "output_type": "stream",
          "text": [
            "Requirement already satisfied: jiwer in /usr/local/lib/python3.11/dist-packages (3.1.0)\n",
            "Requirement already satisfied: click>=8.1.8 in /usr/local/lib/python3.11/dist-packages (from jiwer) (8.1.8)\n",
            "Requirement already satisfied: rapidfuzz>=3.9.7 in /usr/local/lib/python3.11/dist-packages (from jiwer) (3.13.0)\n"
          ]
        }
      ],
      "source": [
        "!pip install jiwer"
      ]
    },
    {
      "cell_type": "code",
      "execution_count": 39,
      "metadata": {
        "colab": {
          "base_uri": "https://localhost:8080/"
        },
        "id": "G3zKBG4VldwV",
        "outputId": "1ac1753c-fc23-4d91-b76b-6b2d22c7e2ae"
      },
      "outputs": [
        {
          "name": "stderr",
          "output_type": "stream",
          "text": [
            "/usr/local/lib/python3.11/dist-packages/torchvision/models/_utils.py:208: UserWarning: The parameter 'pretrained' is deprecated since 0.13 and may be removed in the future, please use 'weights' instead.\n",
            "  warnings.warn(\n",
            "/usr/local/lib/python3.11/dist-packages/torchvision/models/_utils.py:223: UserWarning: Arguments other than a weight enum or `None` for 'weights' are deprecated since 0.13 and may be removed in the future. The current behavior is equivalent to passing `weights=ResNet50_Weights.IMAGENET1K_V1`. You can also use `weights=ResNet50_Weights.DEFAULT` to get the most up-to-date weights.\n",
            "  warnings.warn(msg)\n",
            "Downloading: \"https://download.pytorch.org/models/resnet50-0676ba61.pth\" to /root/.cache/torch/hub/checkpoints/resnet50-0676ba61.pth\n",
            "100%|██████████| 97.8M/97.8M [00:00<00:00, 180MB/s]\n"
          ]
        }
      ],
      "source": [
        "# === Section 1: Imports, Model, Initialization ===\n",
        "import torch\n",
        "import torch.nn as nn\n",
        "import torch.nn.functional as F\n",
        "import torchvision.models as models\n",
        "from torch.nn.utils.rnn import pad_sequence\n",
        "import editdistance\n",
        "from jiwer import wer\n",
        "import matplotlib.pyplot as plt\n",
        "import seaborn as sns\n",
        "\n",
        "# === Tracking variables for ResNet-50 CRNN ===\n",
        "train_losses_resnet50 = []\n",
        "val_losses_resnet50 = []\n",
        "cer_list_resnet50 = []\n",
        "wer_list_resnet50 = []\n",
        "sentence_lengths_resnet50 = []\n",
        "cer_by_length_resnet50 = []\n",
        "\n",
        "class CRNN_OCR_ResNet50(nn.Module):\n",
        "    def __init__(self, num_classes):\n",
        "        super(CRNN_OCR_ResNet50, self).__init__()\n",
        "        resnet = models.resnet50(pretrained=True)\n",
        "        modules = list(resnet.children())[:-3]\n",
        "        self.cnn = nn.Sequential(*modules)\n",
        "        self.adaptive_pool = nn.AdaptiveAvgPool2d((1, None))\n",
        "        self.rnn = nn.LSTM(input_size=1024, hidden_size=256, num_layers=2,\n",
        "                           bidirectional=True, batch_first=True)\n",
        "        self.fc = nn.Linear(512, num_classes)\n",
        "\n",
        "    def forward(self, x):\n",
        "        x = x.repeat(1, 3, 1, 1)\n",
        "        features = self.cnn(x)\n",
        "        features = self.adaptive_pool(features).squeeze(2).permute(0, 2, 1)\n",
        "        rnn_out, _ = self.rnn(features)\n",
        "        output = self.fc(rnn_out).permute(1, 0, 2)\n",
        "        return output\n",
        "\n",
        "vocab_size = len(tokenizer)\n",
        "model_crnn_resnet50 = CRNN_OCR_ResNet50(num_classes=vocab_size).to(device)\n",
        "ctc_loss_fn_resnet50 = nn.CTCLoss(blank=0, zero_infinity=True)\n",
        "optimizer_resnet50 = torch.optim.AdamW(model_crnn_resnet50.parameters(), lr=1e-4)\n"
      ]
    },
    {
      "cell_type": "markdown",
      "metadata": {
        "id": "kiF4MKjhciuw"
      },
      "source": [
        "### Training Loop"
      ]
    },
    {
      "cell_type": "code",
      "execution_count": 40,
      "metadata": {
        "colab": {
          "base_uri": "https://localhost:8080/"
        },
        "id": "SsEXugYsldsu",
        "outputId": "0435ed2d-ad3e-4909-f7cc-aef6ff4de829"
      },
      "outputs": [
        {
          "name": "stdout",
          "output_type": "stream",
          "text": [
            "\n",
            "Epoch 1/20\n"
          ]
        },
        {
          "name": "stderr",
          "output_type": "stream",
          "text": [
            "Training: 100%|██████████| 5007/5007 [06:37<00:00, 12.60batch/s, loss=0.453]\n"
          ]
        },
        {
          "name": "stdout",
          "output_type": "stream",
          "text": [
            "\n",
            " Saved best ResNet50 model (epoch 1) with CER: 0.3678\n",
            "\n",
            "ResNet50 CRNN | Train Loss: 1.7153 | Val Loss: 0.4509 | CER: 0.3678 | WER: 0.6736\n",
            "Final Scores for Epoch (ResNet50 CRNN):\n",
            "Avg Train Loss: 1.7153\n",
            "Avg Val Loss:   0.4509\n",
            "Final CER:      0.3678\n",
            "Final WER:      0.6736\n",
            "\n",
            "Epoch 2/20\n"
          ]
        },
        {
          "name": "stderr",
          "output_type": "stream",
          "text": [
            "Training: 100%|██████████| 5007/5007 [06:33<00:00, 12.72batch/s, loss=0.0616]\n"
          ]
        },
        {
          "name": "stdout",
          "output_type": "stream",
          "text": [
            "\n",
            " Saved best ResNet50 model (epoch 2) with CER: 0.3173\n",
            "\n",
            "ResNet50 CRNN | Train Loss: 0.3360 | Val Loss: 0.2636 | CER: 0.3173 | WER: 0.6134\n",
            "Final Scores for Epoch (ResNet50 CRNN):\n",
            "Avg Train Loss: 0.3360\n",
            "Avg Val Loss:   0.2636\n",
            "Final CER:      0.3173\n",
            "Final WER:      0.6134\n",
            "\n",
            "Epoch 3/20\n"
          ]
        },
        {
          "name": "stderr",
          "output_type": "stream",
          "text": [
            "Training: 100%|██████████| 5007/5007 [06:35<00:00, 12.66batch/s, loss=0.396]\n"
          ]
        },
        {
          "name": "stdout",
          "output_type": "stream",
          "text": [
            "\n",
            "ResNet50 CRNN | Train Loss: 0.2255 | Val Loss: 0.2104 | CER: 0.3373 | WER: 0.5705\n",
            "Final Scores for Epoch (ResNet50 CRNN):\n",
            "Avg Train Loss: 0.2255\n",
            "Avg Val Loss:   0.2104\n",
            "Final CER:      0.3373\n",
            "Final WER:      0.5705\n",
            "\n",
            "Epoch 4/20\n"
          ]
        },
        {
          "name": "stderr",
          "output_type": "stream",
          "text": [
            "Training: 100%|██████████| 5007/5007 [06:35<00:00, 12.66batch/s, loss=0.0475]\n"
          ]
        },
        {
          "name": "stdout",
          "output_type": "stream",
          "text": [
            "\n",
            "ResNet50 CRNN | Train Loss: 0.1746 | Val Loss: 0.1971 | CER: 0.3539 | WER: 0.6460\n",
            "Final Scores for Epoch (ResNet50 CRNN):\n",
            "Avg Train Loss: 0.1746\n",
            "Avg Val Loss:   0.1971\n",
            "Final CER:      0.3539\n",
            "Final WER:      0.6460\n",
            "\n",
            "Epoch 5/20\n"
          ]
        },
        {
          "name": "stderr",
          "output_type": "stream",
          "text": [
            "Training: 100%|██████████| 5007/5007 [06:32<00:00, 12.77batch/s, loss=0.18]\n"
          ]
        },
        {
          "name": "stdout",
          "output_type": "stream",
          "text": [
            "\n",
            " Saved best ResNet50 model (epoch 5) with CER: 0.3136\n",
            "\n",
            "ResNet50 CRNN | Train Loss: 0.1414 | Val Loss: 0.1680 | CER: 0.3136 | WER: 0.5559\n",
            "Final Scores for Epoch (ResNet50 CRNN):\n",
            "Avg Train Loss: 0.1414\n",
            "Avg Val Loss:   0.1680\n",
            "Final CER:      0.3136\n",
            "Final WER:      0.5559\n",
            "\n",
            "Epoch 6/20\n"
          ]
        },
        {
          "name": "stderr",
          "output_type": "stream",
          "text": [
            "Training: 100%|██████████| 5007/5007 [06:32<00:00, 12.77batch/s, loss=0.129]\n"
          ]
        },
        {
          "name": "stdout",
          "output_type": "stream",
          "text": [
            "\n",
            " Saved best ResNet50 model (epoch 6) with CER: 0.3063\n",
            "\n",
            "ResNet50 CRNN | Train Loss: 0.1173 | Val Loss: 0.1296 | CER: 0.3063 | WER: 0.5251\n",
            "Final Scores for Epoch (ResNet50 CRNN):\n",
            "Avg Train Loss: 0.1173\n",
            "Avg Val Loss:   0.1296\n",
            "Final CER:      0.3063\n",
            "Final WER:      0.5251\n",
            "\n",
            "Epoch 7/20\n"
          ]
        },
        {
          "name": "stderr",
          "output_type": "stream",
          "text": [
            "Training: 100%|██████████| 5007/5007 [06:32<00:00, 12.76batch/s, loss=0.0542]\n"
          ]
        },
        {
          "name": "stdout",
          "output_type": "stream",
          "text": [
            "\n",
            "ResNet50 CRNN | Train Loss: 0.0970 | Val Loss: 0.1195 | CER: 0.3491 | WER: 0.6093\n",
            "Final Scores for Epoch (ResNet50 CRNN):\n",
            "Avg Train Loss: 0.0970\n",
            "Avg Val Loss:   0.1195\n",
            "Final CER:      0.3491\n",
            "Final WER:      0.6093\n",
            "\n",
            "Epoch 8/20\n"
          ]
        },
        {
          "name": "stderr",
          "output_type": "stream",
          "text": [
            "Training: 100%|██████████| 5007/5007 [06:32<00:00, 12.77batch/s, loss=0.0126]\n"
          ]
        },
        {
          "name": "stdout",
          "output_type": "stream",
          "text": [
            "\n",
            "ResNet50 CRNN | Train Loss: 0.0829 | Val Loss: 0.1044 | CER: 0.3683 | WER: 0.6350\n",
            "Final Scores for Epoch (ResNet50 CRNN):\n",
            "Avg Train Loss: 0.0829\n",
            "Avg Val Loss:   0.1044\n",
            "Final CER:      0.3683\n",
            "Final WER:      0.6350\n",
            "\n",
            "Epoch 9/20\n"
          ]
        },
        {
          "name": "stderr",
          "output_type": "stream",
          "text": [
            "Training: 100%|██████████| 5007/5007 [06:32<00:00, 12.76batch/s, loss=0.0209]\n"
          ]
        },
        {
          "name": "stdout",
          "output_type": "stream",
          "text": [
            "\n",
            "ResNet50 CRNN | Train Loss: 0.0711 | Val Loss: 0.1023 | CER: 0.3141 | WER: 0.5137\n",
            "Final Scores for Epoch (ResNet50 CRNN):\n",
            "Avg Train Loss: 0.0711\n",
            "Avg Val Loss:   0.1023\n",
            "Final CER:      0.3141\n",
            "Final WER:      0.5137\n",
            "\n",
            "Epoch 10/20\n"
          ]
        },
        {
          "name": "stderr",
          "output_type": "stream",
          "text": [
            "Training: 100%|██████████| 5007/5007 [06:32<00:00, 12.76batch/s, loss=0.069]\n"
          ]
        },
        {
          "name": "stdout",
          "output_type": "stream",
          "text": [
            "\n",
            "ResNet50 CRNN | Train Loss: 0.0614 | Val Loss: 0.0796 | CER: 0.3477 | WER: 0.5697\n",
            "Final Scores for Epoch (ResNet50 CRNN):\n",
            "Avg Train Loss: 0.0614\n",
            "Avg Val Loss:   0.0796\n",
            "Final CER:      0.3477\n",
            "Final WER:      0.5697\n",
            "\n",
            "Epoch 11/20\n"
          ]
        },
        {
          "name": "stderr",
          "output_type": "stream",
          "text": [
            "Training: 100%|██████████| 5007/5007 [06:32<00:00, 12.77batch/s, loss=0.121]\n"
          ]
        },
        {
          "name": "stdout",
          "output_type": "stream",
          "text": [
            "\n",
            "ResNet50 CRNN | Train Loss: 0.0541 | Val Loss: 0.0803 | CER: 0.3501 | WER: 0.5905\n",
            "Final Scores for Epoch (ResNet50 CRNN):\n",
            "Avg Train Loss: 0.0541\n",
            "Avg Val Loss:   0.0803\n",
            "Final CER:      0.3501\n",
            "Final WER:      0.5905\n",
            "\n",
            "Epoch 12/20\n"
          ]
        },
        {
          "name": "stderr",
          "output_type": "stream",
          "text": [
            "Training: 100%|██████████| 5007/5007 [06:32<00:00, 12.77batch/s, loss=0.0225]\n"
          ]
        },
        {
          "name": "stdout",
          "output_type": "stream",
          "text": [
            "\n",
            "ResNet50 CRNN | Train Loss: 0.0474 | Val Loss: 0.0709 | CER: 0.3248 | WER: 0.5482\n",
            "Final Scores for Epoch (ResNet50 CRNN):\n",
            "Avg Train Loss: 0.0474\n",
            "Avg Val Loss:   0.0709\n",
            "Final CER:      0.3248\n",
            "Final WER:      0.5482\n",
            "\n",
            "Epoch 13/20\n"
          ]
        },
        {
          "name": "stderr",
          "output_type": "stream",
          "text": [
            "Training: 100%|██████████| 5007/5007 [06:32<00:00, 12.76batch/s, loss=0.0395]\n"
          ]
        },
        {
          "name": "stdout",
          "output_type": "stream",
          "text": [
            "\n",
            "ResNet50 CRNN | Train Loss: 0.0420 | Val Loss: 0.0628 | CER: 0.3601 | WER: 0.6178\n",
            "Final Scores for Epoch (ResNet50 CRNN):\n",
            "Avg Train Loss: 0.0420\n",
            "Avg Val Loss:   0.0628\n",
            "Final CER:      0.3601\n",
            "Final WER:      0.6178\n",
            "\n",
            "Epoch 14/20\n"
          ]
        },
        {
          "name": "stderr",
          "output_type": "stream",
          "text": [
            "Training: 100%|██████████| 5007/5007 [06:32<00:00, 12.77batch/s, loss=0.0254]\n"
          ]
        },
        {
          "name": "stdout",
          "output_type": "stream",
          "text": [
            "\n",
            "ResNet50 CRNN | Train Loss: 0.0375 | Val Loss: 0.0802 | CER: 0.3284 | WER: 0.5558\n",
            "Final Scores for Epoch (ResNet50 CRNN):\n",
            "Avg Train Loss: 0.0375\n",
            "Avg Val Loss:   0.0802\n",
            "Final CER:      0.3284\n",
            "Final WER:      0.5558\n",
            "\n",
            "Epoch 15/20\n"
          ]
        },
        {
          "name": "stderr",
          "output_type": "stream",
          "text": [
            "Training: 100%|██████████| 5007/5007 [06:32<00:00, 12.76batch/s, loss=0.029]\n"
          ]
        },
        {
          "name": "stdout",
          "output_type": "stream",
          "text": [
            "\n",
            "ResNet50 CRNN | Train Loss: 0.0333 | Val Loss: 0.0709 | CER: 0.3774 | WER: 0.6363\n",
            "Final Scores for Epoch (ResNet50 CRNN):\n",
            "Avg Train Loss: 0.0333\n",
            "Avg Val Loss:   0.0709\n",
            "Final CER:      0.3774\n",
            "Final WER:      0.6363\n",
            "\n",
            "Epoch 16/20\n"
          ]
        },
        {
          "name": "stderr",
          "output_type": "stream",
          "text": [
            "Training: 100%|██████████| 5007/5007 [06:32<00:00, 12.75batch/s, loss=0.00384]\n"
          ]
        },
        {
          "name": "stdout",
          "output_type": "stream",
          "text": [
            "\n",
            "ResNet50 CRNN | Train Loss: 0.0326 | Val Loss: 0.0556 | CER: 0.3563 | WER: 0.5960\n",
            "Final Scores for Epoch (ResNet50 CRNN):\n",
            "Avg Train Loss: 0.0326\n",
            "Avg Val Loss:   0.0556\n",
            "Final CER:      0.3563\n",
            "Final WER:      0.5960\n",
            "\n",
            "Epoch 17/20\n"
          ]
        },
        {
          "name": "stderr",
          "output_type": "stream",
          "text": [
            "Training: 100%|██████████| 5007/5007 [06:32<00:00, 12.76batch/s, loss=0.0774]\n"
          ]
        },
        {
          "name": "stdout",
          "output_type": "stream",
          "text": [
            "\n",
            "ResNet50 CRNN | Train Loss: 0.0285 | Val Loss: 0.0657 | CER: 0.3384 | WER: 0.6000\n",
            "Final Scores for Epoch (ResNet50 CRNN):\n",
            "Avg Train Loss: 0.0285\n",
            "Avg Val Loss:   0.0657\n",
            "Final CER:      0.3384\n",
            "Final WER:      0.6000\n",
            "\n",
            "Epoch 18/20\n"
          ]
        },
        {
          "name": "stderr",
          "output_type": "stream",
          "text": [
            "Training: 100%|██████████| 5007/5007 [06:32<00:00, 12.76batch/s, loss=0.0153]\n"
          ]
        },
        {
          "name": "stdout",
          "output_type": "stream",
          "text": [
            "\n",
            "ResNet50 CRNN | Train Loss: 0.0266 | Val Loss: 0.0626 | CER: 0.3583 | WER: 0.6062\n",
            "Final Scores for Epoch (ResNet50 CRNN):\n",
            "Avg Train Loss: 0.0266\n",
            "Avg Val Loss:   0.0626\n",
            "Final CER:      0.3583\n",
            "Final WER:      0.6062\n",
            "\n",
            "Epoch 19/20\n"
          ]
        },
        {
          "name": "stderr",
          "output_type": "stream",
          "text": [
            "Training: 100%|██████████| 5007/5007 [06:32<00:00, 12.75batch/s, loss=0.0302]\n"
          ]
        },
        {
          "name": "stdout",
          "output_type": "stream",
          "text": [
            "\n",
            "ResNet50 CRNN | Train Loss: 0.0243 | Val Loss: 0.0505 | CER: 0.3702 | WER: 0.6340\n",
            "Final Scores for Epoch (ResNet50 CRNN):\n",
            "Avg Train Loss: 0.0243\n",
            "Avg Val Loss:   0.0505\n",
            "Final CER:      0.3702\n",
            "Final WER:      0.6340\n",
            "\n",
            "Epoch 20/20\n"
          ]
        },
        {
          "name": "stderr",
          "output_type": "stream",
          "text": [
            "Training: 100%|██████████| 5007/5007 [06:32<00:00, 12.75batch/s, loss=0.00475]\n"
          ]
        },
        {
          "name": "stdout",
          "output_type": "stream",
          "text": [
            "\n",
            "ResNet50 CRNN | Train Loss: 0.0220 | Val Loss: 0.0583 | CER: 0.3883 | WER: 0.6203\n",
            "Final Scores for Epoch (ResNet50 CRNN):\n",
            "Avg Train Loss: 0.0220\n",
            "Avg Val Loss:   0.0583\n",
            "Final CER:      0.3883\n",
            "Final WER:      0.6203\n"
          ]
        }
      ],
      "source": [
        "from tqdm import tqdm\n",
        "import torch.nn.functional as F\n",
        "import editdistance\n",
        "from jiwer import wer\n",
        "import matplotlib.pyplot as plt\n",
        "\n",
        "num_epochs = 20\n",
        "best_model_path = \"best_model_resnet50.pth\"\n",
        "\n",
        "for epoch in range(num_epochs):\n",
        "    model_crnn_resnet50.train()\n",
        "    total_train_loss = 0\n",
        "    total_batches = len(train_loader)\n",
        "\n",
        "    print(f\"\\nEpoch {epoch + 1}/{num_epochs}\")\n",
        "\n",
        "    # === Train Loop with Progress Bar ===\n",
        "    train_loader_progress = tqdm(train_loader, desc=\"Training\", unit=\"batch\")\n",
        "    for batch in train_loader_progress:\n",
        "        images = batch[\"images\"].to(device)\n",
        "        labels = batch[\"labels\"].to(device)\n",
        "        label_lengths = batch[\"label_lengths\"].to(device)\n",
        "\n",
        "        logits = model_crnn_resnet50(images)\n",
        "        input_lengths = torch.full((logits.size(1),), logits.size(0), dtype=torch.long).to(device)\n",
        "        targets = torch.cat([labels[i][:label_lengths[i]] for i in range(len(labels))]).to(device)\n",
        "\n",
        "        log_probs = F.log_softmax(logits, dim=2)\n",
        "        loss = ctc_loss_fn_resnet50(log_probs, targets, input_lengths, label_lengths)\n",
        "\n",
        "        optimizer_resnet50.zero_grad()\n",
        "        loss.backward()\n",
        "        optimizer_resnet50.step()\n",
        "\n",
        "        total_train_loss += loss.item()\n",
        "        train_loader_progress.set_postfix(loss=loss.item())\n",
        "\n",
        "    avg_train_loss = total_train_loss / total_batches\n",
        "    train_losses_resnet50.append(avg_train_loss)\n",
        "\n",
        "    # === Evaluation (PER EPOCH) ===\n",
        "    model_crnn_resnet50.eval()\n",
        "    total_val_loss = 0\n",
        "    total_cer = 0\n",
        "    total_wer = 0\n",
        "    sample_count = 0\n",
        "\n",
        "    with torch.no_grad():\n",
        "        for batch in test_loader:\n",
        "            images = batch[\"images\"].to(device)\n",
        "            labels = batch[\"labels\"].to(device)\n",
        "            label_lengths = batch[\"label_lengths\"].to(device)\n",
        "\n",
        "            logits = model_crnn_resnet50(images)\n",
        "            input_lengths = torch.full((logits.size(1),), logits.size(0), dtype=torch.long).to(device)\n",
        "            targets = torch.cat([labels[i][:label_lengths[i]] for i in range(len(labels))]).to(device)\n",
        "\n",
        "            log_probs = F.log_softmax(logits, dim=2)\n",
        "            val_loss = ctc_loss_fn_resnet50(log_probs, targets, input_lengths, label_lengths)\n",
        "            total_val_loss += val_loss.item()\n",
        "\n",
        "            preds = logits.softmax(2).argmax(2).permute(1, 0).cpu().numpy()\n",
        "            for i, pred in enumerate(preds):\n",
        "                pred_text = tokenizer.decode(pred)\n",
        "                true_text = tokenizer.decode(labels[i][:label_lengths[i]].cpu().numpy())\n",
        "\n",
        "                cer_val = editdistance.eval(pred_text, true_text) / max(1, len(true_text))\n",
        "                wer_val = wer(true_text, pred_text)\n",
        "\n",
        "                total_cer += cer_val\n",
        "                total_wer += wer_val\n",
        "                sentence_lengths_resnet50.append(len(true_text))\n",
        "                cer_by_length_resnet50.append(cer_val)\n",
        "                sample_count += 1\n",
        "\n",
        "    avg_val_loss_resnet50 = total_val_loss / len(test_loader)\n",
        "    avg_cer_resnet50 = total_cer / sample_count\n",
        "    avg_wer_resnet50 = total_wer / sample_count\n",
        "\n",
        "    val_losses_resnet50.append(avg_val_loss_resnet50)\n",
        "    cer_list_resnet50.append(avg_cer_resnet50)\n",
        "    wer_list_resnet50.append(avg_wer_resnet50)\n",
        "\n",
        "    # === Save best ResNet50 model based on CER ===\n",
        "    if len(cer_list_resnet50) == 1 or avg_cer_resnet50 < min(cer_list_resnet50[:-1]):\n",
        "        torch.save({\n",
        "            'model_state_dict': model_crnn_resnet50.state_dict(),\n",
        "            'optimizer_state_dict': optimizer_resnet50.state_dict(),\n",
        "            'vocab_size': vocab_size,\n",
        "            'tokenizer_config': tokenizer.char2idx\n",
        "        }, best_model_path)\n",
        "        print(f\"\\n Saved best ResNet50 model (epoch {epoch + 1}) with CER: {avg_cer_resnet50:.4f}\")\n",
        "\n",
        "    print(f\"\\nResNet50 CRNN | Train Loss: {avg_train_loss:.4f} | Val Loss: {avg_val_loss_resnet50:.4f} | CER: {avg_cer_resnet50:.4f} | WER: {avg_wer_resnet50:.4f}\")\n",
        "    print(f\"Final Scores for Epoch (ResNet50 CRNN):\")\n",
        "    print(f\"Avg Train Loss: {train_losses_resnet50[-1]:.4f}\")\n",
        "    print(f\"Avg Val Loss:   {val_losses_resnet50[-1]:.4f}\")\n",
        "    print(f\"Final CER:      {cer_list_resnet50[-1]:.4f}\")\n",
        "    print(f\"Final WER:      {wer_list_resnet50[-1]:.4f}\")"
      ]
    },
    {
      "cell_type": "code",
      "execution_count": 41,
      "metadata": {
        "colab": {
          "base_uri": "https://localhost:8080/",
          "height": 1000
        },
        "id": "mjEP6B1EWgqM",
        "outputId": "3fc6013f-2d46-4303-c23a-f805138bd7d2"
      },
      "outputs": [
        {
          "data": {
            "image/png": "[encoded data removed]",
            "text/plain": [
              "<Figure size 1000x500 with 1 Axes>"
            ]
          },
          "metadata": {},
          "output_type": "display_data"
        },
        {
          "data": {
            "image/png": "[encoded data removed]",
            "text/plain": [
              "<Figure size 1000x500 with 1 Axes>"
            ]
          },
          "metadata": {},
          "output_type": "display_data"
        },
        {
          "data": {
            "image/png": "[encoded data removed]",
            "text/plain": [
              "<Figure size 1000x500 with 1 Axes>"
            ]
          },
          "metadata": {},
          "output_type": "display_data"
        }
      ],
      "source": [
        "import matplotlib.pyplot as plt\n",
        "import seaborn as sns\n",
        "\n",
        "# Ensure epoch indexing starts from 1\n",
        "epochs = list(range(1, len(train_losses_resnet50) + 1))\n",
        "\n",
        "# === Loss Curve ===\n",
        "plt.figure(figsize=(10, 5))\n",
        "plt.plot(epochs, train_losses_resnet50, label='Train Loss')\n",
        "plt.plot(epochs, val_losses_resnet50, label='Validation Loss')\n",
        "plt.title('ResNet50 CRNN - Loss Curve')\n",
        "plt.xlabel('Epoch')\n",
        "plt.ylabel('Loss')\n",
        "plt.xticks(epochs)\n",
        "plt.legend()\n",
        "plt.grid(True)\n",
        "plt.tight_layout()\n",
        "plt.show()\n",
        "\n",
        "# === CER & WER over Epochs ===\n",
        "plt.figure(figsize=(10, 5))\n",
        "plt.plot(epochs, cer_list_resnet50, label='CER')\n",
        "plt.plot(epochs, wer_list_resnet50, label='WER')\n",
        "plt.title('ResNet50 CRNN - CER & WER Over Epochs')\n",
        "plt.xlabel('Epoch')\n",
        "plt.ylabel('Error Rate')\n",
        "plt.xticks(epochs)\n",
        "plt.legend()\n",
        "plt.grid(True)\n",
        "plt.tight_layout()\n",
        "plt.show()\n",
        "\n",
        "# === Sentence Length vs CER ===\n",
        "plt.figure(figsize=(10, 5))\n",
        "sns.histplot(x=sentence_lengths_resnet50, weights=cer_by_length_resnet50, bins=20, kde=False)\n",
        "plt.title('ResNet50 CRNN - Sentence Length vs CER')\n",
        "plt.xlabel('Sentence Length')\n",
        "plt.ylabel('CER')\n",
        "plt.grid(True)\n",
        "plt.tight_layout()\n",
        "plt.show()"
      ]
    },
    {
      "cell_type": "code",
      "execution_count": 42,
      "metadata": {
        "colab": {
          "base_uri": "https://localhost:8080/"
        },
        "id": "p7ToGiyqldq5",
        "outputId": "52a42a95-0e2d-469d-cfab-5fefd532ffd7"
      },
      "outputs": [
        {
          "name": "stdout",
          "output_type": "stream",
          "text": [
            "Predicted: <hi>  कााल  ममें  अररब  के  अमीरर  ममुल्क़़  भी  करर्ज़़  लेने  पर  हुुए\n",
            "Actual   : <hi> काल में अरब के अमीर मुल्क़ भी कर्ज़ लेने पर हुए\n",
            "CER      : 0.385\n",
            "----\n",
            "Predicted: <hi>  ट््ररंप:  ललगतताा है किि  अदााललतेंं भी  सििियााससीी  हो गगई\n",
            "Actual   : <hi> ट्रंप: लगता है कि अदालतें भी सियासी हो गई\n",
            "CER      : 0.435\n",
            "----\n",
            "Predicted: <hi>  वर्ल्ड  कप   20019:  ऑसस्ट्रेलिियाा  ने  वेस्टइंंडीज़़  कोो ररनोंं सेे\n",
            "Actual   : <hi> वर्ल्ड कप 2019: ऑस्ट्रेलिया ने वेस्टइंडीज़ को रनों से\n",
            "CER      : 0.310\n",
            "----\n",
            "Predicted: <en> thee  year  thee  ministeer  wroote  ppersonallly to  some  two\n",
            "Actual   : <en> the year the minister wrote personally to some two\n",
            "CER      : 0.236\n",
            "----\n",
            "Predicted: <hi>  रूूस  ककी  योजननााा   पर   पी--5  देेशोंं  ककी\n",
            "Actual   : <hi> रूस की योजना पर पी-5 देशों की\n",
            "CER      : 0.529\n",
            "----\n",
            "Predicted: <en>  rreecoord     anyway\n",
            "Actual   : <en> record  anyway\n",
            "CER      : 0.368\n",
            "----\n",
            "Predicted: <en> a lot   of  iit  iis   mmeviitaabble  sso  tthat   iinndustrry   annd\n",
            "Actual   : <en> a lot of it is inevitable so that industry and\n",
            "CER      : 0.490\n",
            "----\n",
            "Predicted: <en> to   hhee   ddescriibed  hiis   diistiiingwiisheed\n",
            "Actual   : <en> so he described his distinguished\n",
            "CER      : 0.500\n",
            "----\n",
            "Predicted: <en> hhaadd  cchaimed  tad  rehiief  on  thee   pur\n",
            "Actual   : <en> had claimed tax relief on the pur\n",
            "CER      : 0.421\n",
            "----\n",
            "Predicted: <en> comiinnng  iinntto  tthe  town   frrom  sumroundiinng\n",
            "Actual   : <en> coming into the town from surrounding\n",
            "CER      : 0.405\n",
            "----\n",
            "\n",
            "Average CER (ResNet50) over 10 samples: 0.408\n"
          ]
        }
      ],
      "source": [
        "from jiwer import cer\n",
        "\n",
        "total_cer_resnet50 = 0\n",
        "sample_count_resnet50 = 0\n",
        "\n",
        "with torch.no_grad():\n",
        "    for batch in test_loader:\n",
        "        images = batch[\"images\"].to(device)\n",
        "        labels = batch[\"labels\"]\n",
        "\n",
        "        logits = model_crnn_resnet50(images)  # [W, B, C]\n",
        "        preds = logits.softmax(2).argmax(2).permute(1, 0)  # [B, W]\n",
        "\n",
        "        for i, pred in enumerate(preds):\n",
        "            if sample_count_resnet50 >= 10:\n",
        "                break\n",
        "\n",
        "            decoded = tokenizer.decode(pred.cpu().numpy())\n",
        "            target_text = tokenizer.decode(labels[i].cpu().numpy())\n",
        "\n",
        "            cer_score = cer(target_text, decoded)\n",
        "            total_cer_resnet50 += cer_score\n",
        "\n",
        "            print(f\"Predicted: {decoded}\")\n",
        "            print(f\"Actual   : {target_text}\")\n",
        "            print(f\"CER      : {cer_score:.3f}\")\n",
        "            print(\"----\")\n",
        "\n",
        "            sample_count_resnet50 += 1\n",
        "\n",
        "        if sample_count_resnet50 >= 10:\n",
        "            break\n",
        "\n",
        "avg_cer_resnet50 = total_cer_resnet50 / sample_count_resnet50\n",
        "print(f\"\\nAverage CER (ResNet50) over {sample_count_resnet50} samples: {avg_cer_resnet50:.3f}\")"
      ]
    },
    {
      "cell_type": "markdown",
      "metadata": {
        "id": "KSDfchWcm-4A"
      },
      "source": [
        "# ResNet 101\n",
        "\n"
      ]
    },
    {
      "cell_type": "code",
      "execution_count": null,
      "metadata": {
        "colab": {
          "base_uri": "https://localhost:8080/"
        },
        "id": "bSbVUUfKejiT",
        "outputId": "30c72147-cf7f-4dfa-c476-11cbf202d445"
      },
      "outputs": [
        {
          "name": "stdout",
          "output_type": "stream",
          "text": [
            "Collecting jiwer\n",
            "  Downloading jiwer-3.1.0-py3-none-any.whl.metadata (2.6 kB)\n",
            "Requirement already satisfied: click>=8.1.8 in /usr/local/lib/python3.11/dist-packages (from jiwer) (8.1.8)\n",
            "Collecting rapidfuzz>=3.9.7 (from jiwer)\n",
            "  Downloading rapidfuzz-3.13.0-cp311-cp311-manylinux_2_17_x86_64.manylinux2014_x86_64.whl.metadata (12 kB)\n",
            "Downloading jiwer-3.1.0-py3-none-any.whl (22 kB)\n",
            "Downloading rapidfuzz-3.13.0-cp311-cp311-manylinux_2_17_x86_64.manylinux2014_x86_64.whl (3.1 MB)\n",
            "\u001b[2K   \u001b[90m━━━━━━━━━━━━━━━━━━━━━━━━━━━━━━━━━━━━━━━━\u001b[0m \u001b[32m3.1/3.1 MB\u001b[0m \u001b[31m36.5 MB/s\u001b[0m eta \u001b[36m0:00:00\u001b[0m\n",
            "\u001b[?25hInstalling collected packages: rapidfuzz, jiwer\n",
            "Successfully installed jiwer-3.1.0 rapidfuzz-3.13.0\n"
          ]
        }
      ],
      "source": [
        "!pip install jiwer"
      ]
    },
    {
      "cell_type": "code",
      "execution_count": 43,
      "metadata": {
        "id": "o049kubNctTk"
      },
      "outputs": [],
      "source": [
        "import torch\n",
        "import torch.nn as nn\n",
        "import torch.nn.functional as F\n",
        "import torchvision.models as models\n",
        "from torch.nn.utils.rnn import pad_sequence\n",
        "import editdistance\n",
        "from jiwer import wer\n",
        "import matplotlib.pyplot as plt\n",
        "import seaborn as sns\n",
        "\n",
        "# === Tracking variables for ResNet-101 CRNN ===\n",
        "train_losses_resnet101 = []\n",
        "val_losses_resnet101 = []\n",
        "cer_list_resnet101 = []\n",
        "wer_list_resnet101 = []\n",
        "sentence_lengths_resnet101 = []\n",
        "cer_by_length_resnet101 = []\n",
        "\n",
        "\n",
        "class CRNN_OCR_ResNet101(nn.Module):\n",
        "    def __init__(self, num_classes):\n",
        "        super(CRNN_OCR_ResNet101, self).__init__()\n",
        "\n",
        "        resnet = models.resnet101(pretrained=True)\n",
        "        modules = list(resnet.children())[:-3]  # Keep up to conv4_x\n",
        "        self.cnn = nn.Sequential(*modules)\n",
        "\n",
        "        self.adaptive_pool = nn.AdaptiveAvgPool2d((1, None))\n",
        "\n",
        "        self.rnn = nn.LSTM(\n",
        "            input_size=1024,\n",
        "            hidden_size=256,\n",
        "            num_layers=2,\n",
        "            bidirectional=True,\n",
        "            batch_first=True\n",
        "        )\n",
        "\n",
        "        self.fc = nn.Linear(512, num_classes)\n",
        "\n",
        "    def forward(self, x):\n",
        "        x = x.repeat(1, 3, 1, 1)  # Grayscale to RGB\n",
        "        features = self.cnn(x)\n",
        "        features = self.adaptive_pool(features)\n",
        "        features = features.squeeze(2).permute(0, 2, 1)\n",
        "        rnn_out, _ = self.rnn(features)\n",
        "        output = self.fc(rnn_out).permute(1, 0, 2)  # [W, B, num_classes]\n",
        "        return output\n"
      ]
    },
    {
      "cell_type": "code",
      "execution_count": 44,
      "metadata": {
        "colab": {
          "base_uri": "https://localhost:8080/"
        },
        "id": "Cf630-xms-zE",
        "outputId": "62e93cf1-af54-4291-ee49-e1380a2ab19a"
      },
      "outputs": [
        {
          "name": "stderr",
          "output_type": "stream",
          "text": [
            "/usr/local/lib/python3.11/dist-packages/torchvision/models/_utils.py:208: UserWarning: The parameter 'pretrained' is deprecated since 0.13 and may be removed in the future, please use 'weights' instead.\n",
            "  warnings.warn(\n",
            "/usr/local/lib/python3.11/dist-packages/torchvision/models/_utils.py:223: UserWarning: Arguments other than a weight enum or `None` for 'weights' are deprecated since 0.13 and may be removed in the future. The current behavior is equivalent to passing `weights=ResNet101_Weights.IMAGENET1K_V1`. You can also use `weights=ResNet101_Weights.DEFAULT` to get the most up-to-date weights.\n",
            "  warnings.warn(msg)\n",
            "Downloading: \"https://download.pytorch.org/models/resnet101-63fe2227.pth\" to /root/.cache/torch/hub/checkpoints/resnet101-63fe2227.pth\n",
            "100%|██████████| 171M/171M [00:00<00:00, 228MB/s]\n",
            "/usr/local/lib/python3.11/dist-packages/torch/optim/lr_scheduler.py:62: UserWarning: The verbose parameter is deprecated. Please use get_last_lr() to access the learning rate.\n",
            "  warnings.warn(\n"
          ]
        }
      ],
      "source": [
        "vocab_size = len(tokenizer)\n",
        "model_crnn_resnet101 = CRNN_OCR_ResNet101(num_classes=vocab_size).to(device)\n",
        "\n",
        "ctc_loss_fn = nn.CTCLoss(blank=0, zero_infinity=True)\n",
        "optimizer_crnn_resnet101 = torch.optim.AdamW(model_crnn_resnet101.parameters(), lr=1e-4)\n",
        "\n",
        "scheduler = torch.optim.lr_scheduler.ReduceLROnPlateau(\n",
        "    optimizer_crnn_resnet101, mode='min', factor=0.5, patience=3, verbose=True\n",
        ")"
      ]
    },
    {
      "cell_type": "code",
      "execution_count": 45,
      "metadata": {
        "colab": {
          "base_uri": "https://localhost:8080/"
        },
        "id": "3NXuI-G2quo5",
        "outputId": "8cfe8036-b52f-4274-c3ed-176b59c5c513"
      },
      "outputs": [
        {
          "name": "stdout",
          "output_type": "stream",
          "text": [
            "\n",
            "Epoch 1/20\n"
          ]
        },
        {
          "name": "stderr",
          "output_type": "stream",
          "text": [
            "Training: 100%|██████████| 5007/5007 [08:43<00:00,  9.56batch/s, loss=0.173]\n"
          ]
        },
        {
          "name": "stdout",
          "output_type": "stream",
          "text": [
            "\n",
            " Saved best model (epoch 1) with CER: 0.3402\n",
            "ResNet101 CRNN | Train Loss: 1.4164 | Val Loss: 0.3703 | CER: 0.3402 | WER: 0.5907\n",
            "\n",
            "Final Scores (ResNet101 CRNN):\n",
            "Avg Train Loss: 1.4164\n",
            "Avg Val Loss:   0.3703\n",
            "Final CER:      0.3402\n",
            "Final WER:      0.5907\n",
            "\n",
            "Epoch 2/20\n"
          ]
        },
        {
          "name": "stderr",
          "output_type": "stream",
          "text": [
            "Training: 100%|██████████| 5007/5007 [08:43<00:00,  9.56batch/s, loss=0.444]\n"
          ]
        },
        {
          "name": "stdout",
          "output_type": "stream",
          "text": [
            "\n",
            " Saved best model (epoch 2) with CER: 0.3259\n",
            "ResNet101 CRNN | Train Loss: 0.3064 | Val Loss: 0.2571 | CER: 0.3259 | WER: 0.5583\n",
            "\n",
            "Final Scores (ResNet101 CRNN):\n",
            "Avg Train Loss: 0.3064\n",
            "Avg Val Loss:   0.2571\n",
            "Final CER:      0.3259\n",
            "Final WER:      0.5583\n",
            "\n",
            "Epoch 3/20\n"
          ]
        },
        {
          "name": "stderr",
          "output_type": "stream",
          "text": [
            "Training: 100%|██████████| 5007/5007 [08:43<00:00,  9.57batch/s, loss=0.253]\n"
          ]
        },
        {
          "name": "stdout",
          "output_type": "stream",
          "text": [
            "ResNet101 CRNN | Train Loss: 0.2311 | Val Loss: 0.2161 | CER: 0.3265 | WER: 0.5441\n",
            "\n",
            "Final Scores (ResNet101 CRNN):\n",
            "Avg Train Loss: 0.2311\n",
            "Avg Val Loss:   0.2161\n",
            "Final CER:      0.3265\n",
            "Final WER:      0.5441\n",
            "\n",
            "Epoch 4/20\n"
          ]
        },
        {
          "name": "stderr",
          "output_type": "stream",
          "text": [
            "Training: 100%|██████████| 5007/5007 [08:43<00:00,  9.57batch/s, loss=0.224]\n"
          ]
        },
        {
          "name": "stdout",
          "output_type": "stream",
          "text": [
            "\n",
            " Saved best model (epoch 4) with CER: 0.2850\n",
            "ResNet101 CRNN | Train Loss: 0.1886 | Val Loss: 0.1983 | CER: 0.2850 | WER: 0.4777\n",
            "\n",
            "Final Scores (ResNet101 CRNN):\n",
            "Avg Train Loss: 0.1886\n",
            "Avg Val Loss:   0.1983\n",
            "Final CER:      0.2850\n",
            "Final WER:      0.4777\n",
            "\n",
            "Epoch 5/20\n"
          ]
        },
        {
          "name": "stderr",
          "output_type": "stream",
          "text": [
            "Training: 100%|██████████| 5007/5007 [08:43<00:00,  9.57batch/s, loss=0.114]\n"
          ]
        },
        {
          "name": "stdout",
          "output_type": "stream",
          "text": [
            "\n",
            " Saved best model (epoch 5) with CER: 0.2612\n",
            "ResNet101 CRNN | Train Loss: 0.1621 | Val Loss: 0.1740 | CER: 0.2612 | WER: 0.5182\n",
            "\n",
            "Final Scores (ResNet101 CRNN):\n",
            "Avg Train Loss: 0.1621\n",
            "Avg Val Loss:   0.1740\n",
            "Final CER:      0.2612\n",
            "Final WER:      0.5182\n",
            "\n",
            "Epoch 6/20\n"
          ]
        },
        {
          "name": "stderr",
          "output_type": "stream",
          "text": [
            "Training: 100%|██████████| 5007/5007 [08:43<00:00,  9.56batch/s, loss=0.277]\n"
          ]
        },
        {
          "name": "stdout",
          "output_type": "stream",
          "text": [
            "ResNet101 CRNN | Train Loss: 0.1387 | Val Loss: 0.1530 | CER: 0.2868 | WER: 0.4850\n",
            "\n",
            "Final Scores (ResNet101 CRNN):\n",
            "Avg Train Loss: 0.1387\n",
            "Avg Val Loss:   0.1530\n",
            "Final CER:      0.2868\n",
            "Final WER:      0.4850\n",
            "\n",
            "Epoch 7/20\n"
          ]
        },
        {
          "name": "stderr",
          "output_type": "stream",
          "text": [
            "Training: 100%|██████████| 5007/5007 [08:43<00:00,  9.56batch/s, loss=0.107]\n"
          ]
        },
        {
          "name": "stdout",
          "output_type": "stream",
          "text": [
            "ResNet101 CRNN | Train Loss: 0.1190 | Val Loss: 0.1380 | CER: 0.2939 | WER: 0.5315\n",
            "\n",
            "Final Scores (ResNet101 CRNN):\n",
            "Avg Train Loss: 0.1190\n",
            "Avg Val Loss:   0.1380\n",
            "Final CER:      0.2939\n",
            "Final WER:      0.5315\n",
            "\n",
            "Epoch 8/20\n"
          ]
        },
        {
          "name": "stderr",
          "output_type": "stream",
          "text": [
            "Training: 100%|██████████| 5007/5007 [08:43<00:00,  9.56batch/s, loss=0.0688]\n"
          ]
        },
        {
          "name": "stdout",
          "output_type": "stream",
          "text": [
            "ResNet101 CRNN | Train Loss: 0.1015 | Val Loss: 0.1157 | CER: 0.2780 | WER: 0.4029\n",
            "\n",
            "Final Scores (ResNet101 CRNN):\n",
            "Avg Train Loss: 0.1015\n",
            "Avg Val Loss:   0.1157\n",
            "Final CER:      0.2780\n",
            "Final WER:      0.4029\n",
            "\n",
            "Epoch 9/20\n"
          ]
        },
        {
          "name": "stderr",
          "output_type": "stream",
          "text": [
            "Training: 100%|██████████| 5007/5007 [08:43<00:00,  9.56batch/s, loss=0.0559]\n"
          ]
        },
        {
          "name": "stdout",
          "output_type": "stream",
          "text": [
            "ResNet101 CRNN | Train Loss: 0.0849 | Val Loss: 0.1043 | CER: 0.3434 | WER: 0.4998\n",
            "\n",
            "Final Scores (ResNet101 CRNN):\n",
            "Avg Train Loss: 0.0849\n",
            "Avg Val Loss:   0.1043\n",
            "Final CER:      0.3434\n",
            "Final WER:      0.4998\n",
            "\n",
            "Epoch 10/20\n"
          ]
        },
        {
          "name": "stderr",
          "output_type": "stream",
          "text": [
            "Training: 100%|██████████| 5007/5007 [08:44<00:00,  9.54batch/s, loss=0.0611]\n"
          ]
        },
        {
          "name": "stdout",
          "output_type": "stream",
          "text": [
            "ResNet101 CRNN | Train Loss: 0.0752 | Val Loss: 0.1065 | CER: 0.3214 | WER: 0.5297\n",
            "\n",
            "Final Scores (ResNet101 CRNN):\n",
            "Avg Train Loss: 0.0752\n",
            "Avg Val Loss:   0.1065\n",
            "Final CER:      0.3214\n",
            "Final WER:      0.5297\n",
            "\n",
            "Epoch 11/20\n"
          ]
        },
        {
          "name": "stderr",
          "output_type": "stream",
          "text": [
            "Training: 100%|██████████| 5007/5007 [08:45<00:00,  9.53batch/s, loss=0.12]\n"
          ]
        },
        {
          "name": "stdout",
          "output_type": "stream",
          "text": [
            "ResNet101 CRNN | Train Loss: 0.0651 | Val Loss: 0.0957 | CER: 0.3427 | WER: 0.5309\n",
            "\n",
            "Final Scores (ResNet101 CRNN):\n",
            "Avg Train Loss: 0.0651\n",
            "Avg Val Loss:   0.0957\n",
            "Final CER:      0.3427\n",
            "Final WER:      0.5309\n",
            "\n",
            "Epoch 12/20\n"
          ]
        },
        {
          "name": "stderr",
          "output_type": "stream",
          "text": [
            "Training: 100%|██████████| 5007/5007 [08:44<00:00,  9.55batch/s, loss=0.0219]\n"
          ]
        },
        {
          "name": "stdout",
          "output_type": "stream",
          "text": [
            "ResNet101 CRNN | Train Loss: 0.0571 | Val Loss: 0.0849 | CER: 0.3291 | WER: 0.5211\n",
            "\n",
            "Final Scores (ResNet101 CRNN):\n",
            "Avg Train Loss: 0.0571\n",
            "Avg Val Loss:   0.0849\n",
            "Final CER:      0.3291\n",
            "Final WER:      0.5211\n",
            "\n",
            "Epoch 13/20\n"
          ]
        },
        {
          "name": "stderr",
          "output_type": "stream",
          "text": [
            "Training: 100%|██████████| 5007/5007 [08:43<00:00,  9.56batch/s, loss=0.0863]\n"
          ]
        },
        {
          "name": "stdout",
          "output_type": "stream",
          "text": [
            "ResNet101 CRNN | Train Loss: 0.0482 | Val Loss: 0.0748 | CER: 0.2873 | WER: 0.4448\n",
            "\n",
            "Final Scores (ResNet101 CRNN):\n",
            "Avg Train Loss: 0.0482\n",
            "Avg Val Loss:   0.0748\n",
            "Final CER:      0.2873\n",
            "Final WER:      0.4448\n",
            "\n",
            "Epoch 14/20\n"
          ]
        },
        {
          "name": "stderr",
          "output_type": "stream",
          "text": [
            "Training: 100%|██████████| 5007/5007 [08:43<00:00,  9.56batch/s, loss=0.0261]\n"
          ]
        },
        {
          "name": "stdout",
          "output_type": "stream",
          "text": [
            "ResNet101 CRNN | Train Loss: 0.0448 | Val Loss: 0.0843 | CER: 0.2985 | WER: 0.4454\n",
            "\n",
            "Final Scores (ResNet101 CRNN):\n",
            "Avg Train Loss: 0.0448\n",
            "Avg Val Loss:   0.0843\n",
            "Final CER:      0.2985\n",
            "Final WER:      0.4454\n",
            "\n",
            "Epoch 15/20\n"
          ]
        },
        {
          "name": "stderr",
          "output_type": "stream",
          "text": [
            "Training: 100%|██████████| 5007/5007 [08:43<00:00,  9.56batch/s, loss=0.145]\n"
          ]
        },
        {
          "name": "stdout",
          "output_type": "stream",
          "text": [
            "ResNet101 CRNN | Train Loss: 0.0414 | Val Loss: 0.0674 | CER: 0.3457 | WER: 0.5118\n",
            "\n",
            "Final Scores (ResNet101 CRNN):\n",
            "Avg Train Loss: 0.0414\n",
            "Avg Val Loss:   0.0674\n",
            "Final CER:      0.3457\n",
            "Final WER:      0.5118\n",
            "\n",
            "Epoch 16/20\n"
          ]
        },
        {
          "name": "stderr",
          "output_type": "stream",
          "text": [
            "Training: 100%|██████████| 5007/5007 [08:43<00:00,  9.56batch/s, loss=0.0228]\n"
          ]
        },
        {
          "name": "stdout",
          "output_type": "stream",
          "text": [
            "ResNet101 CRNN | Train Loss: 0.0360 | Val Loss: 0.0548 | CER: 0.3160 | WER: 0.5038\n",
            "\n",
            "Final Scores (ResNet101 CRNN):\n",
            "Avg Train Loss: 0.0360\n",
            "Avg Val Loss:   0.0548\n",
            "Final CER:      0.3160\n",
            "Final WER:      0.5038\n",
            "\n",
            "Epoch 17/20\n"
          ]
        },
        {
          "name": "stderr",
          "output_type": "stream",
          "text": [
            "Training: 100%|██████████| 5007/5007 [08:44<00:00,  9.55batch/s, loss=0.271]\n"
          ]
        },
        {
          "name": "stdout",
          "output_type": "stream",
          "text": [
            "ResNet101 CRNN | Train Loss: 0.0304 | Val Loss: 0.0573 | CER: 0.3245 | WER: 0.4734\n",
            "\n",
            "Final Scores (ResNet101 CRNN):\n",
            "Avg Train Loss: 0.0304\n",
            "Avg Val Loss:   0.0573\n",
            "Final CER:      0.3245\n",
            "Final WER:      0.4734\n",
            "\n",
            "Epoch 18/20\n"
          ]
        },
        {
          "name": "stderr",
          "output_type": "stream",
          "text": [
            "Training: 100%|██████████| 5007/5007 [08:43<00:00,  9.56batch/s, loss=0.00112]\n"
          ]
        },
        {
          "name": "stdout",
          "output_type": "stream",
          "text": [
            "ResNet101 CRNN | Train Loss: 0.0286 | Val Loss: 0.0493 | CER: 0.3335 | WER: 0.4678\n",
            "\n",
            "Final Scores (ResNet101 CRNN):\n",
            "Avg Train Loss: 0.0286\n",
            "Avg Val Loss:   0.0493\n",
            "Final CER:      0.3335\n",
            "Final WER:      0.4678\n",
            "\n",
            "Epoch 19/20\n"
          ]
        },
        {
          "name": "stderr",
          "output_type": "stream",
          "text": [
            "Training: 100%|██████████| 5007/5007 [08:44<00:00,  9.55batch/s, loss=0.183]\n"
          ]
        },
        {
          "name": "stdout",
          "output_type": "stream",
          "text": [
            "ResNet101 CRNN | Train Loss: 0.0279 | Val Loss: 0.0462 | CER: 0.3371 | WER: 0.4990\n",
            "\n",
            "Final Scores (ResNet101 CRNN):\n",
            "Avg Train Loss: 0.0279\n",
            "Avg Val Loss:   0.0462\n",
            "Final CER:      0.3371\n",
            "Final WER:      0.4990\n",
            "\n",
            "Epoch 20/20\n"
          ]
        },
        {
          "name": "stderr",
          "output_type": "stream",
          "text": [
            "Training: 100%|██████████| 5007/5007 [08:44<00:00,  9.56batch/s, loss=0.105]\n"
          ]
        },
        {
          "name": "stdout",
          "output_type": "stream",
          "text": [
            "ResNet101 CRNN | Train Loss: 0.0241 | Val Loss: 0.0503 | CER: 0.3855 | WER: 0.5842\n",
            "\n",
            "Final Scores (ResNet101 CRNN):\n",
            "Avg Train Loss: 0.0241\n",
            "Avg Val Loss:   0.0503\n",
            "Final CER:      0.3855\n",
            "Final WER:      0.5842\n"
          ]
        }
      ],
      "source": [
        "from tqdm import tqdm\n",
        "import editdistance\n",
        "from jiwer import wer\n",
        "import matplotlib.pyplot as plt\n",
        "\n",
        "num_epochs = 20\n",
        "best_model_path = \"best_model_resnet101.pth\"\n",
        "\n",
        "for epoch in range(num_epochs):\n",
        "    model_crnn_resnet101.train()\n",
        "    total_train_loss = 0\n",
        "    total_batches = len(train_loader)\n",
        "\n",
        "    print(f\"\\nEpoch {epoch + 1}/{num_epochs}\")\n",
        "    train_loader_progress = tqdm(train_loader, desc=\"Training\", unit=\"batch\")\n",
        "\n",
        "    for batch in train_loader_progress:\n",
        "        images = batch[\"images\"].to(device)\n",
        "        labels = batch[\"labels\"].to(device)\n",
        "        label_lengths = batch[\"label_lengths\"].to(device)\n",
        "\n",
        "        logits = model_crnn_resnet101(images)\n",
        "        input_lengths = torch.full((logits.size(1),), logits.size(0), dtype=torch.long).to(device)\n",
        "        targets = torch.cat([labels[i][:label_lengths[i]] for i in range(len(labels))]).to(device)\n",
        "\n",
        "        log_probs = torch.nn.functional.log_softmax(logits, dim=2)\n",
        "        loss = ctc_loss_fn(log_probs, targets, input_lengths, label_lengths)\n",
        "\n",
        "        optimizer_crnn_resnet101.zero_grad()\n",
        "        loss.backward()\n",
        "        optimizer_crnn_resnet101.step()\n",
        "\n",
        "        total_train_loss += loss.item()\n",
        "        train_loader_progress.set_postfix(loss=loss.item())\n",
        "\n",
        "    avg_train_loss = total_train_loss / total_batches\n",
        "    train_losses_resnet101.append(avg_train_loss)\n",
        "\n",
        "    model_crnn_resnet101.eval()\n",
        "    total_val_loss = 0\n",
        "    total_cer = 0\n",
        "    total_wer = 0\n",
        "    sample_count = 0\n",
        "\n",
        "    with torch.no_grad():\n",
        "        for batch in test_loader:\n",
        "            images = batch[\"images\"].to(device)\n",
        "            labels = batch[\"labels\"].to(device)\n",
        "            label_lengths = batch[\"label_lengths\"].to(device)\n",
        "\n",
        "            logits = model_crnn_resnet101(images)\n",
        "            input_lengths = torch.full((logits.size(1),), logits.size(0), dtype=torch.long).to(device)\n",
        "            targets = torch.cat([labels[i][:label_lengths[i]] for i in range(len(labels))]).to(device)\n",
        "\n",
        "            log_probs = torch.nn.functional.log_softmax(logits, dim=2)\n",
        "            val_loss = ctc_loss_fn(log_probs, targets, input_lengths, label_lengths)\n",
        "            total_val_loss += val_loss.item()\n",
        "\n",
        "            preds = logits.softmax(2).argmax(2).permute(1, 0).cpu().numpy()\n",
        "            for i, pred in enumerate(preds):\n",
        "                pred_text = tokenizer.decode(pred)\n",
        "                true_text = tokenizer.decode(labels[i][:label_lengths[i]].cpu().numpy())\n",
        "                cer_score = editdistance.eval(pred_text, true_text) / max(1, len(true_text))\n",
        "                wer_score = wer(true_text, pred_text)\n",
        "\n",
        "                total_cer += cer_score\n",
        "                total_wer += wer_score\n",
        "                sentence_lengths_resnet101.append(len(true_text))\n",
        "                cer_by_length_resnet101.append(cer_score)\n",
        "                sample_count += 1\n",
        "\n",
        "    avg_val_loss = total_val_loss / len(test_loader)\n",
        "    avg_cer = total_cer / sample_count\n",
        "    avg_wer = total_wer / sample_count\n",
        "\n",
        "    val_losses_resnet101.append(avg_val_loss)\n",
        "    cer_list_resnet101.append(avg_cer)\n",
        "    wer_list_resnet101.append(avg_wer)\n",
        "\n",
        "    scheduler.step(avg_val_loss)\n",
        "\n",
        "    # Save best model based on CER\n",
        "    if len(cer_list_resnet101) == 1 or avg_cer < min(cer_list_resnet101[:-1]):\n",
        "        torch.save({\n",
        "            'model_state_dict': model_crnn_resnet101.state_dict(),\n",
        "            'optimizer_state_dict': optimizer_crnn_resnet101.state_dict(),\n",
        "            'vocab_size': vocab_size,\n",
        "            'tokenizer_config': tokenizer.char2idx\n",
        "        }, best_model_path)\n",
        "        print(f\"\\n Saved best model (epoch {epoch + 1}) with CER: {avg_cer:.4f}\")\n",
        "\n",
        "    print(f\"ResNet101 CRNN | Train Loss: {avg_train_loss:.4f} | Val Loss: {avg_val_loss:.4f} | CER: {avg_cer:.4f} | WER: {avg_wer:.4f}\")\n",
        "    print(f\"\\nFinal Scores (ResNet101 CRNN):\")\n",
        "    print(f\"Avg Train Loss: {train_losses_resnet101[-1]:.4f}\")\n",
        "    print(f\"Avg Val Loss:   {val_losses_resnet101[-1]:.4f}\")\n",
        "    print(f\"Final CER:      {cer_list_resnet101[-1]:.4f}\")\n",
        "    print(f\"Final WER:      {wer_list_resnet101[-1]:.4f}\")"
      ]
    },
    {
      "cell_type": "code",
      "execution_count": 46,
      "metadata": {
        "colab": {
          "base_uri": "https://localhost:8080/",
          "height": 1000
        },
        "id": "zYHYNN4WszXt",
        "outputId": "89203146-24aa-4cdf-beb8-a21ab7aa4293"
      },
      "outputs": [
        {
          "data": {
            "image/png": "[encoded data removed]",
            "text/plain": [
              "<Figure size 1000x500 with 1 Axes>"
            ]
          },
          "metadata": {},
          "output_type": "display_data"
        },
        {
          "data": {
            "image/png": "[encoded data removed]",
            "text/plain": [
              "<Figure size 1000x500 with 1 Axes>"
            ]
          },
          "metadata": {},
          "output_type": "display_data"
        },
        {
          "data": {
            "image/png": "[encoded data removed]",
            "text/plain": [
              "<Figure size 1000x500 with 1 Axes>"
            ]
          },
          "metadata": {},
          "output_type": "display_data"
        }
      ],
      "source": [
        "import matplotlib.pyplot as plt\n",
        "import seaborn as sns\n",
        "\n",
        "epochs = list(range(1, len(train_losses_resnet101) + 1))\n",
        "\n",
        "# === Loss Curve ===\n",
        "plt.figure(figsize=(10, 5))\n",
        "plt.plot(epochs, train_losses_resnet101, label='Train Loss')\n",
        "plt.plot(epochs, val_losses_resnet101, label='Validation Loss')\n",
        "plt.title('ResNet101 CRNN - Loss Curve')\n",
        "plt.xlabel('Epoch')\n",
        "plt.ylabel('Loss')\n",
        "plt.xticks(epochs)\n",
        "plt.legend()\n",
        "plt.grid(True)\n",
        "plt.tight_layout()\n",
        "plt.show()\n",
        "\n",
        "# === CER & WER over Epochs ===\n",
        "plt.figure(figsize=(10, 5))\n",
        "plt.plot(epochs, cer_list_resnet101, label='CER')\n",
        "plt.plot(epochs, wer_list_resnet101, label='WER')\n",
        "plt.title('ResNet101 CRNN - CER & WER Over Epochs')\n",
        "plt.xlabel('Epoch')\n",
        "plt.ylabel('Rate')\n",
        "plt.xticks(epochs)\n",
        "plt.legend()\n",
        "plt.grid(True)\n",
        "plt.tight_layout()\n",
        "plt.show()\n",
        "\n",
        "# === Sentence Length vs CER ===\n",
        "plt.figure(figsize=(10, 5))\n",
        "sns.histplot(x=sentence_lengths_resnet101, weights=cer_by_length_resnet101, bins=20, kde=False)\n",
        "plt.title('ResNet101 CRNN - Sentence Length vs CER')\n",
        "plt.xlabel('Sentence Length')\n",
        "plt.ylabel('CER')\n",
        "plt.grid(True)\n",
        "plt.tight_layout()\n",
        "plt.show()"
      ]
    },
    {
      "cell_type": "code",
      "execution_count": null,
      "metadata": {
        "colab": {
          "base_uri": "https://localhost:8080/"
        },
        "id": "a9iQV5hJxkXK",
        "outputId": "2ff4c387-9565-431b-e5f1-eb62cce7b7e1"
      },
      "outputs": [
        {
          "name": "stdout",
          "output_type": "stream",
          "text": [
            "Requirement already satisfied: jiwer in /usr/local/lib/python3.11/dist-packages (3.1.0)\n",
            "Requirement already satisfied: click>=8.1.8 in /usr/local/lib/python3.11/dist-packages (from jiwer) (8.1.8)\n",
            "Requirement already satisfied: rapidfuzz>=3.9.7 in /usr/local/lib/python3.11/dist-packages (from jiwer) (3.13.0)\n"
          ]
        }
      ],
      "source": [
        "!pip install jiwer"
      ]
    },
    {
      "cell_type": "code",
      "execution_count": null,
      "metadata": {
        "colab": {
          "base_uri": "https://localhost:8080/"
        },
        "id": "LQQaDDQEctLO",
        "outputId": "26a67c0a-286e-4636-9add-91ba3b3764a4"
      },
      "outputs": [
        {
          "name": "stdout",
          "output_type": "stream",
          "text": [
            "Predicted: <en> enggland  annnd   has  made   it   liive\n",
            "Actual   : <en> england and has made it live\n",
            "CER      : 0.364\n",
            "----\n",
            "Predicted: <en> ennd    the  manufacture   and  use   oof\n",
            "Actual   : <en> end the manufacture and use of\n",
            "CER      : 0.314\n",
            "----\n",
            "Predicted: <en> iiincrreased  majorriitiiiers\n",
            "Actual   : <en> increased majorities\n",
            "CER      : 0.360\n",
            "----\n",
            "Predicted: <en>>  tthee\n",
            "Actual   : <en> the\n",
            "CER      : 0.500\n",
            "----\n",
            "Predicted: <en> wwhiich   lleeft   iits  ceentrraal  ccharracter   and   tthe\n",
            "Actual   : <en> which left its central character and the\n",
            "CER      : 0.467\n",
            "----\n",
            "Predicted: <en> hiis  face   was  fiiixeed\n",
            "Actual   : <en> his face was fixed\n",
            "CER      : 0.348\n",
            "----\n",
            "Predicted: <en> mrr  bryan   stonehousses   prooductiion   is   quieently\n",
            "Actual   : <en> mr bryan stonehouses production is quietly\n",
            "CER      : 0.319\n",
            "----\n",
            "Predicted: <en> thaar  a   human   beeingg    had  an  increasing  numbeer  oof  dissciplees  amonngg\n",
            "Actual   : <en> than a human being   had an increasing number of disciples among\n",
            "CER      : 0.319\n",
            "----\n",
            "Predicted: <en>  the   senaate   bbankiiinng\n",
            "Actual   : <en> the senate banking\n",
            "CER      : 0.435\n",
            "----\n",
            "Predicted: <hi>  पेपर फ़़ैकक्ट्री मेें गैस  ललीक,  तीन  ममज़़दूररों  कीी  हाालत\n",
            "Actual   : <hi> पेपर फ़ैक्ट्री में गैस लीक, तीन मज़दूरों की हालत\n",
            "CER      : 0.283\n",
            "----\n",
            "\n",
            "Average CER (ResNet101) over 10 samples: 0.371\n"
          ]
        }
      ],
      "source": [
        "from jiwer import cer\n",
        "\n",
        "total_cer_resnet101 = 0\n",
        "sample_count_resnet101 = 0\n",
        "\n",
        "with torch.no_grad():\n",
        "    for batch in test_loader:\n",
        "        images = batch[\"images\"].to(device)\n",
        "        labels = batch[\"labels\"]\n",
        "\n",
        "        logits = model_crnn_resnet101(images)  # [W, B, C]\n",
        "        preds = logits.softmax(2).argmax(2).permute(1, 0)  # [B, W]\n",
        "\n",
        "        for i, pred in enumerate(preds):\n",
        "            if sample_count_resnet101 >= 10:\n",
        "                break\n",
        "\n",
        "            decoded = tokenizer.decode(pred.cpu().numpy())\n",
        "            target_text = tokenizer.decode(labels[i].cpu().numpy())\n",
        "\n",
        "            cer_score = cer(target_text, decoded)\n",
        "            total_cer_resnet101 += cer_score\n",
        "\n",
        "            print(f\"Predicted: {decoded}\")\n",
        "            print(f\"Actual   : {target_text}\")\n",
        "            print(f\"CER      : {cer_score:.3f}\")\n",
        "            print(\"----\")\n",
        "\n",
        "            sample_count_resnet101 += 1\n",
        "\n",
        "        if sample_count_resnet101 >= 10:\n",
        "            break\n",
        "\n",
        "avg_cer_resnet101 = total_cer_resnet101 / sample_count_resnet101\n",
        "print(f\"\\nAverage CER (ResNet101) over {sample_count_resnet101} samples: {avg_cer_resnet101:.3f}\")"
      ]
    },
    {
      "cell_type": "markdown",
      "metadata": {
        "id": "92GoZa-lBE0n"
      },
      "source": [
        "### ResNet101 + symspellpy"
      ]
    },
    {
      "cell_type": "code",
      "execution_count": null,
      "metadata": {
        "colab": {
          "base_uri": "https://localhost:8080/"
        },
        "id": "0KhAb2tahHt-",
        "outputId": "5c591125-2530-48cc-8896-82b9d601e2d8"
      },
      "outputs": [
        {
          "name": "stdout",
          "output_type": "stream",
          "text": [
            "Collecting jiwer\n",
            "  Downloading jiwer-3.1.0-py3-none-any.whl.metadata (2.6 kB)\n",
            "Requirement already satisfied: click>=8.1.8 in /usr/local/lib/python3.11/dist-packages (from jiwer) (8.1.8)\n",
            "Collecting rapidfuzz>=3.9.7 (from jiwer)\n",
            "  Downloading rapidfuzz-3.13.0-cp311-cp311-manylinux_2_17_x86_64.manylinux2014_x86_64.whl.metadata (12 kB)\n",
            "Downloading jiwer-3.1.0-py3-none-any.whl (22 kB)\n",
            "Downloading rapidfuzz-3.13.0-cp311-cp311-manylinux_2_17_x86_64.manylinux2014_x86_64.whl (3.1 MB)\n",
            "\u001b[2K   \u001b[90m━━━━━━━━━━━━━━━━━━━━━━━━━━━━━━━━━━━━━━━━\u001b[0m \u001b[32m3.1/3.1 MB\u001b[0m \u001b[31m38.3 MB/s\u001b[0m eta \u001b[36m0:00:00\u001b[0m\n",
            "\u001b[?25hInstalling collected packages: rapidfuzz, jiwer\n",
            "Successfully installed jiwer-3.1.0 rapidfuzz-3.13.0\n"
          ]
        }
      ],
      "source": [
        "!pip install jiwer"
      ]
    },
    {
      "cell_type": "code",
      "execution_count": null,
      "metadata": {
        "colab": {
          "base_uri": "https://localhost:8080/"
        },
        "id": "fQS-SYRN39_D",
        "outputId": "cb01cb90-bc61-48b9-d4af-dd1eee7a2d10"
      },
      "outputs": [
        {
          "name": "stdout",
          "output_type": "stream",
          "text": [
            "Collecting symspellpy\n",
            "  Downloading symspellpy-6.9.0-py3-none-any.whl.metadata (3.9 kB)\n",
            "Collecting editdistpy>=0.1.3 (from symspellpy)\n",
            "  Downloading editdistpy-0.1.5-cp311-cp311-manylinux_2_5_x86_64.manylinux1_x86_64.manylinux_2_17_x86_64.manylinux2014_x86_64.whl.metadata (7.9 kB)\n",
            "Downloading symspellpy-6.9.0-py3-none-any.whl (2.6 MB)\n",
            "\u001b[2K   \u001b[90m━━━━━━━━━━━━━━━━━━━━━━━━━━━━━━━━━━━━━━━━\u001b[0m \u001b[32m2.6/2.6 MB\u001b[0m \u001b[31m26.9 MB/s\u001b[0m eta \u001b[36m0:00:00\u001b[0m\n",
            "\u001b[?25hDownloading editdistpy-0.1.5-cp311-cp311-manylinux_2_5_x86_64.manylinux1_x86_64.manylinux_2_17_x86_64.manylinux2014_x86_64.whl (144 kB)\n",
            "\u001b[2K   \u001b[90m━━━━━━━━━━━━━━━━━━━━━━━━━━━━━━━━━━━━━━━━\u001b[0m \u001b[32m144.1/144.1 kB\u001b[0m \u001b[31m15.7 MB/s\u001b[0m eta \u001b[36m0:00:00\u001b[0m\n",
            "\u001b[?25hInstalling collected packages: editdistpy, symspellpy\n",
            "Successfully installed editdistpy-0.1.5 symspellpy-6.9.0\n",
            "--2025-05-03 16:56:54--  https://raw.githubusercontent.com/wolfgarbe/SymSpell/master/SymSpell/frequency_dictionary_en_82_765.txt\n",
            "Resolving raw.githubusercontent.com (raw.githubusercontent.com)... 185.199.109.133, 185.199.110.133, 185.199.111.133, ...\n",
            "Connecting to raw.githubusercontent.com (raw.githubusercontent.com)|185.199.109.133|:443... connected.\n",
            "HTTP request sent, awaiting response... 200 OK\n",
            "Length: 1332881 (1.3M) [text/plain]\n",
            "Saving to: ‘frequency_dictionary_en_82_765.txt’\n",
            "\n",
            "frequency_dictionar 100%[===================>]   1.27M  --.-KB/s    in 0.06s   \n",
            "\n",
            "2025-05-03 16:56:54 (22.0 MB/s) - ‘frequency_dictionary_en_82_765.txt’ saved [1332881/1332881]\n",
            "\n"
          ]
        },
        {
          "data": {
            "text/plain": [
              "True"
            ]
          },
          "execution_count": 33,
          "metadata": {},
          "output_type": "execute_result"
        }
      ],
      "source": [
        "# 1. Install and download dictionary\n",
        "!pip install symspellpy\n",
        "!wget https://raw.githubusercontent.com/wolfgarbe/SymSpell/master/SymSpell/frequency_dictionary_en_82_765.txt\n",
        "\n",
        "# 2. Import and initialize\n",
        "from symspellpy import SymSpell, Verbosity\n",
        "\n",
        "# 3. Initialize SymSpell object\n",
        "sym_spell = SymSpell(max_dictionary_edit_distance=2, prefix_length=7)\n",
        "\n",
        "# 4. Load the dictionary\n",
        "sym_spell.load_dictionary(\"frequency_dictionary_en_82_765.txt\", term_index=0, count_index=1)"
      ]
    },
    {
      "cell_type": "code",
      "execution_count": null,
      "metadata": {
        "colab": {
          "base_uri": "https://localhost:8080/"
        },
        "id": "yVFjb2eCDMX6",
        "outputId": "a082a68b-c883-4886-dc39-29071f1ff6ac"
      },
      "outputs": [
        {
          "name": "stderr",
          "output_type": "stream",
          "text": [
            "/usr/local/lib/python3.11/dist-packages/torch/optim/lr_scheduler.py:62: UserWarning: The verbose parameter is deprecated. Please use get_last_lr() to access the learning rate.\n",
            "  warnings.warn(\n"
          ]
        },
        {
          "name": "stdout",
          "output_type": "stream",
          "text": [
            "\n",
            "Epoch 1/20\n"
          ]
        },
        {
          "name": "stderr",
          "output_type": "stream",
          "text": [
            "Training: 100%|██████████| 5007/5007 [08:50<00:00,  9.44batch/s, loss=0.517]\n"
          ]
        },
        {
          "name": "stdout",
          "output_type": "stream",
          "text": [
            "\n",
            "  Saved best model (epoch 1) with CER: 0.2268\n",
            "ResNet101 CRNN v2 | Train Loss: 1.4752 | Val Loss: 0.3861 | CER: 0.2268 | WER: 0.4559\n",
            "\n",
            "Final Scores (ResNet101 CRNN v2):\n",
            "Avg Train Loss: 1.4752\n",
            "Avg Val Loss:   0.3861\n",
            "Final CER:      0.2268\n",
            "Final WER:      0.4559\n",
            "\n",
            "Epoch 2/20\n"
          ]
        },
        {
          "name": "stderr",
          "output_type": "stream",
          "text": [
            "Training: 100%|██████████| 5007/5007 [08:48<00:00,  9.48batch/s, loss=0.325]\n"
          ]
        },
        {
          "name": "stdout",
          "output_type": "stream",
          "text": [
            "\n",
            "  Saved best model (epoch 2) with CER: 0.1778\n",
            "ResNet101 CRNN v2 | Train Loss: 0.3095 | Val Loss: 0.2577 | CER: 0.1778 | WER: 0.4132\n",
            "\n",
            "Final Scores (ResNet101 CRNN v2):\n",
            "Avg Train Loss: 0.3095\n",
            "Avg Val Loss:   0.2577\n",
            "Final CER:      0.1778\n",
            "Final WER:      0.4132\n",
            "\n",
            "Epoch 3/20\n"
          ]
        },
        {
          "name": "stderr",
          "output_type": "stream",
          "text": [
            "Training: 100%|██████████| 5007/5007 [08:47<00:00,  9.50batch/s, loss=0.168]\n"
          ]
        },
        {
          "name": "stdout",
          "output_type": "stream",
          "text": [
            "ResNet101 CRNN v2 | Train Loss: 0.2270 | Val Loss: 0.2213 | CER: 0.2142 | WER: 0.4459\n",
            "\n",
            "Final Scores (ResNet101 CRNN v2):\n",
            "Avg Train Loss: 0.2270\n",
            "Avg Val Loss:   0.2213\n",
            "Final CER:      0.2142\n",
            "Final WER:      0.4459\n",
            "\n",
            "Epoch 4/20\n"
          ]
        },
        {
          "name": "stderr",
          "output_type": "stream",
          "text": [
            "Training: 100%|██████████| 5007/5007 [08:48<00:00,  9.48batch/s, loss=0.0927]\n"
          ]
        },
        {
          "name": "stdout",
          "output_type": "stream",
          "text": [
            "ResNet101 CRNN v2 | Train Loss: 0.1886 | Val Loss: 0.2149 | CER: 0.1866 | WER: 0.4206\n",
            "\n",
            "Final Scores (ResNet101 CRNN v2):\n",
            "Avg Train Loss: 0.1886\n",
            "Avg Val Loss:   0.2149\n",
            "Final CER:      0.1866\n",
            "Final WER:      0.4206\n",
            "\n",
            "Epoch 5/20\n"
          ]
        },
        {
          "name": "stderr",
          "output_type": "stream",
          "text": [
            "Training: 100%|██████████| 5007/5007 [08:49<00:00,  9.45batch/s, loss=0.302]\n"
          ]
        },
        {
          "name": "stdout",
          "output_type": "stream",
          "text": [
            "\n",
            "  Saved best model (epoch 5) with CER: 0.1576\n",
            "ResNet101 CRNN v2 | Train Loss: 0.1564 | Val Loss: 0.2087 | CER: 0.1576 | WER: 0.3832\n",
            "\n",
            "Final Scores (ResNet101 CRNN v2):\n",
            "Avg Train Loss: 0.1564\n",
            "Avg Val Loss:   0.2087\n",
            "Final CER:      0.1576\n",
            "Final WER:      0.3832\n",
            "\n",
            "Epoch 6/20\n"
          ]
        },
        {
          "name": "stderr",
          "output_type": "stream",
          "text": [
            "Training: 100%|██████████| 5007/5007 [08:51<00:00,  9.43batch/s, loss=0.0361]\n"
          ]
        },
        {
          "name": "stdout",
          "output_type": "stream",
          "text": [
            "\n",
            "  Saved best model (epoch 6) with CER: 0.1387\n",
            "ResNet101 CRNN v2 | Train Loss: 0.1335 | Val Loss: 0.1427 | CER: 0.1387 | WER: 0.3160\n",
            "\n",
            "Final Scores (ResNet101 CRNN v2):\n",
            "Avg Train Loss: 0.1335\n",
            "Avg Val Loss:   0.1427\n",
            "Final CER:      0.1387\n",
            "Final WER:      0.3160\n",
            "\n",
            "Epoch 7/20\n"
          ]
        },
        {
          "name": "stderr",
          "output_type": "stream",
          "text": [
            "Training: 100%|██████████| 5007/5007 [08:46<00:00,  9.52batch/s, loss=0.398]\n"
          ]
        },
        {
          "name": "stdout",
          "output_type": "stream",
          "text": [
            "ResNet101 CRNN v2 | Train Loss: 0.1127 | Val Loss: 0.1245 | CER: 0.1503 | WER: 0.3656\n",
            "\n",
            "Final Scores (ResNet101 CRNN v2):\n",
            "Avg Train Loss: 0.1127\n",
            "Avg Val Loss:   0.1245\n",
            "Final CER:      0.1503\n",
            "Final WER:      0.3656\n",
            "\n",
            "Epoch 8/20\n"
          ]
        },
        {
          "name": "stderr",
          "output_type": "stream",
          "text": [
            "Training: 100%|██████████| 5007/5007 [08:47<00:00,  9.49batch/s, loss=0.0304]\n"
          ]
        },
        {
          "name": "stdout",
          "output_type": "stream",
          "text": [
            "ResNet101 CRNN v2 | Train Loss: 0.1002 | Val Loss: 0.1153 | CER: 0.1453 | WER: 0.3461\n",
            "\n",
            "Final Scores (ResNet101 CRNN v2):\n",
            "Avg Train Loss: 0.1002\n",
            "Avg Val Loss:   0.1153\n",
            "Final CER:      0.1453\n",
            "Final WER:      0.3461\n",
            "\n",
            "Epoch 9/20\n"
          ]
        },
        {
          "name": "stderr",
          "output_type": "stream",
          "text": [
            "Training: 100%|██████████| 5007/5007 [08:48<00:00,  9.48batch/s, loss=0.206]\n"
          ]
        },
        {
          "name": "stdout",
          "output_type": "stream",
          "text": [
            "ResNet101 CRNN v2 | Train Loss: 0.0867 | Val Loss: 0.1088 | CER: 0.1624 | WER: 0.3854\n",
            "\n",
            "Final Scores (ResNet101 CRNN v2):\n",
            "Avg Train Loss: 0.0867\n",
            "Avg Val Loss:   0.1088\n",
            "Final CER:      0.1624\n",
            "Final WER:      0.3854\n",
            "\n",
            "Epoch 10/20\n"
          ]
        },
        {
          "name": "stderr",
          "output_type": "stream",
          "text": [
            "Training: 100%|██████████| 5007/5007 [08:48<00:00,  9.47batch/s, loss=0.115]\n"
          ]
        },
        {
          "name": "stdout",
          "output_type": "stream",
          "text": [
            "ResNet101 CRNN v2 | Train Loss: 0.0757 | Val Loss: 0.0880 | CER: 0.1440 | WER: 0.3220\n",
            "\n",
            "Final Scores (ResNet101 CRNN v2):\n",
            "Avg Train Loss: 0.0757\n",
            "Avg Val Loss:   0.0880\n",
            "Final CER:      0.1440\n",
            "Final WER:      0.3220\n",
            "\n",
            "Epoch 11/20\n"
          ]
        },
        {
          "name": "stderr",
          "output_type": "stream",
          "text": [
            "Training: 100%|██████████| 5007/5007 [08:52<00:00,  9.40batch/s, loss=0.0459]\n"
          ]
        },
        {
          "name": "stdout",
          "output_type": "stream",
          "text": [
            "\n",
            "  Saved best model (epoch 11) with CER: 0.1252\n",
            "ResNet101 CRNN v2 | Train Loss: 0.0659 | Val Loss: 0.0854 | CER: 0.1252 | WER: 0.2836\n",
            "\n",
            "Final Scores (ResNet101 CRNN v2):\n",
            "Avg Train Loss: 0.0659\n",
            "Avg Val Loss:   0.0854\n",
            "Final CER:      0.1252\n",
            "Final WER:      0.2836\n",
            "\n",
            "Epoch 12/20\n"
          ]
        },
        {
          "name": "stderr",
          "output_type": "stream",
          "text": [
            "Training: 100%|██████████| 5007/5007 [08:49<00:00,  9.46batch/s, loss=0.055]\n"
          ]
        },
        {
          "name": "stdout",
          "output_type": "stream",
          "text": [
            "ResNet101 CRNN v2 | Train Loss: 0.0572 | Val Loss: 0.0699 | CER: 0.1259 | WER: 0.3086\n",
            "\n",
            "Final Scores (ResNet101 CRNN v2):\n",
            "Avg Train Loss: 0.0572\n",
            "Avg Val Loss:   0.0699\n",
            "Final CER:      0.1259\n",
            "Final WER:      0.3086\n",
            "\n",
            "Epoch 13/20\n"
          ]
        },
        {
          "name": "stderr",
          "output_type": "stream",
          "text": [
            "Training: 100%|██████████| 5007/5007 [08:46<00:00,  9.50batch/s, loss=0.0441]\n"
          ]
        },
        {
          "name": "stdout",
          "output_type": "stream",
          "text": [
            "ResNet101 CRNN v2 | Train Loss: 0.0527 | Val Loss: 0.0734 | CER: 0.1422 | WER: 0.3373\n",
            "\n",
            "Final Scores (ResNet101 CRNN v2):\n",
            "Avg Train Loss: 0.0527\n",
            "Avg Val Loss:   0.0734\n",
            "Final CER:      0.1422\n",
            "Final WER:      0.3373\n",
            "\n",
            "Epoch 14/20\n"
          ]
        },
        {
          "name": "stderr",
          "output_type": "stream",
          "text": [
            "Training: 100%|██████████| 5007/5007 [08:47<00:00,  9.50batch/s, loss=0.148]\n"
          ]
        },
        {
          "name": "stdout",
          "output_type": "stream",
          "text": [
            "ResNet101 CRNN v2 | Train Loss: 0.0475 | Val Loss: 0.0670 | CER: 0.1475 | WER: 0.3157\n",
            "\n",
            "Final Scores (ResNet101 CRNN v2):\n",
            "Avg Train Loss: 0.0475\n",
            "Avg Val Loss:   0.0670\n",
            "Final CER:      0.1475\n",
            "Final WER:      0.3157\n",
            "\n",
            "Epoch 15/20\n"
          ]
        },
        {
          "name": "stderr",
          "output_type": "stream",
          "text": [
            "Training: 100%|██████████| 5007/5007 [08:47<00:00,  9.49batch/s, loss=0.0298]\n"
          ]
        },
        {
          "name": "stdout",
          "output_type": "stream",
          "text": [
            "ResNet101 CRNN v2 | Train Loss: 0.0411 | Val Loss: 0.0738 | CER: 0.1368 | WER: 0.3110\n",
            "\n",
            "Final Scores (ResNet101 CRNN v2):\n",
            "Avg Train Loss: 0.0411\n",
            "Avg Val Loss:   0.0738\n",
            "Final CER:      0.1368\n",
            "Final WER:      0.3110\n",
            "\n",
            "Epoch 16/20\n"
          ]
        },
        {
          "name": "stderr",
          "output_type": "stream",
          "text": [
            "Training: 100%|██████████| 5007/5007 [08:47<00:00,  9.49batch/s, loss=0.0156]\n"
          ]
        },
        {
          "name": "stdout",
          "output_type": "stream",
          "text": [
            "ResNet101 CRNN v2 | Train Loss: 0.0386 | Val Loss: 0.0568 | CER: 0.1388 | WER: 0.3130\n",
            "\n",
            "Final Scores (ResNet101 CRNN v2):\n",
            "Avg Train Loss: 0.0386\n",
            "Avg Val Loss:   0.0568\n",
            "Final CER:      0.1388\n",
            "Final WER:      0.3130\n",
            "\n",
            "Epoch 17/20\n"
          ]
        },
        {
          "name": "stderr",
          "output_type": "stream",
          "text": [
            "Training: 100%|██████████| 5007/5007 [08:53<00:00,  9.39batch/s, loss=0.136]\n"
          ]
        },
        {
          "name": "stdout",
          "output_type": "stream",
          "text": [
            "ResNet101 CRNN v2 | Train Loss: 0.0363 | Val Loss: 0.0813 | CER: 0.1426 | WER: 0.3141\n",
            "\n",
            "Final Scores (ResNet101 CRNN v2):\n",
            "Avg Train Loss: 0.0363\n",
            "Avg Val Loss:   0.0813\n",
            "Final CER:      0.1426\n",
            "Final WER:      0.3141\n",
            "\n",
            "Epoch 18/20\n"
          ]
        },
        {
          "name": "stderr",
          "output_type": "stream",
          "text": [
            "Training: 100%|██████████| 5007/5007 [08:50<00:00,  9.43batch/s, loss=0.359]\n"
          ]
        },
        {
          "name": "stdout",
          "output_type": "stream",
          "text": [
            "ResNet101 CRNN v2 | Train Loss: 0.0289 | Val Loss: 0.0738 | CER: 0.1314 | WER: 0.2916\n",
            "\n",
            "Final Scores (ResNet101 CRNN v2):\n",
            "Avg Train Loss: 0.0289\n",
            "Avg Val Loss:   0.0738\n",
            "Final CER:      0.1314\n",
            "Final WER:      0.2916\n",
            "\n",
            "Epoch 19/20\n"
          ]
        },
        {
          "name": "stderr",
          "output_type": "stream",
          "text": [
            "Training: 100%|██████████| 5007/5007 [08:52<00:00,  9.40batch/s, loss=0.0208]\n"
          ]
        },
        {
          "name": "stdout",
          "output_type": "stream",
          "text": [
            "ResNet101 CRNN v2 | Train Loss: 0.0289 | Val Loss: 0.0545 | CER: 0.1370 | WER: 0.3104\n",
            "\n",
            "Final Scores (ResNet101 CRNN v2):\n",
            "Avg Train Loss: 0.0289\n",
            "Avg Val Loss:   0.0545\n",
            "Final CER:      0.1370\n",
            "Final WER:      0.3104\n",
            "\n",
            "Epoch 20/20\n"
          ]
        },
        {
          "name": "stderr",
          "output_type": "stream",
          "text": [
            "Training: 100%|██████████| 5007/5007 [08:51<00:00,  9.41batch/s, loss=0.0213]\n"
          ]
        },
        {
          "name": "stdout",
          "output_type": "stream",
          "text": [
            "ResNet101 CRNN v2 | Train Loss: 0.0272 | Val Loss: 0.0439 | CER: 0.1333 | WER: 0.2900\n",
            "\n",
            "Final Scores (ResNet101 CRNN v2):\n",
            "Avg Train Loss: 0.0272\n",
            "Avg Val Loss:   0.0439\n",
            "Final CER:      0.1333\n",
            "Final WER:      0.2900\n"
          ]
        }
      ],
      "source": [
        "import torch\n",
        "import torch.nn as nn\n",
        "import torch.nn.functional as F\n",
        "import torchvision.models as models\n",
        "from torch.nn.utils.rnn import pad_sequence\n",
        "import editdistance\n",
        "from jiwer import wer\n",
        "import matplotlib.pyplot as plt\n",
        "from tqdm import tqdm\n",
        "from symspellpy import SymSpell, Verbosity\n",
        "import re\n",
        "\n",
        "# === Tracking variables for CRNN ResNet101 v2 ===\n",
        "train_losses_resnet101_v2 = []\n",
        "val_losses_resnet101_v2 = []\n",
        "cer_list_resnet101_v2 = []\n",
        "wer_list_resnet101_v2 = []\n",
        "sentence_lengths_resnet101_v2 = []\n",
        "cer_by_length_resnet101_v2 = []\n",
        "\n",
        "# === SymSpell Setup ===\n",
        "sym_spell = SymSpell(max_dictionary_edit_distance=2, prefix_length=7)\n",
        "sym_spell.load_dictionary(\"frequency_dictionary_en_82_765.txt\", term_index=0, count_index=1)\n",
        "\n",
        "\n",
        "# Pattern to match tag-like fragments (e.g., <hi>, <<hi>>, hi>, <en>, etc.)\n",
        "TAG_PATTERN = re.compile(r'^<*<?\\s*(hi|hii|en)\\s*>*>>*$', re.IGNORECASE)\n",
        "\n",
        "def symspell_correct(text):\n",
        "    tokens = text.strip().split()\n",
        "\n",
        "    if not tokens:\n",
        "        return text\n",
        "\n",
        "    first_token = tokens[0].lower()\n",
        "\n",
        "    # If Hindi tag detected (hi or hii), skip correction entirely\n",
        "    if \"hi\" in first_token:  # covers hi, hii, <hi>, <<hii>>, etc.\n",
        "        return text\n",
        "\n",
        "    corrected = []\n",
        "    for i, word in enumerate(tokens):\n",
        "        # Preserve tag-like tokens (e.g., <en>, <<en>>, en>, etc.)\n",
        "        if TAG_PATTERN.match(word.lower()):\n",
        "            corrected.append(word)\n",
        "            continue\n",
        "\n",
        "        # Apply SymSpell correction\n",
        "        suggestions = sym_spell.lookup(word, Verbosity.CLOSEST, max_edit_distance=2)\n",
        "        corrected.append(suggestions[0].term if suggestions else word)\n",
        "\n",
        "    return ' '.join(corrected)\n",
        "\n",
        "\n",
        "class CRNN_OCR_ResNet101_v2(nn.Module):\n",
        "    def __init__(self, num_classes):\n",
        "        super(CRNN_OCR_ResNet101_v2, self).__init__()\n",
        "        resnet = models.resnet101(pretrained=True)\n",
        "        modules = list(resnet.children())[:-3]  # Keep up to conv4_x\n",
        "        self.cnn = nn.Sequential(*modules)\n",
        "        self.adaptive_pool = nn.AdaptiveAvgPool2d((1, None))\n",
        "        self.rnn = nn.LSTM(\n",
        "            input_size=1024,\n",
        "            hidden_size=256,\n",
        "            num_layers=2,\n",
        "            bidirectional=True,\n",
        "            batch_first=True\n",
        "        )\n",
        "        self.fc = nn.Linear(512, num_classes)\n",
        "\n",
        "    def forward(self, x):\n",
        "        x = x.repeat(1, 3, 1, 1)  # Grayscale to RGB\n",
        "        features = self.cnn(x)\n",
        "        features = self.adaptive_pool(features)\n",
        "        features = features.squeeze(2).permute(0, 2, 1)\n",
        "        rnn_out, _ = self.rnn(features)\n",
        "        output = self.fc(rnn_out).permute(1, 0, 2)  # [W, B, num_classes]\n",
        "        return output\n",
        "\n",
        "\n",
        "vocab_size = len(tokenizer)\n",
        "model_crnn_resnet101_v2 = CRNN_OCR_ResNet101_v2(num_classes=vocab_size).to(device)\n",
        "\n",
        "ctc_loss_fn = nn.CTCLoss(blank=0, zero_infinity=True)\n",
        "optimizer_crnn_resnet101_v2 = torch.optim.AdamW(model_crnn_resnet101_v2.parameters(), lr=1e-4)\n",
        "\n",
        "scheduler = torch.optim.lr_scheduler.ReduceLROnPlateau(\n",
        "    optimizer_crnn_resnet101_v2, mode='min', factor=0.5, patience=3, verbose=True\n",
        ")\n",
        "\n",
        "num_epochs = 20\n",
        "best_model_path_v2 = \"best_model_resnet101_v2.pth\"\n",
        "\n",
        "for epoch in range(num_epochs):\n",
        "    model_crnn_resnet101_v2.train()\n",
        "    total_train_loss = 0\n",
        "    total_batches = len(train_loader)\n",
        "\n",
        "    print(f\"\\nEpoch {epoch + 1}/{num_epochs}\")\n",
        "    train_loader_progress = tqdm(train_loader, desc=\"Training\", unit=\"batch\")\n",
        "\n",
        "    for batch in train_loader_progress:\n",
        "        images = batch[\"images\"].to(device)\n",
        "        labels = batch[\"labels\"].to(device)\n",
        "        label_lengths = batch[\"label_lengths\"].to(device)\n",
        "\n",
        "        logits = model_crnn_resnet101_v2(images)\n",
        "        input_lengths = torch.full((logits.size(1),), logits.size(0), dtype=torch.long).to(device)\n",
        "        targets = torch.cat([labels[i][:label_lengths[i]] for i in range(len(labels))]).to(device)\n",
        "\n",
        "        log_probs = F.log_softmax(logits, dim=2)\n",
        "        loss = ctc_loss_fn(log_probs, targets, input_lengths, label_lengths)\n",
        "\n",
        "        optimizer_crnn_resnet101_v2.zero_grad()\n",
        "        loss.backward()\n",
        "        optimizer_crnn_resnet101_v2.step()\n",
        "\n",
        "        total_train_loss += loss.item()\n",
        "        train_loader_progress.set_postfix(loss=loss.item())\n",
        "\n",
        "    avg_train_loss = total_train_loss / total_batches\n",
        "    train_losses_resnet101_v2.append(avg_train_loss)\n",
        "\n",
        "    model_crnn_resnet101_v2.eval()\n",
        "    total_val_loss = 0\n",
        "    total_cer = 0\n",
        "    total_wer = 0\n",
        "    sample_count = 0\n",
        "\n",
        "    with torch.no_grad():\n",
        "        for batch in test_loader:\n",
        "            images = batch[\"images\"].to(device)\n",
        "            labels = batch[\"labels\"].to(device)\n",
        "            label_lengths = batch[\"label_lengths\"].to(device)\n",
        "\n",
        "            logits = model_crnn_resnet101_v2(images)\n",
        "            input_lengths = torch.full((logits.size(1),), logits.size(0), dtype=torch.long).to(device)\n",
        "            targets = torch.cat([labels[i][:label_lengths[i]] for i in range(len(labels))]).to(device)\n",
        "\n",
        "            log_probs = F.log_softmax(logits, dim=2)\n",
        "            val_loss = ctc_loss_fn(log_probs, targets, input_lengths, label_lengths)\n",
        "            total_val_loss += val_loss.item()\n",
        "\n",
        "            preds = logits.softmax(2).argmax(2).permute(1, 0).cpu().numpy()\n",
        "            for i, pred in enumerate(preds):\n",
        "                pred_text = tokenizer.decode(pred)\n",
        "                pred_text = symspell_correct(pred_text)  # <- Post-correction\n",
        "                true_text = tokenizer.decode(labels[i][:label_lengths[i]].cpu().numpy())\n",
        "\n",
        "                cer_score = editdistance.eval(pred_text, true_text) / max(1, len(true_text))\n",
        "                wer_score = wer(true_text, pred_text)\n",
        "\n",
        "                total_cer += cer_score\n",
        "                total_wer += wer_score\n",
        "                sentence_lengths_resnet101_v2.append(len(true_text))\n",
        "                cer_by_length_resnet101_v2.append(cer_score)\n",
        "                sample_count += 1\n",
        "\n",
        "    avg_val_loss = total_val_loss / len(test_loader)\n",
        "    avg_cer = total_cer / sample_count\n",
        "    avg_wer = total_wer / sample_count\n",
        "\n",
        "    val_losses_resnet101_v2.append(avg_val_loss)\n",
        "    cer_list_resnet101_v2.append(avg_cer)\n",
        "    wer_list_resnet101_v2.append(avg_wer)\n",
        "\n",
        "    scheduler.step(avg_val_loss)\n",
        "\n",
        "    if len(cer_list_resnet101_v2) == 1 or avg_cer < min(cer_list_resnet101_v2[:-1]):\n",
        "        torch.save({\n",
        "            'model_state_dict': model_crnn_resnet101_v2.state_dict(),\n",
        "            'optimizer_state_dict': optimizer_crnn_resnet101_v2.state_dict(),\n",
        "            'vocab_size': vocab_size,\n",
        "            'tokenizer_config': tokenizer.char2idx\n",
        "        }, best_model_path_v2)\n",
        "        print(f\"\\n  Saved best model (epoch {epoch + 1}) with CER: {avg_cer:.4f}\")\n",
        "\n",
        "    print(f\"ResNet101 CRNN v2 | Train Loss: {avg_train_loss:.4f} | Val Loss: {avg_val_loss:.4f} | CER: {avg_cer:.4f} | WER: {avg_wer:.4f}\")\n",
        "    print(f\"\\nFinal Scores (ResNet101 CRNN v2):\")\n",
        "    print(f\"Avg Train Loss: {avg_train_loss:.4f}\")\n",
        "    print(f\"Avg Val Loss:   {avg_val_loss:.4f}\")\n",
        "    print(f\"Final CER:      {avg_cer:.4f}\")\n",
        "    print(f\"Final WER:      {avg_wer:.4f}\")"
      ]
    },
    {
      "cell_type": "code",
      "execution_count": null,
      "metadata": {
        "colab": {
          "base_uri": "https://localhost:8080/",
          "height": 1000
        },
        "id": "mQre-P76CIvy",
        "outputId": "73336036-3a2c-44d4-d11e-39a910a6ae7b"
      },
      "outputs": [
        {
          "data": {
            "image/png": "[encoded data removed]",
            "text/plain": [
              "<Figure size 1000x500 with 1 Axes>"
            ]
          },
          "metadata": {},
          "output_type": "display_data"
        },
        {
          "data": {
            "image/png": "[encoded data removed]",
            "text/plain": [
              "<Figure size 1000x500 with 1 Axes>"
            ]
          },
          "metadata": {},
          "output_type": "display_data"
        },
        {
          "data": {
            "image/png": "[encoded data removed]",
            "text/plain": [
              "<Figure size 1000x500 with 1 Axes>"
            ]
          },
          "metadata": {},
          "output_type": "display_data"
        }
      ],
      "source": [
        "import matplotlib.pyplot as plt\n",
        "import seaborn as sns\n",
        "\n",
        "epochs = list(range(1, len(train_losses_resnet101_v2) + 1))\n",
        "\n",
        "# === Loss Curve ===\n",
        "plt.figure(figsize=(10, 5))\n",
        "plt.plot(epochs, train_losses_resnet101_v2, label='Train Loss')\n",
        "plt.plot(epochs, val_losses_resnet101_v2, label='Validation Loss')\n",
        "plt.title('ResNet101 CRNN v2 - Loss Curve')\n",
        "plt.xlabel('Epoch')\n",
        "plt.ylabel('Loss')\n",
        "plt.xticks(epochs)\n",
        "plt.legend()\n",
        "plt.grid(True)\n",
        "plt.tight_layout()\n",
        "plt.show()\n",
        "\n",
        "# === CER & WER over Epochs ===\n",
        "plt.figure(figsize=(10, 5))\n",
        "plt.plot(epochs, cer_list_resnet101_v2, label='CER')\n",
        "plt.plot(epochs, wer_list_resnet101_v2, label='WER')\n",
        "plt.title('ResNet101 CRNN v2 - CER & WER Over Epochs')\n",
        "plt.xlabel('Epoch')\n",
        "plt.ylabel('Rate')\n",
        "plt.xticks(epochs)\n",
        "plt.legend()\n",
        "plt.grid(True)\n",
        "plt.tight_layout()\n",
        "plt.show()\n",
        "\n",
        "# === Sentence Length vs CER ===\n",
        "plt.figure(figsize=(10, 5))\n",
        "sns.histplot(x=sentence_lengths_resnet101_v2, weights=cer_by_length_resnet101_v2, bins=20, kde=False)\n",
        "plt.title('ResNet101 CRNN v2 - Sentence Length vs CER')\n",
        "plt.xlabel('Sentence Length')\n",
        "plt.ylabel('CER')\n",
        "plt.grid(True)\n",
        "plt.tight_layout()\n",
        "plt.show()"
      ]
    },
    {
      "cell_type": "code",
      "execution_count": null,
      "metadata": {
        "colab": {
          "base_uri": "https://localhost:8080/"
        },
        "id": "WLlmjXrxy5lh",
        "outputId": "4c6370f0-14c2-47ef-d826-e53654f5a18b"
      },
      "outputs": [
        {
          "name": "stdout",
          "output_type": "stream",
          "text": [
            "\n",
            " Sample Predictions (CRNN ResNet101 v2):\n",
            "\n",
            "Predicted : <hi>  ककााल  मेंं अरब  कके  अमीरर  मुुल्फ़़ भीी  ककर््ज़  लेनेे  पर हुुए\n",
            "Actual    : <hi> काल में अरब के अमीर मुल्क़ भी कर्ज़ लेने पर हुए\n",
            "CER       : 0.404\n",
            "----------------------------------------\n",
            "Predicted : <hi>  ट््ररंप::  ललगततताा  हैै  ककिि  अदाालतें  भीी  सिियाासी  हो  गईई\n",
            "Actual    : <hi> ट्रंप: लगता है कि अदालतें भी सियासी हो गई\n",
            "CER       : 0.522\n",
            "----------------------------------------\n",
            "Predicted : <hi>  वर्ल्ड ककप  2019: ऑस्ट्रेलियाा  ने  वेसस्टइंडीीज़़  को  रनों  से\n",
            "Actual    : <hi> वर्ल्ड कप 2019: ऑस्ट्रेलिया ने वेस्टइंडीज़ को रनों से\n",
            "CER       : 0.207\n",
            "----------------------------------------\n",
            "Predicted : <en> thee year ﻿the minister wrote personally to some two\n",
            "Actual    : <en> the year the minister wrote personally to some two\n",
            "CER       : 0.036\n",
            "----------------------------------------\n",
            "Predicted : <hi>  रूूस  कीी  योजनाा   पर  पीी--5 देेशोों कीी\n",
            "Actual    : <hi> रूस की योजना पर पी-5 देशों की\n",
            "CER       : 0.412\n",
            "----------------------------------------\n",
            "Predicted : <en> record anyway\n",
            "Actual    : <en> record  anyway\n",
            "CER       : 0.053\n",
            "----------------------------------------\n",
            "Predicted : <en> a lot off it is imeviitabllee so that industry and\n",
            "Actual    : <en> a lot of it is inevitable so that industry and\n",
            "CER       : 0.098\n",
            "----------------------------------------\n",
            "Predicted : <en> so he described his distiingguiished\n",
            "Actual    : <en> so he described his distinguished\n",
            "CER       : 0.079\n",
            "----------------------------------------\n",
            "Predicted : <en> had ccllaiimed tax relief on ﻿the our\n",
            "Actual    : <en> had claimed tax relief on the pur\n",
            "CER       : 0.132\n",
            "----------------------------------------\n",
            "Predicted : <en> comiinnngg into ﻿the town fromm surrouundiinngg\n",
            "Actual    : <en> coming into the town from surrounding\n",
            "CER       : 0.238\n",
            "----------------------------------------\n",
            "\n",
            " Average CER (ResNet101 v2) over 10 samples: 0.218\n"
          ]
        }
      ],
      "source": [
        "from jiwer import cer\n",
        "\n",
        "total_cer_resnet101_v2 = 0\n",
        "sample_count_resnet101_v2 = 0\n",
        "sample_limit = 10\n",
        "\n",
        "print(\"\\n Sample Predictions (CRNN ResNet101 v2):\\n\")\n",
        "\n",
        "model_crnn_resnet101_v2.eval()\n",
        "\n",
        "with torch.no_grad():\n",
        "    for batch in test_loader:\n",
        "        images = batch[\"images\"].to(device)\n",
        "        labels = batch[\"labels\"]\n",
        "\n",
        "        logits = model_crnn_resnet101_v2(images)\n",
        "        preds = logits.softmax(2).argmax(2).permute(1, 0)  # [B, W]\n",
        "\n",
        "        for i, pred in enumerate(preds):\n",
        "            if sample_count_resnet101_v2 >= sample_limit:\n",
        "                break\n",
        "\n",
        "            decoded = tokenizer.decode(pred.cpu().numpy())\n",
        "            corrected = symspell_correct(decoded)\n",
        "            target_text = tokenizer.decode(labels[i].cpu().numpy())\n",
        "\n",
        "            cer_score = cer(target_text, corrected)\n",
        "            total_cer_resnet101_v2 += cer_score\n",
        "\n",
        "            print(f\"Predicted : {corrected}\")\n",
        "            print(f\"Actual    : {target_text}\")\n",
        "            print(f\"CER       : {cer_score:.3f}\")\n",
        "            print(\"-\" * 40)\n",
        "\n",
        "            sample_count_resnet101_v2 += 1\n",
        "\n",
        "        if sample_count_resnet101_v2 >= sample_limit:\n",
        "            break\n",
        "\n",
        "avg_cer_resnet101_v2 = total_cer_resnet101_v2 / sample_count_resnet101_v2\n",
        "print(f\"\\n Average CER (ResNet101 v2) over {sample_count_resnet101_v2} samples: {avg_cer_resnet101_v2:.3f}\")"
      ]
    },
    {
      "cell_type": "code",
      "execution_count": null,
      "metadata": {
        "id": "aDZrUsgWht5x"
      },
      "outputs": [],
      "source": []
    },
    {
      "cell_type": "code",
      "execution_count": null,
      "metadata": {
        "id": "WU7Ehqwvht3T"
      },
      "outputs": [],
      "source": [
        "def segment_lines_and_show_resnet101(image_path):\n",
        "    img = cv2.imread(image_path, cv2.IMREAD_GRAYSCALE)\n",
        "    color_img = cv2.cvtColor(img, cv2.COLOR_GRAY2BGR)\n",
        "    _, binary = cv2.threshold(img, 0, 255, cv2.THRESH_BINARY_INV + cv2.THRESH_OTSU)\n",
        "\n",
        "    hist = np.sum(binary, axis=1)\n",
        "    h, w = binary.shape\n",
        "    in_line = False\n",
        "    top = 0\n",
        "    boxes = []\n",
        "\n",
        "    for i in range(h):\n",
        "        if hist[i] > 0 and not in_line:\n",
        "            in_line = True\n",
        "            top = i\n",
        "        elif hist[i] == 0 and in_line:\n",
        "            in_line = False\n",
        "            bottom = i\n",
        "            if bottom - top > 5:\n",
        "                boxes.append((top, bottom))\n",
        "                cv2.rectangle(color_img, (0, top), (w - 1, bottom), (0, 255, 0), 2)\n",
        "\n",
        "    plt.figure(figsize=(12, 10))\n",
        "    plt.imshow(cv2.cvtColor(color_img, cv2.COLOR_BGR2RGB))\n",
        "    plt.title(\"Detected Text Lines (ResNet101)\")\n",
        "    plt.axis(\"off\")\n",
        "    plt.show()"
      ]
    },
    {
      "cell_type": "code",
      "execution_count": null,
      "metadata": {
        "colab": {
          "base_uri": "https://localhost:8080/",
          "height": 731
        },
        "id": "cOHdBq-hldmT",
        "outputId": "06baf33d-d08e-438c-ff38-b052c045bcd6"
      },
      "outputs": [
        {
          "data": {
            "image/png": "[encoded data removed]",
            "text/plain": [
              "<Figure size 1200x1000 with 1 Axes>"
            ]
          },
          "metadata": {},
          "output_type": "display_data"
        },
        {
          "ename": "FileNotFoundError",
          "evalue": "[Errno 2] No such file or directory: 'resnet100_CRNN.pth'",
          "output_type": "error",
          "traceback": [
            "\u001b[0;31m---------------------------------------------------------------------------\u001b[0m",
            "\u001b[0;31mFileNotFoundError\u001b[0m                         Traceback (most recent call last)",
            "\u001b[0;32m<ipython-input-53-9d424b9c02ee>\u001b[0m in \u001b[0;36m<cell line: 0>\u001b[0;34m()\u001b[0m\n\u001b[1;32m      1\u001b[0m \u001b[0msegment_lines_and_show_resnet101\u001b[0m\u001b[0;34m(\u001b[0m\u001b[0;34m\"/content/testIMG.png\"\u001b[0m\u001b[0;34m)\u001b[0m\u001b[0;34m\u001b[0m\u001b[0;34m\u001b[0m\u001b[0m\n\u001b[0;32m----> 2\u001b[0;31m \u001b[0mtext\u001b[0m \u001b[0;34m=\u001b[0m \u001b[0mextract_text_resnet101\u001b[0m\u001b[0;34m(\u001b[0m\u001b[0;34m\"/content/testIMG.png\"\u001b[0m\u001b[0;34m)\u001b[0m\u001b[0;34m\u001b[0m\u001b[0;34m\u001b[0m\u001b[0m\n\u001b[0m\u001b[1;32m      3\u001b[0m \u001b[0mprint\u001b[0m\u001b[0;34m(\u001b[0m\u001b[0;34m\"Predicted Text:\\n\"\u001b[0m\u001b[0;34m,\u001b[0m \u001b[0mtext\u001b[0m\u001b[0;34m)\u001b[0m\u001b[0;34m\u001b[0m\u001b[0;34m\u001b[0m\u001b[0m\n",
            "\u001b[0;32m<ipython-input-51-cb277a9e0426>\u001b[0m in \u001b[0;36mextract_text_resnet101\u001b[0;34m(image_path, model_path)\u001b[0m\n\u001b[1;32m     11\u001b[0m \u001b[0;34m\u001b[0m\u001b[0m\n\u001b[1;32m     12\u001b[0m     \u001b[0;31m# Load model checkpoint\u001b[0m\u001b[0;34m\u001b[0m\u001b[0;34m\u001b[0m\u001b[0m\n\u001b[0;32m---> 13\u001b[0;31m     \u001b[0mcheckpoint\u001b[0m \u001b[0;34m=\u001b[0m \u001b[0mtorch\u001b[0m\u001b[0;34m.\u001b[0m\u001b[0mload\u001b[0m\u001b[0;34m(\u001b[0m\u001b[0mmodel_path\u001b[0m\u001b[0;34m,\u001b[0m \u001b[0mmap_location\u001b[0m\u001b[0;34m=\u001b[0m\u001b[0mdevice\u001b[0m\u001b[0;34m)\u001b[0m\u001b[0;34m\u001b[0m\u001b[0;34m\u001b[0m\u001b[0m\n\u001b[0m\u001b[1;32m     14\u001b[0m \u001b[0;34m\u001b[0m\u001b[0m\n\u001b[1;32m     15\u001b[0m     \u001b[0mmodel\u001b[0m \u001b[0;34m=\u001b[0m \u001b[0mCRNN_OCR_ResNet101\u001b[0m\u001b[0;34m(\u001b[0m\u001b[0mnum_classes\u001b[0m\u001b[0;34m=\u001b[0m\u001b[0mcheckpoint\u001b[0m\u001b[0;34m[\u001b[0m\u001b[0;34m'vocab_size'\u001b[0m\u001b[0;34m]\u001b[0m\u001b[0;34m)\u001b[0m\u001b[0;34m\u001b[0m\u001b[0;34m\u001b[0m\u001b[0m\n",
            "\u001b[0;32m/usr/local/lib/python3.11/dist-packages/torch/serialization.py\u001b[0m in \u001b[0;36mload\u001b[0;34m(f, map_location, pickle_module, weights_only, mmap, **pickle_load_args)\u001b[0m\n\u001b[1;32m   1423\u001b[0m         \u001b[0mpickle_load_args\u001b[0m\u001b[0;34m[\u001b[0m\u001b[0;34m\"encoding\"\u001b[0m\u001b[0;34m]\u001b[0m \u001b[0;34m=\u001b[0m \u001b[0;34m\"utf-8\"\u001b[0m\u001b[0;34m\u001b[0m\u001b[0;34m\u001b[0m\u001b[0m\n\u001b[1;32m   1424\u001b[0m \u001b[0;34m\u001b[0m\u001b[0m\n\u001b[0;32m-> 1425\u001b[0;31m     \u001b[0;32mwith\u001b[0m \u001b[0m_open_file_like\u001b[0m\u001b[0;34m(\u001b[0m\u001b[0mf\u001b[0m\u001b[0;34m,\u001b[0m \u001b[0;34m\"rb\"\u001b[0m\u001b[0;34m)\u001b[0m \u001b[0;32mas\u001b[0m \u001b[0mopened_file\u001b[0m\u001b[0;34m:\u001b[0m\u001b[0;34m\u001b[0m\u001b[0;34m\u001b[0m\u001b[0m\n\u001b[0m\u001b[1;32m   1426\u001b[0m         \u001b[0;32mif\u001b[0m \u001b[0m_is_zipfile\u001b[0m\u001b[0;34m(\u001b[0m\u001b[0mopened_file\u001b[0m\u001b[0;34m)\u001b[0m\u001b[0;34m:\u001b[0m\u001b[0;34m\u001b[0m\u001b[0;34m\u001b[0m\u001b[0m\n\u001b[1;32m   1427\u001b[0m             \u001b[0;31m# The zipfile reader is going to advance the current file position.\u001b[0m\u001b[0;34m\u001b[0m\u001b[0;34m\u001b[0m\u001b[0m\n",
            "\u001b[0;32m/usr/local/lib/python3.11/dist-packages/torch/serialization.py\u001b[0m in \u001b[0;36m_open_file_like\u001b[0;34m(name_or_buffer, mode)\u001b[0m\n\u001b[1;32m    749\u001b[0m \u001b[0;32mdef\u001b[0m \u001b[0m_open_file_like\u001b[0m\u001b[0;34m(\u001b[0m\u001b[0mname_or_buffer\u001b[0m\u001b[0;34m,\u001b[0m \u001b[0mmode\u001b[0m\u001b[0;34m)\u001b[0m\u001b[0;34m:\u001b[0m\u001b[0;34m\u001b[0m\u001b[0;34m\u001b[0m\u001b[0m\n\u001b[1;32m    750\u001b[0m     \u001b[0;32mif\u001b[0m \u001b[0m_is_path\u001b[0m\u001b[0;34m(\u001b[0m\u001b[0mname_or_buffer\u001b[0m\u001b[0;34m)\u001b[0m\u001b[0;34m:\u001b[0m\u001b[0;34m\u001b[0m\u001b[0;34m\u001b[0m\u001b[0m\n\u001b[0;32m--> 751\u001b[0;31m         \u001b[0;32mreturn\u001b[0m \u001b[0m_open_file\u001b[0m\u001b[0;34m(\u001b[0m\u001b[0mname_or_buffer\u001b[0m\u001b[0;34m,\u001b[0m \u001b[0mmode\u001b[0m\u001b[0;34m)\u001b[0m\u001b[0;34m\u001b[0m\u001b[0;34m\u001b[0m\u001b[0m\n\u001b[0m\u001b[1;32m    752\u001b[0m     \u001b[0;32melse\u001b[0m\u001b[0;34m:\u001b[0m\u001b[0;34m\u001b[0m\u001b[0;34m\u001b[0m\u001b[0m\n\u001b[1;32m    753\u001b[0m         \u001b[0;32mif\u001b[0m \u001b[0;34m\"w\"\u001b[0m \u001b[0;32min\u001b[0m \u001b[0mmode\u001b[0m\u001b[0;34m:\u001b[0m\u001b[0;34m\u001b[0m\u001b[0;34m\u001b[0m\u001b[0m\n",
            "\u001b[0;32m/usr/local/lib/python3.11/dist-packages/torch/serialization.py\u001b[0m in \u001b[0;36m__init__\u001b[0;34m(self, name, mode)\u001b[0m\n\u001b[1;32m    730\u001b[0m \u001b[0;32mclass\u001b[0m \u001b[0m_open_file\u001b[0m\u001b[0;34m(\u001b[0m\u001b[0m_opener\u001b[0m\u001b[0;34m)\u001b[0m\u001b[0;34m:\u001b[0m\u001b[0;34m\u001b[0m\u001b[0;34m\u001b[0m\u001b[0m\n\u001b[1;32m    731\u001b[0m     \u001b[0;32mdef\u001b[0m \u001b[0m__init__\u001b[0m\u001b[0;34m(\u001b[0m\u001b[0mself\u001b[0m\u001b[0;34m,\u001b[0m \u001b[0mname\u001b[0m\u001b[0;34m,\u001b[0m \u001b[0mmode\u001b[0m\u001b[0;34m)\u001b[0m\u001b[0;34m:\u001b[0m\u001b[0;34m\u001b[0m\u001b[0;34m\u001b[0m\u001b[0m\n\u001b[0;32m--> 732\u001b[0;31m         \u001b[0msuper\u001b[0m\u001b[0;34m(\u001b[0m\u001b[0;34m)\u001b[0m\u001b[0;34m.\u001b[0m\u001b[0m__init__\u001b[0m\u001b[0;34m(\u001b[0m\u001b[0mopen\u001b[0m\u001b[0;34m(\u001b[0m\u001b[0mname\u001b[0m\u001b[0;34m,\u001b[0m \u001b[0mmode\u001b[0m\u001b[0;34m)\u001b[0m\u001b[0;34m)\u001b[0m\u001b[0;34m\u001b[0m\u001b[0;34m\u001b[0m\u001b[0m\n\u001b[0m\u001b[1;32m    733\u001b[0m \u001b[0;34m\u001b[0m\u001b[0m\n\u001b[1;32m    734\u001b[0m     \u001b[0;32mdef\u001b[0m \u001b[0m__exit__\u001b[0m\u001b[0;34m(\u001b[0m\u001b[0mself\u001b[0m\u001b[0;34m,\u001b[0m \u001b[0;34m*\u001b[0m\u001b[0margs\u001b[0m\u001b[0;34m)\u001b[0m\u001b[0;34m:\u001b[0m\u001b[0;34m\u001b[0m\u001b[0;34m\u001b[0m\u001b[0m\n",
            "\u001b[0;31mFileNotFoundError\u001b[0m: [Errno 2] No such file or directory: 'resnet100_CRNN.pth'"
          ]
        }
      ],
      "source": [
        "segment_lines_and_show_resnet101(\"/content/testIMG.png\")\n",
        "text = extract_text_resnet101(\"/content/testIMG.png\")\n",
        "print(\"Predicted Text:\\n\", text)"
      ]
    },
    {
      "cell_type": "code",
      "execution_count": null,
      "metadata": {
        "id": "TcmWNDkVht0h"
      },
      "outputs": [],
      "source": []
    },
    {
      "cell_type": "code",
      "execution_count": null,
      "metadata": {
        "id": "df2Ta1-bhtt-"
      },
      "outputs": [],
      "source": []
    },
    {
      "cell_type": "markdown",
      "metadata": {
        "id": "ZmRsyzmvqYbr"
      },
      "source": [
        "## Language Detection"
      ]
    },
    {
      "cell_type": "code",
      "execution_count": null,
      "metadata": {
        "id": "kvi-wMmWqYbr"
      },
      "outputs": [],
      "source": [
        "import fasttext\n",
        "import torch\n",
        "\n",
        "# Detect the best available device\n",
        "device = \"cuda\" if torch.cuda.is_available() else (\"mps\" if torch.backends.mps.is_available() else \"cpu\")\n",
        "print(f\"Using device: {device}\")\n",
        "\n",
        "# Ensure correct path to model file\n",
        "model_path = \"/Users/krishnanand/Documents/Git/Dependencies/lid.176.bin\"  # Update this path if necessary\n",
        "model = fasttext.load_model(model_path)\n",
        "\n",
        "def detect_language(text):\n",
        "    \"\"\"Detect language of given text using FastText.\"\"\"\n",
        "    predictions = model.predict(text)\n",
        "    lang_code = predictions[0][0].replace('__label__', '')\n",
        "    return lang_code\n",
        "\n",
        "text = \"Bonjour, comment allez-vous?\"\n",
        "detected_lang = detect_language(text)\n",
        "print(f\"Detected Language: {detected_lang}\")"
      ]
    },
    {
      "cell_type": "markdown",
      "metadata": {
        "id": "uyqKTkoZqYbr"
      },
      "source": [
        "## Summarization  "
      ]
    },
    {
      "cell_type": "code",
      "execution_count": null,
      "metadata": {
        "id": "CiMXYgE1qYbr"
      },
      "outputs": [],
      "source": [
        "from transformers import pipeline\n",
        "import torch\n",
        "\n",
        "device = 0 if torch.cuda.is_available() else (0 if torch.backends.mps.is_available() else -1)\n",
        "\n",
        "# Load summarization pipeline (T5-Base)\n",
        "summarizer = pipeline(\"summarization\", model=\"t5-base\", device=device)\n",
        "\n",
        "# Example input text\n",
        "text = \"\"\"\n",
        "Artificial intelligence (AI) is the simulation of human intelligence processes by machines, especially computer systems.\n",
        "These processes include learning, reasoning, and self-correction. AI is one of the most exciting and disruptive technologies\n",
        "of our time, influencing everything from healthcare to transportation.\n",
        "\"\"\"\n",
        "\n",
        "# Generate summary\n",
        "summary = summarizer(text, max_length=100, min_length=30, do_sample=False)\n",
        "summary_text = summary[0]['summary_text']\n",
        "print(\"Summary in English:\", summary_text)\n",
        "\n",
        "# Load translation pipeline with a better model\n",
        "translator = pipeline(\"translation\", model=\"Helsinki-NLP/opus-mt-en-es\", device=device)\n",
        "\n",
        "# Translate the summary\n",
        "translated_summary = translator(summary_text)\n",
        "print(\"Translated Summary in Spanish:\", translated_summary[0]['translation_text'])"
      ]
    },
    {
      "cell_type": "markdown",
      "metadata": {
        "id": "jXxg4mnHqYbr"
      },
      "source": [
        "## Translator"
      ]
    },
    {
      "cell_type": "code",
      "execution_count": null,
      "metadata": {
        "id": "ZWOJw30sqYbr"
      },
      "outputs": [],
      "source": [
        "from transformers import pipeline\n",
        "import torch\n",
        "\n",
        "device = 0 if torch.cuda.is_available() else (0 if torch.backends.mps.is_available() else -1)\n",
        "\n",
        "# Load the NLLB model for French to Hindi translation\n",
        "translator = pipeline(\"translation\", model=\"facebook/nllb-200-distilled-600M\", device=device)\n",
        "\n",
        "# Example French text\n",
        "text = \"Bonjour, comment allez-vous aujourd'hui?\"\n",
        "\n",
        "# Translate the text from French to English\n",
        "translated_text = translator(text, src_lang=\"fra_Latn\", tgt_lang=\"eng_Latn\")\n",
        "english_translation = translated_text[0]['translation_text']\n",
        "print(\"Translated to English:\", english_translation)\n",
        "\n",
        "# Now, translate from English to Hindi\n",
        "translated_to_hindi = translator(english_translation, src_lang=\"eng_Latn\", tgt_lang=\"hin_Deva\")\n",
        "print(\"Translated to Hindi:\", translated_to_hindi[0]['translation_text'])"
      ]
    },
    {
      "cell_type": "markdown",
      "metadata": {
        "id": "e4dIZZhVqYbs"
      },
      "source": [
        "## TTS"
      ]
    },
    {
      "cell_type": "code",
      "execution_count": null,
      "metadata": {
        "id": "bLE1P_gYqYbs"
      },
      "outputs": [],
      "source": [
        "from TTS.api import TTS\n",
        "import torch\n",
        "\n",
        "# Detect best available device (CUDA for NVIDIA, MPS for Apple Silicon, CPU as fallback)\n",
        "device = \"cuda\" if torch.cuda.is_available() else (\"mps\" if torch.backends.mps.is_available() else \"cpu\")\n",
        "print(f\"Using device: {device}\")\n",
        "\n",
        "# Load a single-language English TTS model and move it to the selected device\n",
        "tts = TTS(\"tts_models/en/ljspeech/tacotron2-DDC\").to(device)\n",
        "\n",
        "# Text to convert\n",
        "text = (\"The error 'Model is not multi-lingual but language is provided' means that \"\n",
        "        \"the model does not support multiple languages. This model can only generate speech in English, \"\n",
        "        \"so specifying language (French) is invalid.\")\n",
        "\n",
        "# Convert text to speech and save as an audio file\n",
        "tts.tts_to_file(text=text, file_path=\"/Users/krishnanand/Documents/Git/Tests/test123.wav\")\n",
        "\n",
        "print(\"Speech synthesis complete! Output saved as 'test123.wav'.\")"
      ]
    },
    {
      "cell_type": "code",
      "execution_count": null,
      "metadata": {
        "id": "b2tAsPXQWgqO"
      },
      "outputs": [],
      "source": []
    }
  ],
  "metadata": {
    "accelerator": "GPU",
    "colab": {
      "gpuType": "A100",
      "machine_shape": "hm",
      "provenance": []
    },
    "kernelspec": {
      "display_name": "base",
      "language": "python",
      "name": "python3"
    },
    "language_info": {
      "codemirror_mode": {
        "name": "ipython",
        "version": 3
      },
      "file_extension": ".py",
      "mimetype": "text/x-python",
      "name": "python",
      "nbconvert_exporter": "python",
      "pygments_lexer": "ipython3",
      "version": "3.9.13"
    },
    "widgets": {
      "application/vnd.jupyter.widget-state+json": {
        "030d09a576d94fa7820b28d8e90e988c": {
          "model_module": "@jupyter-widgets/controls",
          "model_module_version": "1.5.0",
          "model_name": "HBoxModel",
          "state": {
            "_dom_classes": [],
            "_model_module": "@jupyter-widgets/controls",
            "_model_module_version": "1.5.0",
            "_model_name": "HBoxModel",
            "_view_count": null,
            "_view_module": "@jupyter-widgets/controls",
            "_view_module_version": "1.5.0",
            "_view_name": "HBoxView",
            "box_style": "",
            "children": [
              "IPY_MODEL_2089fbed9ff944bc83b340eb433695b6",
              "IPY_MODEL_8d252caf7dcf40709e67b24e9fc2c0e9",
              "IPY_MODEL_e52d901a1a4c43d6b0f0c9d4baaa99b6"
            ],
            "layout": "IPY_MODEL_1112994759654b289c4832349954adb6"
          }
        },
        "09bce4098da2407880bebfa3ab326440": {
          "model_module": "@jupyter-widgets/base",
          "model_module_version": "1.2.0",
          "model_name": "LayoutModel",
          "state": {
            "_model_module": "@jupyter-widgets/base",
            "_model_module_version": "1.2.0",
            "_model_name": "LayoutModel",
            "_view_count": null,
            "_view_module": "@jupyter-widgets/base",
            "_view_module_version": "1.2.0",
            "_view_name": "LayoutView",
            "align_content": null,
            "align_items": null,
            "align_self": null,
            "border": null,
            "bottom": null,
            "display": null,
            "flex": null,
            "flex_flow": null,
            "grid_area": null,
            "grid_auto_columns": null,
            "grid_auto_flow": null,
            "grid_auto_rows": null,
            "grid_column": null,
            "grid_gap": null,
            "grid_row": null,
            "grid_template_areas": null,
            "grid_template_columns": null,
            "grid_template_rows": null,
            "height": null,
            "justify_content": null,
            "justify_items": null,
            "left": null,
            "margin": null,
            "max_height": null,
            "max_width": null,
            "min_height": null,
            "min_width": null,
            "object_fit": null,
            "object_position": null,
            "order": null,
            "overflow": null,
            "overflow_x": null,
            "overflow_y": null,
            "padding": null,
            "right": null,
            "top": null,
            "visibility": null,
            "width": null
          }
        },
        "0bf65c7fdb32482f846d8d3ec5dff2e3": {
          "model_module": "@jupyter-widgets/base",
          "model_module_version": "1.2.0",
          "model_name": "LayoutModel",
          "state": {
            "_model_module": "@jupyter-widgets/base",
            "_model_module_version": "1.2.0",
            "_model_name": "LayoutModel",
            "_view_count": null,
            "_view_module": "@jupyter-widgets/base",
            "_view_module_version": "1.2.0",
            "_view_name": "LayoutView",
            "align_content": null,
            "align_items": null,
            "align_self": null,
            "border": null,
            "bottom": null,
            "display": null,
            "flex": null,
            "flex_flow": null,
            "grid_area": null,
            "grid_auto_columns": null,
            "grid_auto_flow": null,
            "grid_auto_rows": null,
            "grid_column": null,
            "grid_gap": null,
            "grid_row": null,
            "grid_template_areas": null,
            "grid_template_columns": null,
            "grid_template_rows": null,
            "height": null,
            "justify_content": null,
            "justify_items": null,
            "left": null,
            "margin": null,
            "max_height": null,
            "max_width": null,
            "min_height": null,
            "min_width": null,
            "object_fit": null,
            "object_position": null,
            "order": null,
            "overflow": null,
            "overflow_x": null,
            "overflow_y": null,
            "padding": null,
            "right": null,
            "top": null,
            "visibility": null,
            "width": null
          }
        },
        "0c4183a6cdba48c6a434a5945a10b95d": {
          "model_module": "@jupyter-widgets/controls",
          "model_module_version": "1.5.0",
          "model_name": "FloatProgressModel",
          "state": {
            "_dom_classes": [],
            "_model_module": "@jupyter-widgets/controls",
            "_model_module_version": "1.5.0",
            "_model_name": "FloatProgressModel",
            "_view_count": null,
            "_view_module": "@jupyter-widgets/controls",
            "_view_module_version": "1.5.0",
            "_view_name": "ProgressView",
            "bar_style": "success",
            "description": "",
            "description_tooltip": null,
            "layout": "IPY_MODEL_6beddd790518454b970faff3965893de",
            "max": 190,
            "min": 0,
            "orientation": "horizontal",
            "style": "IPY_MODEL_cfe8a41bd0d149358cc4d2cdfb35fade",
            "value": 190
          }
        },
        "1112994759654b289c4832349954adb6": {
          "model_module": "@jupyter-widgets/base",
          "model_module_version": "1.2.0",
          "model_name": "LayoutModel",
          "state": {
            "_model_module": "@jupyter-widgets/base",
            "_model_module_version": "1.2.0",
            "_model_name": "LayoutModel",
            "_view_count": null,
            "_view_module": "@jupyter-widgets/base",
            "_view_module_version": "1.2.0",
            "_view_name": "LayoutView",
            "align_content": null,
            "align_items": null,
            "align_self": null,
            "border": null,
            "bottom": null,
            "display": null,
            "flex": null,
            "flex_flow": null,
            "grid_area": null,
            "grid_auto_columns": null,
            "grid_auto_flow": null,
            "grid_auto_rows": null,
            "grid_column": null,
            "grid_gap": null,
            "grid_row": null,
            "grid_template_areas": null,
            "grid_template_columns": null,
            "grid_template_rows": null,
            "height": null,
            "justify_content": null,
            "justify_items": null,
            "left": null,
            "margin": null,
            "max_height": null,
            "max_width": null,
            "min_height": null,
            "min_width": null,
            "object_fit": null,
            "object_position": null,
            "order": null,
            "overflow": null,
            "overflow_x": null,
            "overflow_y": null,
            "padding": null,
            "right": null,
            "top": null,
            "visibility": null,
            "width": null
          }
        },
        "11707eb1af944fa0b882ed3ea9461dc8": {
          "model_module": "@jupyter-widgets/base",
          "model_module_version": "1.2.0",
          "model_name": "LayoutModel",
          "state": {
            "_model_module": "@jupyter-widgets/base",
            "_model_module_version": "1.2.0",
            "_model_name": "LayoutModel",
            "_view_count": null,
            "_view_module": "@jupyter-widgets/base",
            "_view_module_version": "1.2.0",
            "_view_name": "LayoutView",
            "align_content": null,
            "align_items": null,
            "align_self": null,
            "border": null,
            "bottom": null,
            "display": null,
            "flex": null,
            "flex_flow": null,
            "grid_area": null,
            "grid_auto_columns": null,
            "grid_auto_flow": null,
            "grid_auto_rows": null,
            "grid_column": null,
            "grid_gap": null,
            "grid_row": null,
            "grid_template_areas": null,
            "grid_template_columns": null,
            "grid_template_rows": null,
            "height": null,
            "justify_content": null,
            "justify_items": null,
            "left": null,
            "margin": null,
            "max_height": null,
            "max_width": null,
            "min_height": null,
            "min_width": null,
            "object_fit": null,
            "object_position": null,
            "order": null,
            "overflow": null,
            "overflow_x": null,
            "overflow_y": null,
            "padding": null,
            "right": null,
            "top": null,
            "visibility": null,
            "width": null
          }
        },
        "16dde90519694625bfd80841166e0696": {
          "model_module": "@jupyter-widgets/controls",
          "model_module_version": "1.5.0",
          "model_name": "FloatProgressModel",
          "state": {
            "_dom_classes": [],
            "_model_module": "@jupyter-widgets/controls",
            "_model_module_version": "1.5.0",
            "_model_name": "FloatProgressModel",
            "_view_count": null,
            "_view_module": "@jupyter-widgets/controls",
            "_view_module_version": "1.5.0",
            "_view_name": "ProgressView",
            "bar_style": "success",
            "description": "",
            "description_tooltip": null,
            "layout": "IPY_MODEL_3de1ab7a170d40fbabba595f2e10aa95",
            "max": 1118,
            "min": 0,
            "orientation": "horizontal",
            "style": "IPY_MODEL_fa0de6fa2e34489ba74235dc9b9da31f",
            "value": 1118
          }
        },
        "19d015c4cfed4ad4a14902672a8bff70": {
          "model_module": "@jupyter-widgets/base",
          "model_module_version": "1.2.0",
          "model_name": "LayoutModel",
          "state": {
            "_model_module": "@jupyter-widgets/base",
            "_model_module_version": "1.2.0",
            "_model_name": "LayoutModel",
            "_view_count": null,
            "_view_module": "@jupyter-widgets/base",
            "_view_module_version": "1.2.0",
            "_view_name": "LayoutView",
            "align_content": null,
            "align_items": null,
            "align_self": null,
            "border": null,
            "bottom": null,
            "display": null,
            "flex": null,
            "flex_flow": null,
            "grid_area": null,
            "grid_auto_columns": null,
            "grid_auto_flow": null,
            "grid_auto_rows": null,
            "grid_column": null,
            "grid_gap": null,
            "grid_row": null,
            "grid_template_areas": null,
            "grid_template_columns": null,
            "grid_template_rows": null,
            "height": null,
            "justify_content": null,
            "justify_items": null,
            "left": null,
            "margin": null,
            "max_height": null,
            "max_width": null,
            "min_height": null,
            "min_width": null,
            "object_fit": null,
            "object_position": null,
            "order": null,
            "overflow": null,
            "overflow_x": null,
            "overflow_y": null,
            "padding": null,
            "right": null,
            "top": null,
            "visibility": null,
            "width": null
          }
        },
        "1c50b751f3ec41909e1aba8688f9513c": {
          "model_module": "@jupyter-widgets/controls",
          "model_module_version": "1.5.0",
          "model_name": "HBoxModel",
          "state": {
            "_dom_classes": [],
            "_model_module": "@jupyter-widgets/controls",
            "_model_module_version": "1.5.0",
            "_model_name": "HBoxModel",
            "_view_count": null,
            "_view_module": "@jupyter-widgets/controls",
            "_view_module_version": "1.5.0",
            "_view_name": "HBoxView",
            "box_style": "",
            "children": [
              "IPY_MODEL_d4c3fc8643ce41e0a5cf39c0060c69c9",
              "IPY_MODEL_9a99c353e60b4463a5e62cde66544003",
              "IPY_MODEL_83706bda6fa442ab8d6e8827690fdbd6"
            ],
            "layout": "IPY_MODEL_7c785b02ca7240549b19ab8640524417"
          }
        },
        "1e192f47fae74734936c28c3e3f1a6a8": {
          "model_module": "@jupyter-widgets/controls",
          "model_module_version": "1.5.0",
          "model_name": "FloatProgressModel",
          "state": {
            "_dom_classes": [],
            "_model_module": "@jupyter-widgets/controls",
            "_model_module_version": "1.5.0",
            "_model_name": "FloatProgressModel",
            "_view_count": null,
            "_view_module": "@jupyter-widgets/controls",
            "_view_module_version": "1.5.0",
            "_view_name": "ProgressView",
            "bar_style": "success",
            "description": "",
            "description_tooltip": null,
            "layout": "IPY_MODEL_ddfe6daa982147dbbd0106b5e2eb64a7",
            "max": 772,
            "min": 0,
            "orientation": "horizontal",
            "style": "IPY_MODEL_9e05a32c64694cbf9d7fe6fbabf271aa",
            "value": 772
          }
        },
        "2089fbed9ff944bc83b340eb433695b6": {
          "model_module": "@jupyter-widgets/controls",
          "model_module_version": "1.5.0",
          "model_name": "HTMLModel",
          "state": {
            "_dom_classes": [],
            "_model_module": "@jupyter-widgets/controls",
            "_model_module_version": "1.5.0",
            "_model_name": "HTMLModel",
            "_view_count": null,
            "_view_module": "@jupyter-widgets/controls",
            "_view_module_version": "1.5.0",
            "_view_name": "HTMLView",
            "description": "",
            "description_tooltip": null,
            "layout": "IPY_MODEL_5540ba19676f4a56808ddb8e58049959",
            "placeholder": "​",
            "style": "IPY_MODEL_878ab84bdaa74fd883de7b7132d556cd",
            "value": "merges.txt: 100%"
          }
        },
        "20a6528d98db4553a95bfa724243b64f": {
          "model_module": "@jupyter-widgets/controls",
          "model_module_version": "1.5.0",
          "model_name": "ProgressStyleModel",
          "state": {
            "_model_module": "@jupyter-widgets/controls",
            "_model_module_version": "1.5.0",
            "_model_name": "ProgressStyleModel",
            "_view_count": null,
            "_view_module": "@jupyter-widgets/base",
            "_view_module_version": "1.2.0",
            "_view_name": "StyleView",
            "bar_color": null,
            "description_width": ""
          }
        },
        "242da231dc8245fd86a0b263d7fd1ece": {
          "model_module": "@jupyter-widgets/base",
          "model_module_version": "1.2.0",
          "model_name": "LayoutModel",
          "state": {
            "_model_module": "@jupyter-widgets/base",
            "_model_module_version": "1.2.0",
            "_model_name": "LayoutModel",
            "_view_count": null,
            "_view_module": "@jupyter-widgets/base",
            "_view_module_version": "1.2.0",
            "_view_name": "LayoutView",
            "align_content": null,
            "align_items": null,
            "align_self": null,
            "border": null,
            "bottom": null,
            "display": null,
            "flex": null,
            "flex_flow": null,
            "grid_area": null,
            "grid_auto_columns": null,
            "grid_auto_flow": null,
            "grid_auto_rows": null,
            "grid_column": null,
            "grid_gap": null,
            "grid_row": null,
            "grid_template_areas": null,
            "grid_template_columns": null,
            "grid_template_rows": null,
            "height": null,
            "justify_content": null,
            "justify_items": null,
            "left": null,
            "margin": null,
            "max_height": null,
            "max_width": null,
            "min_height": null,
            "min_width": null,
            "object_fit": null,
            "object_position": null,
            "order": null,
            "overflow": null,
            "overflow_x": null,
            "overflow_y": null,
            "padding": null,
            "right": null,
            "top": null,
            "visibility": null,
            "width": null
          }
        },
        "24cefa1dcf8344db858bdcc064bc354d": {
          "model_module": "@jupyter-widgets/controls",
          "model_module_version": "1.5.0",
          "model_name": "DescriptionStyleModel",
          "state": {
            "_model_module": "@jupyter-widgets/controls",
            "_model_module_version": "1.5.0",
            "_model_name": "DescriptionStyleModel",
            "_view_count": null,
            "_view_module": "@jupyter-widgets/base",
            "_view_module_version": "1.2.0",
            "_view_name": "StyleView",
            "description_width": ""
          }
        },
        "2e98a22b53a74606b5ff444e09830f00": {
          "model_module": "@jupyter-widgets/controls",
          "model_module_version": "1.5.0",
          "model_name": "DescriptionStyleModel",
          "state": {
            "_model_module": "@jupyter-widgets/controls",
            "_model_module_version": "1.5.0",
            "_model_name": "DescriptionStyleModel",
            "_view_count": null,
            "_view_module": "@jupyter-widgets/base",
            "_view_module_version": "1.2.0",
            "_view_name": "StyleView",
            "description_width": ""
          }
        },
        "30bf95f897764b548b82a484dd5201d0": {
          "model_module": "@jupyter-widgets/base",
          "model_module_version": "1.2.0",
          "model_name": "LayoutModel",
          "state": {
            "_model_module": "@jupyter-widgets/base",
            "_model_module_version": "1.2.0",
            "_model_name": "LayoutModel",
            "_view_count": null,
            "_view_module": "@jupyter-widgets/base",
            "_view_module_version": "1.2.0",
            "_view_name": "LayoutView",
            "align_content": null,
            "align_items": null,
            "align_self": null,
            "border": null,
            "bottom": null,
            "display": null,
            "flex": null,
            "flex_flow": null,
            "grid_area": null,
            "grid_auto_columns": null,
            "grid_auto_flow": null,
            "grid_auto_rows": null,
            "grid_column": null,
            "grid_gap": null,
            "grid_row": null,
            "grid_template_areas": null,
            "grid_template_columns": null,
            "grid_template_rows": null,
            "height": null,
            "justify_content": null,
            "justify_items": null,
            "left": null,
            "margin": null,
            "max_height": null,
            "max_width": null,
            "min_height": null,
            "min_width": null,
            "object_fit": null,
            "object_position": null,
            "order": null,
            "overflow": null,
            "overflow_x": null,
            "overflow_y": null,
            "padding": null,
            "right": null,
            "top": null,
            "visibility": null,
            "width": null
          }
        },
        "35510a8da4194de2a00d8649dc27988e": {
          "model_module": "@jupyter-widgets/base",
          "model_module_version": "1.2.0",
          "model_name": "LayoutModel",
          "state": {
            "_model_module": "@jupyter-widgets/base",
            "_model_module_version": "1.2.0",
            "_model_name": "LayoutModel",
            "_view_count": null,
            "_view_module": "@jupyter-widgets/base",
            "_view_module_version": "1.2.0",
            "_view_name": "LayoutView",
            "align_content": null,
            "align_items": null,
            "align_self": null,
            "border": null,
            "bottom": null,
            "display": null,
            "flex": null,
            "flex_flow": null,
            "grid_area": null,
            "grid_auto_columns": null,
            "grid_auto_flow": null,
            "grid_auto_rows": null,
            "grid_column": null,
            "grid_gap": null,
            "grid_row": null,
            "grid_template_areas": null,
            "grid_template_columns": null,
            "grid_template_rows": null,
            "height": null,
            "justify_content": null,
            "justify_items": null,
            "left": null,
            "margin": null,
            "max_height": null,
            "max_width": null,
            "min_height": null,
            "min_width": null,
            "object_fit": null,
            "object_position": null,
            "order": null,
            "overflow": null,
            "overflow_x": null,
            "overflow_y": null,
            "padding": null,
            "right": null,
            "top": null,
            "visibility": null,
            "width": null
          }
        },
        "3563fac05049467db2f5b49d5306d7d2": {
          "model_module": "@jupyter-widgets/controls",
          "model_module_version": "1.5.0",
          "model_name": "DescriptionStyleModel",
          "state": {
            "_model_module": "@jupyter-widgets/controls",
            "_model_module_version": "1.5.0",
            "_model_name": "DescriptionStyleModel",
            "_view_count": null,
            "_view_module": "@jupyter-widgets/base",
            "_view_module_version": "1.2.0",
            "_view_name": "StyleView",
            "description_width": ""
          }
        },
        "396d027fe99541679927e7581d2c64a8": {
          "model_module": "@jupyter-widgets/controls",
          "model_module_version": "1.5.0",
          "model_name": "DescriptionStyleModel",
          "state": {
            "_model_module": "@jupyter-widgets/controls",
            "_model_module_version": "1.5.0",
            "_model_name": "DescriptionStyleModel",
            "_view_count": null,
            "_view_module": "@jupyter-widgets/base",
            "_view_module_version": "1.2.0",
            "_view_name": "StyleView",
            "description_width": ""
          }
        },
        "3d75c92289c3486b92130ea24468daf5": {
          "model_module": "@jupyter-widgets/controls",
          "model_module_version": "1.5.0",
          "model_name": "HTMLModel",
          "state": {
            "_dom_classes": [],
            "_model_module": "@jupyter-widgets/controls",
            "_model_module_version": "1.5.0",
            "_model_name": "HTMLModel",
            "_view_count": null,
            "_view_module": "@jupyter-widgets/controls",
            "_view_module_version": "1.5.0",
            "_view_name": "HTMLView",
            "description": "",
            "description_tooltip": null,
            "layout": "IPY_MODEL_11707eb1af944fa0b882ed3ea9461dc8",
            "placeholder": "​",
            "style": "IPY_MODEL_2e98a22b53a74606b5ff444e09830f00",
            "value": " 899k/899k [00:00&lt;00:00, 14.6MB/s]"
          }
        },
        "3de1ab7a170d40fbabba595f2e10aa95": {
          "model_module": "@jupyter-widgets/base",
          "model_module_version": "1.2.0",
          "model_name": "LayoutModel",
          "state": {
            "_model_module": "@jupyter-widgets/base",
            "_model_module_version": "1.2.0",
            "_model_name": "LayoutModel",
            "_view_count": null,
            "_view_module": "@jupyter-widgets/base",
            "_view_module_version": "1.2.0",
            "_view_name": "LayoutView",
            "align_content": null,
            "align_items": null,
            "align_self": null,
            "border": null,
            "bottom": null,
            "display": null,
            "flex": null,
            "flex_flow": null,
            "grid_area": null,
            "grid_auto_columns": null,
            "grid_auto_flow": null,
            "grid_auto_rows": null,
            "grid_column": null,
            "grid_gap": null,
            "grid_row": null,
            "grid_template_areas": null,
            "grid_template_columns": null,
            "grid_template_rows": null,
            "height": null,
            "justify_content": null,
            "justify_items": null,
            "left": null,
            "margin": null,
            "max_height": null,
            "max_width": null,
            "min_height": null,
            "min_width": null,
            "object_fit": null,
            "object_position": null,
            "order": null,
            "overflow": null,
            "overflow_x": null,
            "overflow_y": null,
            "padding": null,
            "right": null,
            "top": null,
            "visibility": null,
            "width": null
          }
        },
        "3e5dd4f91ec8418c90c676d3433a0e07": {
          "model_module": "@jupyter-widgets/controls",
          "model_module_version": "1.5.0",
          "model_name": "FloatProgressModel",
          "state": {
            "_dom_classes": [],
            "_model_module": "@jupyter-widgets/controls",
            "_model_module_version": "1.5.0",
            "_model_name": "FloatProgressModel",
            "_view_count": null,
            "_view_module": "@jupyter-widgets/controls",
            "_view_module_version": "1.5.0",
            "_view_name": "ProgressView",
            "bar_style": "success",
            "description": "",
            "description_tooltip": null,
            "layout": "IPY_MODEL_6ec86c4bb3444ec4a131003ff5778161",
            "max": 4207,
            "min": 0,
            "orientation": "horizontal",
            "style": "IPY_MODEL_20a6528d98db4553a95bfa724243b64f",
            "value": 4207
          }
        },
        "3f98b9e78daf41848c83b82b8a646bc1": {
          "model_module": "@jupyter-widgets/base",
          "model_module_version": "1.2.0",
          "model_name": "LayoutModel",
          "state": {
            "_model_module": "@jupyter-widgets/base",
            "_model_module_version": "1.2.0",
            "_model_name": "LayoutModel",
            "_view_count": null,
            "_view_module": "@jupyter-widgets/base",
            "_view_module_version": "1.2.0",
            "_view_name": "LayoutView",
            "align_content": null,
            "align_items": null,
            "align_self": null,
            "border": null,
            "bottom": null,
            "display": null,
            "flex": null,
            "flex_flow": null,
            "grid_area": null,
            "grid_auto_columns": null,
            "grid_auto_flow": null,
            "grid_auto_rows": null,
            "grid_column": null,
            "grid_gap": null,
            "grid_row": null,
            "grid_template_areas": null,
            "grid_template_columns": null,
            "grid_template_rows": null,
            "height": null,
            "justify_content": null,
            "justify_items": null,
            "left": null,
            "margin": null,
            "max_height": null,
            "max_width": null,
            "min_height": null,
            "min_width": null,
            "object_fit": null,
            "object_position": null,
            "order": null,
            "overflow": null,
            "overflow_x": null,
            "overflow_y": null,
            "padding": null,
            "right": null,
            "top": null,
            "visibility": null,
            "width": null
          }
        },
        "401644d680fb434b93ef869fd57d1f5b": {
          "model_module": "@jupyter-widgets/base",
          "model_module_version": "1.2.0",
          "model_name": "LayoutModel",
          "state": {
            "_model_module": "@jupyter-widgets/base",
            "_model_module_version": "1.2.0",
            "_model_name": "LayoutModel",
            "_view_count": null,
            "_view_module": "@jupyter-widgets/base",
            "_view_module_version": "1.2.0",
            "_view_name": "LayoutView",
            "align_content": null,
            "align_items": null,
            "align_self": null,
            "border": null,
            "bottom": null,
            "display": null,
            "flex": null,
            "flex_flow": null,
            "grid_area": null,
            "grid_auto_columns": null,
            "grid_auto_flow": null,
            "grid_auto_rows": null,
            "grid_column": null,
            "grid_gap": null,
            "grid_row": null,
            "grid_template_areas": null,
            "grid_template_columns": null,
            "grid_template_rows": null,
            "height": null,
            "justify_content": null,
            "justify_items": null,
            "left": null,
            "margin": null,
            "max_height": null,
            "max_width": null,
            "min_height": null,
            "min_width": null,
            "object_fit": null,
            "object_position": null,
            "order": null,
            "overflow": null,
            "overflow_x": null,
            "overflow_y": null,
            "padding": null,
            "right": null,
            "top": null,
            "visibility": null,
            "width": null
          }
        },
        "40414fb23c6243d4a5d48b81d4f5a99c": {
          "model_module": "@jupyter-widgets/controls",
          "model_module_version": "1.5.0",
          "model_name": "DescriptionStyleModel",
          "state": {
            "_model_module": "@jupyter-widgets/controls",
            "_model_module_version": "1.5.0",
            "_model_name": "DescriptionStyleModel",
            "_view_count": null,
            "_view_module": "@jupyter-widgets/base",
            "_view_module_version": "1.2.0",
            "_view_name": "StyleView",
            "description_width": ""
          }
        },
        "44071e40ff6345e9ae9d6d8523742614": {
          "model_module": "@jupyter-widgets/controls",
          "model_module_version": "1.5.0",
          "model_name": "ProgressStyleModel",
          "state": {
            "_model_module": "@jupyter-widgets/controls",
            "_model_module_version": "1.5.0",
            "_model_name": "ProgressStyleModel",
            "_view_count": null,
            "_view_module": "@jupyter-widgets/base",
            "_view_module_version": "1.2.0",
            "_view_name": "StyleView",
            "bar_color": null,
            "description_width": ""
          }
        },
        "447abcac0953471a989ce23752dc5242": {
          "model_module": "@jupyter-widgets/controls",
          "model_module_version": "1.5.0",
          "model_name": "FloatProgressModel",
          "state": {
            "_dom_classes": [],
            "_model_module": "@jupyter-widgets/controls",
            "_model_module_version": "1.5.0",
            "_model_name": "FloatProgressModel",
            "_view_count": null,
            "_view_module": "@jupyter-widgets/controls",
            "_view_module_version": "1.5.0",
            "_view_name": "ProgressView",
            "bar_style": "success",
            "description": "",
            "description_tooltip": null,
            "layout": "IPY_MODEL_35510a8da4194de2a00d8649dc27988e",
            "max": 224,
            "min": 0,
            "orientation": "horizontal",
            "style": "IPY_MODEL_864a2316328544c680c72f723b789750",
            "value": 224
          }
        },
        "47347242419a47adb93efc1c59e600b1": {
          "model_module": "@jupyter-widgets/controls",
          "model_module_version": "1.5.0",
          "model_name": "HBoxModel",
          "state": {
            "_dom_classes": [],
            "_model_module": "@jupyter-widgets/controls",
            "_model_module_version": "1.5.0",
            "_model_name": "HBoxModel",
            "_view_count": null,
            "_view_module": "@jupyter-widgets/controls",
            "_view_module_version": "1.5.0",
            "_view_name": "HBoxView",
            "box_style": "",
            "children": [
              "IPY_MODEL_afbfb3f5d7674998a8b34e7a93fd2e6b",
              "IPY_MODEL_16dde90519694625bfd80841166e0696",
              "IPY_MODEL_4ebcb733c57e40718f102818b9e8bbe8"
            ],
            "layout": "IPY_MODEL_3f98b9e78daf41848c83b82b8a646bc1"
          }
        },
        "4b41f1f0eea442de96bfdbd1922c7ee2": {
          "model_module": "@jupyter-widgets/controls",
          "model_module_version": "1.5.0",
          "model_name": "DescriptionStyleModel",
          "state": {
            "_model_module": "@jupyter-widgets/controls",
            "_model_module_version": "1.5.0",
            "_model_name": "DescriptionStyleModel",
            "_view_count": null,
            "_view_module": "@jupyter-widgets/base",
            "_view_module_version": "1.2.0",
            "_view_name": "StyleView",
            "description_width": ""
          }
        },
        "4b54f209811e4c7788f595b8aa21bfe0": {
          "model_module": "@jupyter-widgets/controls",
          "model_module_version": "1.5.0",
          "model_name": "HTMLModel",
          "state": {
            "_dom_classes": [],
            "_model_module": "@jupyter-widgets/controls",
            "_model_module_version": "1.5.0",
            "_model_name": "HTMLModel",
            "_view_count": null,
            "_view_module": "@jupyter-widgets/controls",
            "_view_module_version": "1.5.0",
            "_view_name": "HTMLView",
            "description": "",
            "description_tooltip": null,
            "layout": "IPY_MODEL_699a4162814546dab405c063d63279bc",
            "placeholder": "​",
            "style": "IPY_MODEL_91b558116cf1454fbde3aa3d5b2c9cf1",
            "value": " 224/224 [00:00&lt;00:00, 28.3kB/s]"
          }
        },
        "4ca3a32b17a74d73b1645e029d97281e": {
          "model_module": "@jupyter-widgets/controls",
          "model_module_version": "1.5.0",
          "model_name": "DescriptionStyleModel",
          "state": {
            "_model_module": "@jupyter-widgets/controls",
            "_model_module_version": "1.5.0",
            "_model_name": "DescriptionStyleModel",
            "_view_count": null,
            "_view_module": "@jupyter-widgets/base",
            "_view_module_version": "1.2.0",
            "_view_name": "StyleView",
            "description_width": ""
          }
        },
        "4ebcb733c57e40718f102818b9e8bbe8": {
          "model_module": "@jupyter-widgets/controls",
          "model_module_version": "1.5.0",
          "model_name": "HTMLModel",
          "state": {
            "_dom_classes": [],
            "_model_module": "@jupyter-widgets/controls",
            "_model_module_version": "1.5.0",
            "_model_name": "HTMLModel",
            "_view_count": null,
            "_view_module": "@jupyter-widgets/controls",
            "_view_module_version": "1.5.0",
            "_view_name": "HTMLView",
            "description": "",
            "description_tooltip": null,
            "layout": "IPY_MODEL_62c1b27abd9f429f8020da548067cb6e",
            "placeholder": "​",
            "style": "IPY_MODEL_b43e84fb337a4959986c78c88df4b88c",
            "value": " 1.12k/1.12k [00:00&lt;00:00, 113kB/s]"
          }
        },
        "516c7791a21d4421a5583bbeb746de04": {
          "model_module": "@jupyter-widgets/controls",
          "model_module_version": "1.5.0",
          "model_name": "DescriptionStyleModel",
          "state": {
            "_model_module": "@jupyter-widgets/controls",
            "_model_module_version": "1.5.0",
            "_model_name": "DescriptionStyleModel",
            "_view_count": null,
            "_view_module": "@jupyter-widgets/base",
            "_view_module_version": "1.2.0",
            "_view_name": "StyleView",
            "description_width": ""
          }
        },
        "5540ba19676f4a56808ddb8e58049959": {
          "model_module": "@jupyter-widgets/base",
          "model_module_version": "1.2.0",
          "model_name": "LayoutModel",
          "state": {
            "_model_module": "@jupyter-widgets/base",
            "_model_module_version": "1.2.0",
            "_model_name": "LayoutModel",
            "_view_count": null,
            "_view_module": "@jupyter-widgets/base",
            "_view_module_version": "1.2.0",
            "_view_name": "LayoutView",
            "align_content": null,
            "align_items": null,
            "align_self": null,
            "border": null,
            "bottom": null,
            "display": null,
            "flex": null,
            "flex_flow": null,
            "grid_area": null,
            "grid_auto_columns": null,
            "grid_auto_flow": null,
            "grid_auto_rows": null,
            "grid_column": null,
            "grid_gap": null,
            "grid_row": null,
            "grid_template_areas": null,
            "grid_template_columns": null,
            "grid_template_rows": null,
            "height": null,
            "justify_content": null,
            "justify_items": null,
            "left": null,
            "margin": null,
            "max_height": null,
            "max_width": null,
            "min_height": null,
            "min_width": null,
            "object_fit": null,
            "object_position": null,
            "order": null,
            "overflow": null,
            "overflow_x": null,
            "overflow_y": null,
            "padding": null,
            "right": null,
            "top": null,
            "visibility": null,
            "width": null
          }
        },
        "5eb7b4331fab4e17a420f8e89fcecb1b": {
          "model_module": "@jupyter-widgets/controls",
          "model_module_version": "1.5.0",
          "model_name": "HTMLModel",
          "state": {
            "_dom_classes": [],
            "_model_module": "@jupyter-widgets/controls",
            "_model_module_version": "1.5.0",
            "_model_name": "HTMLModel",
            "_view_count": null,
            "_view_module": "@jupyter-widgets/controls",
            "_view_module_version": "1.5.0",
            "_view_name": "HTMLView",
            "description": "",
            "description_tooltip": null,
            "layout": "IPY_MODEL_242da231dc8245fd86a0b263d7fd1ece",
            "placeholder": "​",
            "style": "IPY_MODEL_40414fb23c6243d4a5d48b81d4f5a99c",
            "value": " 772/772 [00:00&lt;00:00, 101kB/s]"
          }
        },
        "5f1fe0113c1c435283d4e76f4a38be5c": {
          "model_module": "@jupyter-widgets/controls",
          "model_module_version": "1.5.0",
          "model_name": "ProgressStyleModel",
          "state": {
            "_model_module": "@jupyter-widgets/controls",
            "_model_module_version": "1.5.0",
            "_model_name": "ProgressStyleModel",
            "_view_count": null,
            "_view_module": "@jupyter-widgets/base",
            "_view_module_version": "1.2.0",
            "_view_name": "StyleView",
            "bar_color": null,
            "description_width": ""
          }
        },
        "62c1b27abd9f429f8020da548067cb6e": {
          "model_module": "@jupyter-widgets/base",
          "model_module_version": "1.2.0",
          "model_name": "LayoutModel",
          "state": {
            "_model_module": "@jupyter-widgets/base",
            "_model_module_version": "1.2.0",
            "_model_name": "LayoutModel",
            "_view_count": null,
            "_view_module": "@jupyter-widgets/base",
            "_view_module_version": "1.2.0",
            "_view_name": "LayoutView",
            "align_content": null,
            "align_items": null,
            "align_self": null,
            "border": null,
            "bottom": null,
            "display": null,
            "flex": null,
            "flex_flow": null,
            "grid_area": null,
            "grid_auto_columns": null,
            "grid_auto_flow": null,
            "grid_auto_rows": null,
            "grid_column": null,
            "grid_gap": null,
            "grid_row": null,
            "grid_template_areas": null,
            "grid_template_columns": null,
            "grid_template_rows": null,
            "height": null,
            "justify_content": null,
            "justify_items": null,
            "left": null,
            "margin": null,
            "max_height": null,
            "max_width": null,
            "min_height": null,
            "min_width": null,
            "object_fit": null,
            "object_position": null,
            "order": null,
            "overflow": null,
            "overflow_x": null,
            "overflow_y": null,
            "padding": null,
            "right": null,
            "top": null,
            "visibility": null,
            "width": null
          }
        },
        "699a4162814546dab405c063d63279bc": {
          "model_module": "@jupyter-widgets/base",
          "model_module_version": "1.2.0",
          "model_name": "LayoutModel",
          "state": {
            "_model_module": "@jupyter-widgets/base",
            "_model_module_version": "1.2.0",
            "_model_name": "LayoutModel",
            "_view_count": null,
            "_view_module": "@jupyter-widgets/base",
            "_view_module_version": "1.2.0",
            "_view_name": "LayoutView",
            "align_content": null,
            "align_items": null,
            "align_self": null,
            "border": null,
            "bottom": null,
            "display": null,
            "flex": null,
            "flex_flow": null,
            "grid_area": null,
            "grid_auto_columns": null,
            "grid_auto_flow": null,
            "grid_auto_rows": null,
            "grid_column": null,
            "grid_gap": null,
            "grid_row": null,
            "grid_template_areas": null,
            "grid_template_columns": null,
            "grid_template_rows": null,
            "height": null,
            "justify_content": null,
            "justify_items": null,
            "left": null,
            "margin": null,
            "max_height": null,
            "max_width": null,
            "min_height": null,
            "min_width": null,
            "object_fit": null,
            "object_position": null,
            "order": null,
            "overflow": null,
            "overflow_x": null,
            "overflow_y": null,
            "padding": null,
            "right": null,
            "top": null,
            "visibility": null,
            "width": null
          }
        },
        "6a32399dceda4d68a8ad8b0ee265e75f": {
          "model_module": "@jupyter-widgets/controls",
          "model_module_version": "1.5.0",
          "model_name": "HTMLModel",
          "state": {
            "_dom_classes": [],
            "_model_module": "@jupyter-widgets/controls",
            "_model_module_version": "1.5.0",
            "_model_name": "HTMLModel",
            "_view_count": null,
            "_view_module": "@jupyter-widgets/controls",
            "_view_module_version": "1.5.0",
            "_view_name": "HTMLView",
            "description": "",
            "description_tooltip": null,
            "layout": "IPY_MODEL_7380e6276afc4ca8a48e14f8bc3847ad",
            "placeholder": "​",
            "style": "IPY_MODEL_4b41f1f0eea442de96bfdbd1922c7ee2",
            "value": "preprocessor_config.json: 100%"
          }
        },
        "6a65604ef9534380a1e6384df40a6a19": {
          "model_module": "@jupyter-widgets/controls",
          "model_module_version": "1.5.0",
          "model_name": "DescriptionStyleModel",
          "state": {
            "_model_module": "@jupyter-widgets/controls",
            "_model_module_version": "1.5.0",
            "_model_name": "DescriptionStyleModel",
            "_view_count": null,
            "_view_module": "@jupyter-widgets/base",
            "_view_module_version": "1.2.0",
            "_view_name": "StyleView",
            "description_width": ""
          }
        },
        "6beddd790518454b970faff3965893de": {
          "model_module": "@jupyter-widgets/base",
          "model_module_version": "1.2.0",
          "model_name": "LayoutModel",
          "state": {
            "_model_module": "@jupyter-widgets/base",
            "_model_module_version": "1.2.0",
            "_model_name": "LayoutModel",
            "_view_count": null,
            "_view_module": "@jupyter-widgets/base",
            "_view_module_version": "1.2.0",
            "_view_name": "LayoutView",
            "align_content": null,
            "align_items": null,
            "align_self": null,
            "border": null,
            "bottom": null,
            "display": null,
            "flex": null,
            "flex_flow": null,
            "grid_area": null,
            "grid_auto_columns": null,
            "grid_auto_flow": null,
            "grid_auto_rows": null,
            "grid_column": null,
            "grid_gap": null,
            "grid_row": null,
            "grid_template_areas": null,
            "grid_template_columns": null,
            "grid_template_rows": null,
            "height": null,
            "justify_content": null,
            "justify_items": null,
            "left": null,
            "margin": null,
            "max_height": null,
            "max_width": null,
            "min_height": null,
            "min_width": null,
            "object_fit": null,
            "object_position": null,
            "order": null,
            "overflow": null,
            "overflow_x": null,
            "overflow_y": null,
            "padding": null,
            "right": null,
            "top": null,
            "visibility": null,
            "width": null
          }
        },
        "6ec86c4bb3444ec4a131003ff5778161": {
          "model_module": "@jupyter-widgets/base",
          "model_module_version": "1.2.0",
          "model_name": "LayoutModel",
          "state": {
            "_model_module": "@jupyter-widgets/base",
            "_model_module_version": "1.2.0",
            "_model_name": "LayoutModel",
            "_view_count": null,
            "_view_module": "@jupyter-widgets/base",
            "_view_module_version": "1.2.0",
            "_view_name": "LayoutView",
            "align_content": null,
            "align_items": null,
            "align_self": null,
            "border": null,
            "bottom": null,
            "display": null,
            "flex": null,
            "flex_flow": null,
            "grid_area": null,
            "grid_auto_columns": null,
            "grid_auto_flow": null,
            "grid_auto_rows": null,
            "grid_column": null,
            "grid_gap": null,
            "grid_row": null,
            "grid_template_areas": null,
            "grid_template_columns": null,
            "grid_template_rows": null,
            "height": null,
            "justify_content": null,
            "justify_items": null,
            "left": null,
            "margin": null,
            "max_height": null,
            "max_width": null,
            "min_height": null,
            "min_width": null,
            "object_fit": null,
            "object_position": null,
            "order": null,
            "overflow": null,
            "overflow_x": null,
            "overflow_y": null,
            "padding": null,
            "right": null,
            "top": null,
            "visibility": null,
            "width": null
          }
        },
        "71b24e8551f64e1f8870ccddfe19f89b": {
          "model_module": "@jupyter-widgets/base",
          "model_module_version": "1.2.0",
          "model_name": "LayoutModel",
          "state": {
            "_model_module": "@jupyter-widgets/base",
            "_model_module_version": "1.2.0",
            "_model_name": "LayoutModel",
            "_view_count": null,
            "_view_module": "@jupyter-widgets/base",
            "_view_module_version": "1.2.0",
            "_view_name": "LayoutView",
            "align_content": null,
            "align_items": null,
            "align_self": null,
            "border": null,
            "bottom": null,
            "display": null,
            "flex": null,
            "flex_flow": null,
            "grid_area": null,
            "grid_auto_columns": null,
            "grid_auto_flow": null,
            "grid_auto_rows": null,
            "grid_column": null,
            "grid_gap": null,
            "grid_row": null,
            "grid_template_areas": null,
            "grid_template_columns": null,
            "grid_template_rows": null,
            "height": null,
            "justify_content": null,
            "justify_items": null,
            "left": null,
            "margin": null,
            "max_height": null,
            "max_width": null,
            "min_height": null,
            "min_width": null,
            "object_fit": null,
            "object_position": null,
            "order": null,
            "overflow": null,
            "overflow_x": null,
            "overflow_y": null,
            "padding": null,
            "right": null,
            "top": null,
            "visibility": null,
            "width": null
          }
        },
        "7380e6276afc4ca8a48e14f8bc3847ad": {
          "model_module": "@jupyter-widgets/base",
          "model_module_version": "1.2.0",
          "model_name": "LayoutModel",
          "state": {
            "_model_module": "@jupyter-widgets/base",
            "_model_module_version": "1.2.0",
            "_model_name": "LayoutModel",
            "_view_count": null,
            "_view_module": "@jupyter-widgets/base",
            "_view_module_version": "1.2.0",
            "_view_name": "LayoutView",
            "align_content": null,
            "align_items": null,
            "align_self": null,
            "border": null,
            "bottom": null,
            "display": null,
            "flex": null,
            "flex_flow": null,
            "grid_area": null,
            "grid_auto_columns": null,
            "grid_auto_flow": null,
            "grid_auto_rows": null,
            "grid_column": null,
            "grid_gap": null,
            "grid_row": null,
            "grid_template_areas": null,
            "grid_template_columns": null,
            "grid_template_rows": null,
            "height": null,
            "justify_content": null,
            "justify_items": null,
            "left": null,
            "margin": null,
            "max_height": null,
            "max_width": null,
            "min_height": null,
            "min_width": null,
            "object_fit": null,
            "object_position": null,
            "order": null,
            "overflow": null,
            "overflow_x": null,
            "overflow_y": null,
            "padding": null,
            "right": null,
            "top": null,
            "visibility": null,
            "width": null
          }
        },
        "7c785b02ca7240549b19ab8640524417": {
          "model_module": "@jupyter-widgets/base",
          "model_module_version": "1.2.0",
          "model_name": "LayoutModel",
          "state": {
            "_model_module": "@jupyter-widgets/base",
            "_model_module_version": "1.2.0",
            "_model_name": "LayoutModel",
            "_view_count": null,
            "_view_module": "@jupyter-widgets/base",
            "_view_module_version": "1.2.0",
            "_view_name": "LayoutView",
            "align_content": null,
            "align_items": null,
            "align_self": null,
            "border": null,
            "bottom": null,
            "display": null,
            "flex": null,
            "flex_flow": null,
            "grid_area": null,
            "grid_auto_columns": null,
            "grid_auto_flow": null,
            "grid_auto_rows": null,
            "grid_column": null,
            "grid_gap": null,
            "grid_row": null,
            "grid_template_areas": null,
            "grid_template_columns": null,
            "grid_template_rows": null,
            "height": null,
            "justify_content": null,
            "justify_items": null,
            "left": null,
            "margin": null,
            "max_height": null,
            "max_width": null,
            "min_height": null,
            "min_width": null,
            "object_fit": null,
            "object_position": null,
            "order": null,
            "overflow": null,
            "overflow_x": null,
            "overflow_y": null,
            "padding": null,
            "right": null,
            "top": null,
            "visibility": null,
            "width": null
          }
        },
        "7eaf431ceb084a7fa81ea46cd6d48799": {
          "model_module": "@jupyter-widgets/base",
          "model_module_version": "1.2.0",
          "model_name": "LayoutModel",
          "state": {
            "_model_module": "@jupyter-widgets/base",
            "_model_module_version": "1.2.0",
            "_model_name": "LayoutModel",
            "_view_count": null,
            "_view_module": "@jupyter-widgets/base",
            "_view_module_version": "1.2.0",
            "_view_name": "LayoutView",
            "align_content": null,
            "align_items": null,
            "align_self": null,
            "border": null,
            "bottom": null,
            "display": null,
            "flex": null,
            "flex_flow": null,
            "grid_area": null,
            "grid_auto_columns": null,
            "grid_auto_flow": null,
            "grid_auto_rows": null,
            "grid_column": null,
            "grid_gap": null,
            "grid_row": null,
            "grid_template_areas": null,
            "grid_template_columns": null,
            "grid_template_rows": null,
            "height": null,
            "justify_content": null,
            "justify_items": null,
            "left": null,
            "margin": null,
            "max_height": null,
            "max_width": null,
            "min_height": null,
            "min_width": null,
            "object_fit": null,
            "object_position": null,
            "order": null,
            "overflow": null,
            "overflow_x": null,
            "overflow_y": null,
            "padding": null,
            "right": null,
            "top": null,
            "visibility": null,
            "width": null
          }
        },
        "83706bda6fa442ab8d6e8827690fdbd6": {
          "model_module": "@jupyter-widgets/controls",
          "model_module_version": "1.5.0",
          "model_name": "HTMLModel",
          "state": {
            "_dom_classes": [],
            "_model_module": "@jupyter-widgets/controls",
            "_model_module_version": "1.5.0",
            "_model_name": "HTMLModel",
            "_view_count": null,
            "_view_module": "@jupyter-widgets/controls",
            "_view_module_version": "1.5.0",
            "_view_name": "HTMLView",
            "description": "",
            "description_tooltip": null,
            "layout": "IPY_MODEL_8a5a4054d01946488d7681093226c9f2",
            "placeholder": "​",
            "style": "IPY_MODEL_396d027fe99541679927e7581d2c64a8",
            "value": " 1.54G/1.54G [00:10&lt;00:00, 147MB/s]"
          }
        },
        "83f4e6475c9d460db289733998973397": {
          "model_module": "@jupyter-widgets/controls",
          "model_module_version": "1.5.0",
          "model_name": "HTMLModel",
          "state": {
            "_dom_classes": [],
            "_model_module": "@jupyter-widgets/controls",
            "_model_module_version": "1.5.0",
            "_model_name": "HTMLModel",
            "_view_count": null,
            "_view_module": "@jupyter-widgets/controls",
            "_view_module_version": "1.5.0",
            "_view_name": "HTMLView",
            "description": "",
            "description_tooltip": null,
            "layout": "IPY_MODEL_0bf65c7fdb32482f846d8d3ec5dff2e3",
            "placeholder": "​",
            "style": "IPY_MODEL_3563fac05049467db2f5b49d5306d7d2",
            "value": "config.json: 100%"
          }
        },
        "844642e816c244e7a9c7688fd5f476fe": {
          "model_module": "@jupyter-widgets/controls",
          "model_module_version": "1.5.0",
          "model_name": "HTMLModel",
          "state": {
            "_dom_classes": [],
            "_model_module": "@jupyter-widgets/controls",
            "_model_module_version": "1.5.0",
            "_model_name": "HTMLModel",
            "_view_count": null,
            "_view_module": "@jupyter-widgets/controls",
            "_view_module_version": "1.5.0",
            "_view_name": "HTMLView",
            "description": "",
            "description_tooltip": null,
            "layout": "IPY_MODEL_30bf95f897764b548b82a484dd5201d0",
            "placeholder": "​",
            "style": "IPY_MODEL_b335db6b6d1c4c13a23d1ef5163c7fba",
            "value": " 4.21k/4.21k [00:00&lt;00:00, 486kB/s]"
          }
        },
        "864a2316328544c680c72f723b789750": {
          "model_module": "@jupyter-widgets/controls",
          "model_module_version": "1.5.0",
          "model_name": "ProgressStyleModel",
          "state": {
            "_model_module": "@jupyter-widgets/controls",
            "_model_module_version": "1.5.0",
            "_model_name": "ProgressStyleModel",
            "_view_count": null,
            "_view_module": "@jupyter-widgets/base",
            "_view_module_version": "1.2.0",
            "_view_name": "StyleView",
            "bar_color": null,
            "description_width": ""
          }
        },
        "878ab84bdaa74fd883de7b7132d556cd": {
          "model_module": "@jupyter-widgets/controls",
          "model_module_version": "1.5.0",
          "model_name": "DescriptionStyleModel",
          "state": {
            "_model_module": "@jupyter-widgets/controls",
            "_model_module_version": "1.5.0",
            "_model_name": "DescriptionStyleModel",
            "_view_count": null,
            "_view_module": "@jupyter-widgets/base",
            "_view_module_version": "1.2.0",
            "_view_name": "StyleView",
            "description_width": ""
          }
        },
        "8953a060fb3344c89c587401d17013fd": {
          "model_module": "@jupyter-widgets/base",
          "model_module_version": "1.2.0",
          "model_name": "LayoutModel",
          "state": {
            "_model_module": "@jupyter-widgets/base",
            "_model_module_version": "1.2.0",
            "_model_name": "LayoutModel",
            "_view_count": null,
            "_view_module": "@jupyter-widgets/base",
            "_view_module_version": "1.2.0",
            "_view_name": "LayoutView",
            "align_content": null,
            "align_items": null,
            "align_self": null,
            "border": null,
            "bottom": null,
            "display": null,
            "flex": null,
            "flex_flow": null,
            "grid_area": null,
            "grid_auto_columns": null,
            "grid_auto_flow": null,
            "grid_auto_rows": null,
            "grid_column": null,
            "grid_gap": null,
            "grid_row": null,
            "grid_template_areas": null,
            "grid_template_columns": null,
            "grid_template_rows": null,
            "height": null,
            "justify_content": null,
            "justify_items": null,
            "left": null,
            "margin": null,
            "max_height": null,
            "max_width": null,
            "min_height": null,
            "min_width": null,
            "object_fit": null,
            "object_position": null,
            "order": null,
            "overflow": null,
            "overflow_x": null,
            "overflow_y": null,
            "padding": null,
            "right": null,
            "top": null,
            "visibility": null,
            "width": null
          }
        },
        "8a5a4054d01946488d7681093226c9f2": {
          "model_module": "@jupyter-widgets/base",
          "model_module_version": "1.2.0",
          "model_name": "LayoutModel",
          "state": {
            "_model_module": "@jupyter-widgets/base",
            "_model_module_version": "1.2.0",
            "_model_name": "LayoutModel",
            "_view_count": null,
            "_view_module": "@jupyter-widgets/base",
            "_view_module_version": "1.2.0",
            "_view_name": "LayoutView",
            "align_content": null,
            "align_items": null,
            "align_self": null,
            "border": null,
            "bottom": null,
            "display": null,
            "flex": null,
            "flex_flow": null,
            "grid_area": null,
            "grid_auto_columns": null,
            "grid_auto_flow": null,
            "grid_auto_rows": null,
            "grid_column": null,
            "grid_gap": null,
            "grid_row": null,
            "grid_template_areas": null,
            "grid_template_columns": null,
            "grid_template_rows": null,
            "height": null,
            "justify_content": null,
            "justify_items": null,
            "left": null,
            "margin": null,
            "max_height": null,
            "max_width": null,
            "min_height": null,
            "min_width": null,
            "object_fit": null,
            "object_position": null,
            "order": null,
            "overflow": null,
            "overflow_x": null,
            "overflow_y": null,
            "padding": null,
            "right": null,
            "top": null,
            "visibility": null,
            "width": null
          }
        },
        "8a7264c2ee7c478088f6558bd616ba7f": {
          "model_module": "@jupyter-widgets/controls",
          "model_module_version": "1.5.0",
          "model_name": "HBoxModel",
          "state": {
            "_dom_classes": [],
            "_model_module": "@jupyter-widgets/controls",
            "_model_module_version": "1.5.0",
            "_model_name": "HBoxModel",
            "_view_count": null,
            "_view_module": "@jupyter-widgets/controls",
            "_view_module_version": "1.5.0",
            "_view_name": "HBoxView",
            "box_style": "",
            "children": [
              "IPY_MODEL_a9c19b2260fc47b7aab5a51fa70f84ec",
              "IPY_MODEL_0c4183a6cdba48c6a434a5945a10b95d",
              "IPY_MODEL_e3027b54550b4117a98e13362e877474"
            ],
            "layout": "IPY_MODEL_401644d680fb434b93ef869fd57d1f5b"
          }
        },
        "8d252caf7dcf40709e67b24e9fc2c0e9": {
          "model_module": "@jupyter-widgets/controls",
          "model_module_version": "1.5.0",
          "model_name": "FloatProgressModel",
          "state": {
            "_dom_classes": [],
            "_model_module": "@jupyter-widgets/controls",
            "_model_module_version": "1.5.0",
            "_model_name": "FloatProgressModel",
            "_view_count": null,
            "_view_module": "@jupyter-widgets/controls",
            "_view_module_version": "1.5.0",
            "_view_name": "ProgressView",
            "bar_style": "success",
            "description": "",
            "description_tooltip": null,
            "layout": "IPY_MODEL_19d015c4cfed4ad4a14902672a8bff70",
            "max": 456318,
            "min": 0,
            "orientation": "horizontal",
            "style": "IPY_MODEL_44071e40ff6345e9ae9d6d8523742614",
            "value": 456318
          }
        },
        "8dbd72dd30184fbd8435ed465fbeeeae": {
          "model_module": "@jupyter-widgets/base",
          "model_module_version": "1.2.0",
          "model_name": "LayoutModel",
          "state": {
            "_model_module": "@jupyter-widgets/base",
            "_model_module_version": "1.2.0",
            "_model_name": "LayoutModel",
            "_view_count": null,
            "_view_module": "@jupyter-widgets/base",
            "_view_module_version": "1.2.0",
            "_view_name": "LayoutView",
            "align_content": null,
            "align_items": null,
            "align_self": null,
            "border": null,
            "bottom": null,
            "display": null,
            "flex": null,
            "flex_flow": null,
            "grid_area": null,
            "grid_auto_columns": null,
            "grid_auto_flow": null,
            "grid_auto_rows": null,
            "grid_column": null,
            "grid_gap": null,
            "grid_row": null,
            "grid_template_areas": null,
            "grid_template_columns": null,
            "grid_template_rows": null,
            "height": null,
            "justify_content": null,
            "justify_items": null,
            "left": null,
            "margin": null,
            "max_height": null,
            "max_width": null,
            "min_height": null,
            "min_width": null,
            "object_fit": null,
            "object_position": null,
            "order": null,
            "overflow": null,
            "overflow_x": null,
            "overflow_y": null,
            "padding": null,
            "right": null,
            "top": null,
            "visibility": null,
            "width": null
          }
        },
        "90e44c2c8b9648d48536429bef979f39": {
          "model_module": "@jupyter-widgets/controls",
          "model_module_version": "1.5.0",
          "model_name": "DescriptionStyleModel",
          "state": {
            "_model_module": "@jupyter-widgets/controls",
            "_model_module_version": "1.5.0",
            "_model_name": "DescriptionStyleModel",
            "_view_count": null,
            "_view_module": "@jupyter-widgets/base",
            "_view_module_version": "1.2.0",
            "_view_name": "StyleView",
            "description_width": ""
          }
        },
        "91b558116cf1454fbde3aa3d5b2c9cf1": {
          "model_module": "@jupyter-widgets/controls",
          "model_module_version": "1.5.0",
          "model_name": "DescriptionStyleModel",
          "state": {
            "_model_module": "@jupyter-widgets/controls",
            "_model_module_version": "1.5.0",
            "_model_name": "DescriptionStyleModel",
            "_view_count": null,
            "_view_module": "@jupyter-widgets/base",
            "_view_module_version": "1.2.0",
            "_view_name": "StyleView",
            "description_width": ""
          }
        },
        "9a99c353e60b4463a5e62cde66544003": {
          "model_module": "@jupyter-widgets/controls",
          "model_module_version": "1.5.0",
          "model_name": "FloatProgressModel",
          "state": {
            "_dom_classes": [],
            "_model_module": "@jupyter-widgets/controls",
            "_model_module_version": "1.5.0",
            "_model_name": "FloatProgressModel",
            "_view_count": null,
            "_view_module": "@jupyter-widgets/controls",
            "_view_module_version": "1.5.0",
            "_view_name": "ProgressView",
            "bar_style": "success",
            "description": "",
            "description_tooltip": null,
            "layout": "IPY_MODEL_7eaf431ceb084a7fa81ea46cd6d48799",
            "max": 1537156244,
            "min": 0,
            "orientation": "horizontal",
            "style": "IPY_MODEL_9b6c89f1ca32481c9527a9b7ff24c8c4",
            "value": 1537156244
          }
        },
        "9b6c89f1ca32481c9527a9b7ff24c8c4": {
          "model_module": "@jupyter-widgets/controls",
          "model_module_version": "1.5.0",
          "model_name": "ProgressStyleModel",
          "state": {
            "_model_module": "@jupyter-widgets/controls",
            "_model_module_version": "1.5.0",
            "_model_name": "ProgressStyleModel",
            "_view_count": null,
            "_view_module": "@jupyter-widgets/base",
            "_view_module_version": "1.2.0",
            "_view_name": "StyleView",
            "bar_color": null,
            "description_width": ""
          }
        },
        "9e05a32c64694cbf9d7fe6fbabf271aa": {
          "model_module": "@jupyter-widgets/controls",
          "model_module_version": "1.5.0",
          "model_name": "ProgressStyleModel",
          "state": {
            "_model_module": "@jupyter-widgets/controls",
            "_model_module_version": "1.5.0",
            "_model_name": "ProgressStyleModel",
            "_view_count": null,
            "_view_module": "@jupyter-widgets/base",
            "_view_module_version": "1.2.0",
            "_view_name": "StyleView",
            "bar_color": null,
            "description_width": ""
          }
        },
        "a524e86738e54d88baada848f38cf40c": {
          "model_module": "@jupyter-widgets/base",
          "model_module_version": "1.2.0",
          "model_name": "LayoutModel",
          "state": {
            "_model_module": "@jupyter-widgets/base",
            "_model_module_version": "1.2.0",
            "_model_name": "LayoutModel",
            "_view_count": null,
            "_view_module": "@jupyter-widgets/base",
            "_view_module_version": "1.2.0",
            "_view_name": "LayoutView",
            "align_content": null,
            "align_items": null,
            "align_self": null,
            "border": null,
            "bottom": null,
            "display": null,
            "flex": null,
            "flex_flow": null,
            "grid_area": null,
            "grid_auto_columns": null,
            "grid_auto_flow": null,
            "grid_auto_rows": null,
            "grid_column": null,
            "grid_gap": null,
            "grid_row": null,
            "grid_template_areas": null,
            "grid_template_columns": null,
            "grid_template_rows": null,
            "height": null,
            "justify_content": null,
            "justify_items": null,
            "left": null,
            "margin": null,
            "max_height": null,
            "max_width": null,
            "min_height": null,
            "min_width": null,
            "object_fit": null,
            "object_position": null,
            "order": null,
            "overflow": null,
            "overflow_x": null,
            "overflow_y": null,
            "padding": null,
            "right": null,
            "top": null,
            "visibility": null,
            "width": null
          }
        },
        "a75a2f7ec8054171b2bcf7a0c275e03f": {
          "model_module": "@jupyter-widgets/controls",
          "model_module_version": "1.5.0",
          "model_name": "HTMLModel",
          "state": {
            "_dom_classes": [],
            "_model_module": "@jupyter-widgets/controls",
            "_model_module_version": "1.5.0",
            "_model_name": "HTMLModel",
            "_view_count": null,
            "_view_module": "@jupyter-widgets/controls",
            "_view_module_version": "1.5.0",
            "_view_name": "HTMLView",
            "description": "",
            "description_tooltip": null,
            "layout": "IPY_MODEL_71b24e8551f64e1f8870ccddfe19f89b",
            "placeholder": "​",
            "style": "IPY_MODEL_516c7791a21d4421a5583bbeb746de04",
            "value": "vocab.json: 100%"
          }
        },
        "a9840608a92a4f9e838e58ac20f9364d": {
          "model_module": "@jupyter-widgets/base",
          "model_module_version": "1.2.0",
          "model_name": "LayoutModel",
          "state": {
            "_model_module": "@jupyter-widgets/base",
            "_model_module_version": "1.2.0",
            "_model_name": "LayoutModel",
            "_view_count": null,
            "_view_module": "@jupyter-widgets/base",
            "_view_module_version": "1.2.0",
            "_view_name": "LayoutView",
            "align_content": null,
            "align_items": null,
            "align_self": null,
            "border": null,
            "bottom": null,
            "display": null,
            "flex": null,
            "flex_flow": null,
            "grid_area": null,
            "grid_auto_columns": null,
            "grid_auto_flow": null,
            "grid_auto_rows": null,
            "grid_column": null,
            "grid_gap": null,
            "grid_row": null,
            "grid_template_areas": null,
            "grid_template_columns": null,
            "grid_template_rows": null,
            "height": null,
            "justify_content": null,
            "justify_items": null,
            "left": null,
            "margin": null,
            "max_height": null,
            "max_width": null,
            "min_height": null,
            "min_width": null,
            "object_fit": null,
            "object_position": null,
            "order": null,
            "overflow": null,
            "overflow_x": null,
            "overflow_y": null,
            "padding": null,
            "right": null,
            "top": null,
            "visibility": null,
            "width": null
          }
        },
        "a9c19b2260fc47b7aab5a51fa70f84ec": {
          "model_module": "@jupyter-widgets/controls",
          "model_module_version": "1.5.0",
          "model_name": "HTMLModel",
          "state": {
            "_dom_classes": [],
            "_model_module": "@jupyter-widgets/controls",
            "_model_module_version": "1.5.0",
            "_model_name": "HTMLModel",
            "_view_count": null,
            "_view_module": "@jupyter-widgets/controls",
            "_view_module_version": "1.5.0",
            "_view_name": "HTMLView",
            "description": "",
            "description_tooltip": null,
            "layout": "IPY_MODEL_09bce4098da2407880bebfa3ab326440",
            "placeholder": "​",
            "style": "IPY_MODEL_24cefa1dcf8344db858bdcc064bc354d",
            "value": "generation_config.json: 100%"
          }
        },
        "ab03807c7a024978a1391d92b702a6ec": {
          "model_module": "@jupyter-widgets/base",
          "model_module_version": "1.2.0",
          "model_name": "LayoutModel",
          "state": {
            "_model_module": "@jupyter-widgets/base",
            "_model_module_version": "1.2.0",
            "_model_name": "LayoutModel",
            "_view_count": null,
            "_view_module": "@jupyter-widgets/base",
            "_view_module_version": "1.2.0",
            "_view_name": "LayoutView",
            "align_content": null,
            "align_items": null,
            "align_self": null,
            "border": null,
            "bottom": null,
            "display": null,
            "flex": null,
            "flex_flow": null,
            "grid_area": null,
            "grid_auto_columns": null,
            "grid_auto_flow": null,
            "grid_auto_rows": null,
            "grid_column": null,
            "grid_gap": null,
            "grid_row": null,
            "grid_template_areas": null,
            "grid_template_columns": null,
            "grid_template_rows": null,
            "height": null,
            "justify_content": null,
            "justify_items": null,
            "left": null,
            "margin": null,
            "max_height": null,
            "max_width": null,
            "min_height": null,
            "min_width": null,
            "object_fit": null,
            "object_position": null,
            "order": null,
            "overflow": null,
            "overflow_x": null,
            "overflow_y": null,
            "padding": null,
            "right": null,
            "top": null,
            "visibility": null,
            "width": null
          }
        },
        "ab0b03390f5b42b39cb985dfcc35d262": {
          "model_module": "@jupyter-widgets/controls",
          "model_module_version": "1.5.0",
          "model_name": "HBoxModel",
          "state": {
            "_dom_classes": [],
            "_model_module": "@jupyter-widgets/controls",
            "_model_module_version": "1.5.0",
            "_model_name": "HBoxModel",
            "_view_count": null,
            "_view_module": "@jupyter-widgets/controls",
            "_view_module_version": "1.5.0",
            "_view_name": "HBoxView",
            "box_style": "",
            "children": [
              "IPY_MODEL_6a32399dceda4d68a8ad8b0ee265e75f",
              "IPY_MODEL_447abcac0953471a989ce23752dc5242",
              "IPY_MODEL_4b54f209811e4c7788f595b8aa21bfe0"
            ],
            "layout": "IPY_MODEL_eb4641f1ef2247eaa9d4c0342ae165a1"
          }
        },
        "ac5903b3ded64d35a6c3e8d966cd85c0": {
          "model_module": "@jupyter-widgets/base",
          "model_module_version": "1.2.0",
          "model_name": "LayoutModel",
          "state": {
            "_model_module": "@jupyter-widgets/base",
            "_model_module_version": "1.2.0",
            "_model_name": "LayoutModel",
            "_view_count": null,
            "_view_module": "@jupyter-widgets/base",
            "_view_module_version": "1.2.0",
            "_view_name": "LayoutView",
            "align_content": null,
            "align_items": null,
            "align_self": null,
            "border": null,
            "bottom": null,
            "display": null,
            "flex": null,
            "flex_flow": null,
            "grid_area": null,
            "grid_auto_columns": null,
            "grid_auto_flow": null,
            "grid_auto_rows": null,
            "grid_column": null,
            "grid_gap": null,
            "grid_row": null,
            "grid_template_areas": null,
            "grid_template_columns": null,
            "grid_template_rows": null,
            "height": null,
            "justify_content": null,
            "justify_items": null,
            "left": null,
            "margin": null,
            "max_height": null,
            "max_width": null,
            "min_height": null,
            "min_width": null,
            "object_fit": null,
            "object_position": null,
            "order": null,
            "overflow": null,
            "overflow_x": null,
            "overflow_y": null,
            "padding": null,
            "right": null,
            "top": null,
            "visibility": null,
            "width": null
          }
        },
        "afbfb3f5d7674998a8b34e7a93fd2e6b": {
          "model_module": "@jupyter-widgets/controls",
          "model_module_version": "1.5.0",
          "model_name": "HTMLModel",
          "state": {
            "_dom_classes": [],
            "_model_module": "@jupyter-widgets/controls",
            "_model_module_version": "1.5.0",
            "_model_name": "HTMLModel",
            "_view_count": null,
            "_view_module": "@jupyter-widgets/controls",
            "_view_module_version": "1.5.0",
            "_view_name": "HTMLView",
            "description": "",
            "description_tooltip": null,
            "layout": "IPY_MODEL_a9840608a92a4f9e838e58ac20f9364d",
            "placeholder": "​",
            "style": "IPY_MODEL_f866bbc8869440c3981023cb0a223ba6",
            "value": "tokenizer_config.json: 100%"
          }
        },
        "afce2423f728403f9b18cf53ec28be13": {
          "model_module": "@jupyter-widgets/controls",
          "model_module_version": "1.5.0",
          "model_name": "FloatProgressModel",
          "state": {
            "_dom_classes": [],
            "_model_module": "@jupyter-widgets/controls",
            "_model_module_version": "1.5.0",
            "_model_name": "FloatProgressModel",
            "_view_count": null,
            "_view_module": "@jupyter-widgets/controls",
            "_view_module_version": "1.5.0",
            "_view_name": "ProgressView",
            "bar_style": "success",
            "description": "",
            "description_tooltip": null,
            "layout": "IPY_MODEL_e5094c36f8704adeac9ee6535c8469fd",
            "max": 898822,
            "min": 0,
            "orientation": "horizontal",
            "style": "IPY_MODEL_5f1fe0113c1c435283d4e76f4a38be5c",
            "value": 898822
          }
        },
        "b335db6b6d1c4c13a23d1ef5163c7fba": {
          "model_module": "@jupyter-widgets/controls",
          "model_module_version": "1.5.0",
          "model_name": "DescriptionStyleModel",
          "state": {
            "_model_module": "@jupyter-widgets/controls",
            "_model_module_version": "1.5.0",
            "_model_name": "DescriptionStyleModel",
            "_view_count": null,
            "_view_module": "@jupyter-widgets/base",
            "_view_module_version": "1.2.0",
            "_view_name": "StyleView",
            "description_width": ""
          }
        },
        "b43e84fb337a4959986c78c88df4b88c": {
          "model_module": "@jupyter-widgets/controls",
          "model_module_version": "1.5.0",
          "model_name": "DescriptionStyleModel",
          "state": {
            "_model_module": "@jupyter-widgets/controls",
            "_model_module_version": "1.5.0",
            "_model_name": "DescriptionStyleModel",
            "_view_count": null,
            "_view_module": "@jupyter-widgets/base",
            "_view_module_version": "1.2.0",
            "_view_name": "StyleView",
            "description_width": ""
          }
        },
        "b8922e7b5a8e4b7a929505c4f75e8a37": {
          "model_module": "@jupyter-widgets/controls",
          "model_module_version": "1.5.0",
          "model_name": "DescriptionStyleModel",
          "state": {
            "_model_module": "@jupyter-widgets/controls",
            "_model_module_version": "1.5.0",
            "_model_name": "DescriptionStyleModel",
            "_view_count": null,
            "_view_module": "@jupyter-widgets/base",
            "_view_module_version": "1.2.0",
            "_view_name": "StyleView",
            "description_width": ""
          }
        },
        "ba2d3ff299504a0fa6f3cd428abb3428": {
          "model_module": "@jupyter-widgets/controls",
          "model_module_version": "1.5.0",
          "model_name": "HBoxModel",
          "state": {
            "_dom_classes": [],
            "_model_module": "@jupyter-widgets/controls",
            "_model_module_version": "1.5.0",
            "_model_name": "HBoxModel",
            "_view_count": null,
            "_view_module": "@jupyter-widgets/controls",
            "_view_module_version": "1.5.0",
            "_view_name": "HBoxView",
            "box_style": "",
            "children": [
              "IPY_MODEL_a75a2f7ec8054171b2bcf7a0c275e03f",
              "IPY_MODEL_afce2423f728403f9b18cf53ec28be13",
              "IPY_MODEL_3d75c92289c3486b92130ea24468daf5"
            ],
            "layout": "IPY_MODEL_a524e86738e54d88baada848f38cf40c"
          }
        },
        "cfe8a41bd0d149358cc4d2cdfb35fade": {
          "model_module": "@jupyter-widgets/controls",
          "model_module_version": "1.5.0",
          "model_name": "ProgressStyleModel",
          "state": {
            "_model_module": "@jupyter-widgets/controls",
            "_model_module_version": "1.5.0",
            "_model_name": "ProgressStyleModel",
            "_view_count": null,
            "_view_module": "@jupyter-widgets/base",
            "_view_module_version": "1.2.0",
            "_view_name": "StyleView",
            "bar_color": null,
            "description_width": ""
          }
        },
        "d3770e8e233542219d18d48a93bf3ad1": {
          "model_module": "@jupyter-widgets/controls",
          "model_module_version": "1.5.0",
          "model_name": "HTMLModel",
          "state": {
            "_dom_classes": [],
            "_model_module": "@jupyter-widgets/controls",
            "_model_module_version": "1.5.0",
            "_model_name": "HTMLModel",
            "_view_count": null,
            "_view_module": "@jupyter-widgets/controls",
            "_view_module_version": "1.5.0",
            "_view_name": "HTMLView",
            "description": "",
            "description_tooltip": null,
            "layout": "IPY_MODEL_8dbd72dd30184fbd8435ed465fbeeeae",
            "placeholder": "​",
            "style": "IPY_MODEL_b8922e7b5a8e4b7a929505c4f75e8a37",
            "value": "special_tokens_map.json: 100%"
          }
        },
        "d4c3fc8643ce41e0a5cf39c0060c69c9": {
          "model_module": "@jupyter-widgets/controls",
          "model_module_version": "1.5.0",
          "model_name": "HTMLModel",
          "state": {
            "_dom_classes": [],
            "_model_module": "@jupyter-widgets/controls",
            "_model_module_version": "1.5.0",
            "_model_name": "HTMLModel",
            "_view_count": null,
            "_view_module": "@jupyter-widgets/controls",
            "_view_module_version": "1.5.0",
            "_view_name": "HTMLView",
            "description": "",
            "description_tooltip": null,
            "layout": "IPY_MODEL_d979628192d8412f9bcfcb5f6d16562a",
            "placeholder": "​",
            "style": "IPY_MODEL_4ca3a32b17a74d73b1645e029d97281e",
            "value": "model.safetensors: 100%"
          }
        },
        "d8191c83fdbb455789f52de8b9791c0f": {
          "model_module": "@jupyter-widgets/controls",
          "model_module_version": "1.5.0",
          "model_name": "HBoxModel",
          "state": {
            "_dom_classes": [],
            "_model_module": "@jupyter-widgets/controls",
            "_model_module_version": "1.5.0",
            "_model_name": "HBoxModel",
            "_view_count": null,
            "_view_module": "@jupyter-widgets/controls",
            "_view_module_version": "1.5.0",
            "_view_name": "HBoxView",
            "box_style": "",
            "children": [
              "IPY_MODEL_83f4e6475c9d460db289733998973397",
              "IPY_MODEL_3e5dd4f91ec8418c90c676d3433a0e07",
              "IPY_MODEL_844642e816c244e7a9c7688fd5f476fe"
            ],
            "layout": "IPY_MODEL_8953a060fb3344c89c587401d17013fd"
          }
        },
        "d979628192d8412f9bcfcb5f6d16562a": {
          "model_module": "@jupyter-widgets/base",
          "model_module_version": "1.2.0",
          "model_name": "LayoutModel",
          "state": {
            "_model_module": "@jupyter-widgets/base",
            "_model_module_version": "1.2.0",
            "_model_name": "LayoutModel",
            "_view_count": null,
            "_view_module": "@jupyter-widgets/base",
            "_view_module_version": "1.2.0",
            "_view_name": "LayoutView",
            "align_content": null,
            "align_items": null,
            "align_self": null,
            "border": null,
            "bottom": null,
            "display": null,
            "flex": null,
            "flex_flow": null,
            "grid_area": null,
            "grid_auto_columns": null,
            "grid_auto_flow": null,
            "grid_auto_rows": null,
            "grid_column": null,
            "grid_gap": null,
            "grid_row": null,
            "grid_template_areas": null,
            "grid_template_columns": null,
            "grid_template_rows": null,
            "height": null,
            "justify_content": null,
            "justify_items": null,
            "left": null,
            "margin": null,
            "max_height": null,
            "max_width": null,
            "min_height": null,
            "min_width": null,
            "object_fit": null,
            "object_position": null,
            "order": null,
            "overflow": null,
            "overflow_x": null,
            "overflow_y": null,
            "padding": null,
            "right": null,
            "top": null,
            "visibility": null,
            "width": null
          }
        },
        "ddfe6daa982147dbbd0106b5e2eb64a7": {
          "model_module": "@jupyter-widgets/base",
          "model_module_version": "1.2.0",
          "model_name": "LayoutModel",
          "state": {
            "_model_module": "@jupyter-widgets/base",
            "_model_module_version": "1.2.0",
            "_model_name": "LayoutModel",
            "_view_count": null,
            "_view_module": "@jupyter-widgets/base",
            "_view_module_version": "1.2.0",
            "_view_name": "LayoutView",
            "align_content": null,
            "align_items": null,
            "align_self": null,
            "border": null,
            "bottom": null,
            "display": null,
            "flex": null,
            "flex_flow": null,
            "grid_area": null,
            "grid_auto_columns": null,
            "grid_auto_flow": null,
            "grid_auto_rows": null,
            "grid_column": null,
            "grid_gap": null,
            "grid_row": null,
            "grid_template_areas": null,
            "grid_template_columns": null,
            "grid_template_rows": null,
            "height": null,
            "justify_content": null,
            "justify_items": null,
            "left": null,
            "margin": null,
            "max_height": null,
            "max_width": null,
            "min_height": null,
            "min_width": null,
            "object_fit": null,
            "object_position": null,
            "order": null,
            "overflow": null,
            "overflow_x": null,
            "overflow_y": null,
            "padding": null,
            "right": null,
            "top": null,
            "visibility": null,
            "width": null
          }
        },
        "e3027b54550b4117a98e13362e877474": {
          "model_module": "@jupyter-widgets/controls",
          "model_module_version": "1.5.0",
          "model_name": "HTMLModel",
          "state": {
            "_dom_classes": [],
            "_model_module": "@jupyter-widgets/controls",
            "_model_module_version": "1.5.0",
            "_model_name": "HTMLModel",
            "_view_count": null,
            "_view_module": "@jupyter-widgets/controls",
            "_view_module_version": "1.5.0",
            "_view_name": "HTMLView",
            "description": "",
            "description_tooltip": null,
            "layout": "IPY_MODEL_ac5903b3ded64d35a6c3e8d966cd85c0",
            "placeholder": "​",
            "style": "IPY_MODEL_6a65604ef9534380a1e6384df40a6a19",
            "value": " 190/190 [00:00&lt;00:00, 21.8kB/s]"
          }
        },
        "e5094c36f8704adeac9ee6535c8469fd": {
          "model_module": "@jupyter-widgets/base",
          "model_module_version": "1.2.0",
          "model_name": "LayoutModel",
          "state": {
            "_model_module": "@jupyter-widgets/base",
            "_model_module_version": "1.2.0",
            "_model_name": "LayoutModel",
            "_view_count": null,
            "_view_module": "@jupyter-widgets/base",
            "_view_module_version": "1.2.0",
            "_view_name": "LayoutView",
            "align_content": null,
            "align_items": null,
            "align_self": null,
            "border": null,
            "bottom": null,
            "display": null,
            "flex": null,
            "flex_flow": null,
            "grid_area": null,
            "grid_auto_columns": null,
            "grid_auto_flow": null,
            "grid_auto_rows": null,
            "grid_column": null,
            "grid_gap": null,
            "grid_row": null,
            "grid_template_areas": null,
            "grid_template_columns": null,
            "grid_template_rows": null,
            "height": null,
            "justify_content": null,
            "justify_items": null,
            "left": null,
            "margin": null,
            "max_height": null,
            "max_width": null,
            "min_height": null,
            "min_width": null,
            "object_fit": null,
            "object_position": null,
            "order": null,
            "overflow": null,
            "overflow_x": null,
            "overflow_y": null,
            "padding": null,
            "right": null,
            "top": null,
            "visibility": null,
            "width": null
          }
        },
        "e52d901a1a4c43d6b0f0c9d4baaa99b6": {
          "model_module": "@jupyter-widgets/controls",
          "model_module_version": "1.5.0",
          "model_name": "HTMLModel",
          "state": {
            "_dom_classes": [],
            "_model_module": "@jupyter-widgets/controls",
            "_model_module_version": "1.5.0",
            "_model_name": "HTMLModel",
            "_view_count": null,
            "_view_module": "@jupyter-widgets/controls",
            "_view_module_version": "1.5.0",
            "_view_name": "HTMLView",
            "description": "",
            "description_tooltip": null,
            "layout": "IPY_MODEL_f7a59db0a66440ba801b0422cb56d8fa",
            "placeholder": "​",
            "style": "IPY_MODEL_90e44c2c8b9648d48536429bef979f39",
            "value": " 456k/456k [00:00&lt;00:00, 25.9MB/s]"
          }
        },
        "eb4641f1ef2247eaa9d4c0342ae165a1": {
          "model_module": "@jupyter-widgets/base",
          "model_module_version": "1.2.0",
          "model_name": "LayoutModel",
          "state": {
            "_model_module": "@jupyter-widgets/base",
            "_model_module_version": "1.2.0",
            "_model_name": "LayoutModel",
            "_view_count": null,
            "_view_module": "@jupyter-widgets/base",
            "_view_module_version": "1.2.0",
            "_view_name": "LayoutView",
            "align_content": null,
            "align_items": null,
            "align_self": null,
            "border": null,
            "bottom": null,
            "display": null,
            "flex": null,
            "flex_flow": null,
            "grid_area": null,
            "grid_auto_columns": null,
            "grid_auto_flow": null,
            "grid_auto_rows": null,
            "grid_column": null,
            "grid_gap": null,
            "grid_row": null,
            "grid_template_areas": null,
            "grid_template_columns": null,
            "grid_template_rows": null,
            "height": null,
            "justify_content": null,
            "justify_items": null,
            "left": null,
            "margin": null,
            "max_height": null,
            "max_width": null,
            "min_height": null,
            "min_width": null,
            "object_fit": null,
            "object_position": null,
            "order": null,
            "overflow": null,
            "overflow_x": null,
            "overflow_y": null,
            "padding": null,
            "right": null,
            "top": null,
            "visibility": null,
            "width": null
          }
        },
        "f38805eeb08d4e76b2f8e48a3c553a6a": {
          "model_module": "@jupyter-widgets/controls",
          "model_module_version": "1.5.0",
          "model_name": "HBoxModel",
          "state": {
            "_dom_classes": [],
            "_model_module": "@jupyter-widgets/controls",
            "_model_module_version": "1.5.0",
            "_model_name": "HBoxModel",
            "_view_count": null,
            "_view_module": "@jupyter-widgets/controls",
            "_view_module_version": "1.5.0",
            "_view_name": "HBoxView",
            "box_style": "",
            "children": [
              "IPY_MODEL_d3770e8e233542219d18d48a93bf3ad1",
              "IPY_MODEL_1e192f47fae74734936c28c3e3f1a6a8",
              "IPY_MODEL_5eb7b4331fab4e17a420f8e89fcecb1b"
            ],
            "layout": "IPY_MODEL_ab03807c7a024978a1391d92b702a6ec"
          }
        },
        "f7a59db0a66440ba801b0422cb56d8fa": {
          "model_module": "@jupyter-widgets/base",
          "model_module_version": "1.2.0",
          "model_name": "LayoutModel",
          "state": {
            "_model_module": "@jupyter-widgets/base",
            "_model_module_version": "1.2.0",
            "_model_name": "LayoutModel",
            "_view_count": null,
            "_view_module": "@jupyter-widgets/base",
            "_view_module_version": "1.2.0",
            "_view_name": "LayoutView",
            "align_content": null,
            "align_items": null,
            "align_self": null,
            "border": null,
            "bottom": null,
            "display": null,
            "flex": null,
            "flex_flow": null,
            "grid_area": null,
            "grid_auto_columns": null,
            "grid_auto_flow": null,
            "grid_auto_rows": null,
            "grid_column": null,
            "grid_gap": null,
            "grid_row": null,
            "grid_template_areas": null,
            "grid_template_columns": null,
            "grid_template_rows": null,
            "height": null,
            "justify_content": null,
            "justify_items": null,
            "left": null,
            "margin": null,
            "max_height": null,
            "max_width": null,
            "min_height": null,
            "min_width": null,
            "object_fit": null,
            "object_position": null,
            "order": null,
            "overflow": null,
            "overflow_x": null,
            "overflow_y": null,
            "padding": null,
            "right": null,
            "top": null,
            "visibility": null,
            "width": null
          }
        },
        "f866bbc8869440c3981023cb0a223ba6": {
          "model_module": "@jupyter-widgets/controls",
          "model_module_version": "1.5.0",
          "model_name": "DescriptionStyleModel",
          "state": {
            "_model_module": "@jupyter-widgets/controls",
            "_model_module_version": "1.5.0",
            "_model_name": "DescriptionStyleModel",
            "_view_count": null,
            "_view_module": "@jupyter-widgets/base",
            "_view_module_version": "1.2.0",
            "_view_name": "StyleView",
            "description_width": ""
          }
        },
        "fa0de6fa2e34489ba74235dc9b9da31f": {
          "model_module": "@jupyter-widgets/controls",
          "model_module_version": "1.5.0",
          "model_name": "ProgressStyleModel",
          "state": {
            "_model_module": "@jupyter-widgets/controls",
            "_model_module_version": "1.5.0",
            "_model_name": "ProgressStyleModel",
            "_view_count": null,
            "_view_module": "@jupyter-widgets/base",
            "_view_module_version": "1.2.0",
            "_view_name": "StyleView",
            "bar_color": null,
            "description_width": ""
          }
        }
      }
    }
  },
  "nbformat": 4,
  "nbformat_minor": 0
}
